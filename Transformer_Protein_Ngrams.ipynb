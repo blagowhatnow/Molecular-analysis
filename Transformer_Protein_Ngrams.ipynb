{
 "cells": [
  {
   "cell_type": "code",
   "execution_count": 43,
   "id": "425058fa",
   "metadata": {},
   "outputs": [],
   "source": [
    "import numpy as np \n",
    "import pandas as pd"
   ]
  },
  {
   "cell_type": "code",
   "execution_count": 44,
   "id": "1e4b6b76",
   "metadata": {},
   "outputs": [],
   "source": [
    "df=pd.read_csv(\"train.csv\")"
   ]
  },
  {
   "cell_type": "code",
   "execution_count": 45,
   "id": "e2cc7c9a",
   "metadata": {},
   "outputs": [],
   "source": [
    "sequences=df['protein_sequence']\n",
    "y_vals=df['tm']"
   ]
  },
  {
   "cell_type": "code",
   "execution_count": 46,
   "id": "9a9a6577",
   "metadata": {},
   "outputs": [],
   "source": [
    "from nltk import ngrams"
   ]
  },
  {
   "cell_type": "code",
   "execution_count": 47,
   "id": "1af8a25e",
   "metadata": {},
   "outputs": [],
   "source": [
    "char_seq = {'AA': 0}\n",
    "\n",
    "max_seq = 0\n",
    "\n",
    "import functools\n",
    "\n",
    "# @functools.lru_cache(maxsize=None)\n",
    "def get_char_index(c):\n",
    "    \n",
    "    if c in char_seq.keys():\n",
    "        return char_seq[c]\n",
    "    else:\n",
    "        char_seq[c] = len(char_seq)\n",
    "    \n",
    "    return len(char_seq)\n",
    "            \n",
    "def to_seq(string):\n",
    "    \n",
    "    new_seq = [get_char_index(\"\".join(t)) for t in ngrams(string, n=2)]\n",
    "    \n",
    "    return new_seq\n",
    "        \n",
    "    return counts\n",
    "\n",
    "\n",
    "def create_features(df):\n",
    "    \n",
    "    df['seq'] = df['protein_sequence'].apply(to_seq)\n",
    "    \n",
    "#     df['counts'] = df['protein_sequence'].apply(get_counts)\n",
    "        \n",
    "    print(len(char_seq))\n",
    "\n",
    "    return df"
   ]
  },
  {
   "cell_type": "code",
   "execution_count": 48,
   "id": "886b9126",
   "metadata": {},
   "outputs": [
    {
     "name": "stdout",
     "output_type": "stream",
     "text": [
      "400\n"
     ]
    }
   ],
   "source": [
    "df = create_features(df)"
   ]
  },
  {
   "cell_type": "code",
   "execution_count": 49,
   "id": "9acef1d4",
   "metadata": {},
   "outputs": [],
   "source": [
    "import tensorflow\n",
    "from tensorflow.keras.preprocessing import sequence\n",
    "max_words = 1_000\n",
    "\n",
    "X_train = sequence.pad_sequences(df['seq'].values, maxlen=max_words)\n",
    "\n",
    "y_train = df['tm'].values"
   ]
  },
  {
   "cell_type": "code",
   "execution_count": 51,
   "id": "c21cbc86",
   "metadata": {},
   "outputs": [],
   "source": [
    "X_train=X_train.reshape(X_train.shape[0],X_train.shape[1],1)"
   ]
  },
  {
   "cell_type": "code",
   "execution_count": 52,
   "id": "c4b16e80",
   "metadata": {},
   "outputs": [],
   "source": [
    "class TransformerBlock(tensorflow.keras.layers.Layer):\n",
    "    def __init__(self, embed_dim, feat_dim, num_heads, ff_dim, rate=0.1):\n",
    "        super(TransformerBlock, self).__init__()\n",
    "        self.att = tensorflow.keras.layers.MultiHeadAttention(num_heads=num_heads, key_dim=embed_dim)\n",
    "        self.ffn = tensorflow.keras.Sequential(\n",
    "            [tensorflow.keras.layers.Dense(ff_dim, activation=\"gelu\"), tensorflow.keras.layers.Dense(feat_dim),]\n",
    "        )\n",
    "        self.layernorm1 = tensorflow.keras.layers.LayerNormalization(epsilon=1e-6)\n",
    "        self.layernorm2 = tensorflow.keras.layers.LayerNormalization(epsilon=1e-6)\n",
    "        self.dropout1 = tensorflow.keras.layers.Dropout(rate)\n",
    "        self.dropout2 = tensorflow.keras.layers.Dropout(rate)\n",
    "\n",
    "    def call(self, inputs, training):\n",
    "        attn_output = self.att(inputs, inputs)\n",
    "        attn_output = self.dropout1(attn_output, training=training)\n",
    "        out1 = self.layernorm1(inputs + attn_output)\n",
    "        ffn_output = self.ffn(out1)\n",
    "        ffn_output = self.dropout2(ffn_output, training=training)\n",
    "        return self.layernorm2(out1 + ffn_output)"
   ]
  },
  {
   "cell_type": "code",
   "execution_count": 53,
   "id": "e3dddac6",
   "metadata": {},
   "outputs": [],
   "source": [
    "feat_dim = X_train.shape[-1] + 32\n",
    "embed_dim = 64  # Embedding size for attention\n",
    "num_heads = 8  # Number of attention heads\n",
    "ff_dim = 128  # Hidden layer size in feed forward network inside transformer\n",
    "dropout_rate = 0.0\n",
    "num_blocks = 12"
   ]
  },
  {
   "cell_type": "code",
   "execution_count": 54,
   "id": "a684a0b2",
   "metadata": {},
   "outputs": [],
   "source": [
    "def build_model():\n",
    "    inputs = tensorflow.keras.layers.Input(shape=X_train.shape[-2:])\n",
    "        \n",
    "    # \"EMBEDDING LAYER\"\n",
    "    x = tensorflow.keras.layers.Dense(feat_dim)(inputs)\n",
    "    x = tensorflow.keras.layers.LayerNormalization(epsilon=1e-6)(x)\n",
    "    \n",
    "    # TRANSFORMER BLOCKS\n",
    "    for k in range(num_blocks):\n",
    "        x_old = x\n",
    "        transformer_block = TransformerBlock(embed_dim, feat_dim, num_heads, ff_dim, dropout_rate)\n",
    "        x = transformer_block(x)\n",
    "        x = 0.7*x + 0.3*x_old # SKIP CONNECTION\n",
    "    \n",
    "    # REGRESSION HEAD\n",
    "    x = tensorflow.keras.layers.Dense(128, activation=\"selu\")(x)\n",
    "    x = tensorflow.keras.layers.Dropout(dropout_rate)(x)\n",
    "    outputs = tensorflow.keras.layers.Dense(1, activation=\"linear\")(x)\n",
    "    model = tensorflow.keras.Model(inputs=inputs, outputs=outputs)\n",
    "        \n",
    "    return model"
   ]
  },
  {
   "cell_type": "code",
   "execution_count": 55,
   "id": "bc84a082",
   "metadata": {
    "scrolled": true
   },
   "outputs": [
    {
     "name": "stdout",
     "output_type": "stream",
     "text": [
      "Learning rate schedule: 0.0006 to 0.0006 to 1e-06\n"
     ]
    },
    {
     "data": {
      "image/png": "[encoded data removed]",
      "text/plain": [
       "<Figure size 720x288 with 1 Axes>"
      ]
     },
     "metadata": {
      "needs_background": "light"
     },
     "output_type": "display_data"
    }
   ],
   "source": [
    "import tensorflow\n",
    "import math \n",
    "import matplotlib.pyplot as plt\n",
    "\n",
    "LR_START = 1e-6\n",
    "LR_MAX = 6e-4\n",
    "LR_MIN = 1e-6\n",
    "LR_RAMPUP_EPOCHS = 0\n",
    "LR_SUSTAIN_EPOCHS = 0\n",
    "EPOCHS = 420\n",
    "STEPS = [60,120,240]\n",
    "\n",
    "\n",
    "def lrfn(epoch):\n",
    "    if epoch<STEPS[0]:\n",
    "        epoch2 = epoch\n",
    "        EPOCHS2 = STEPS[0]\n",
    "    elif epoch<STEPS[0]+STEPS[1]:\n",
    "        epoch2 = epoch-STEPS[0]\n",
    "        EPOCHS2 = STEPS[1]\n",
    "    elif epoch<STEPS[0]+STEPS[1]+STEPS[2]:\n",
    "        epoch2 = epoch-STEPS[0]-STEPS[1]\n",
    "        EPOCHS2 = STEPS[2]\n",
    "    \n",
    "    if epoch2 < LR_RAMPUP_EPOCHS:\n",
    "        lr = (LR_MAX - LR_START) / LR_RAMPUP_EPOCHS * epoch2 + LR_START\n",
    "    elif epoch2 < LR_RAMPUP_EPOCHS + LR_SUSTAIN_EPOCHS:\n",
    "        lr = LR_MAX\n",
    "    else:\n",
    "        decay_total_epochs = EPOCHS2 - LR_RAMPUP_EPOCHS - LR_SUSTAIN_EPOCHS - 1\n",
    "        decay_epoch_index = epoch2 - LR_RAMPUP_EPOCHS - LR_SUSTAIN_EPOCHS\n",
    "        phase = math.pi * decay_epoch_index / decay_total_epochs\n",
    "        cosine_decay = 0.5 * (1 + math.cos(phase))\n",
    "        lr = (LR_MAX - LR_MIN) * cosine_decay + LR_MIN\n",
    "    return lr\n",
    "\n",
    "rng = [i for i in range(EPOCHS)]\n",
    "lr_y = [lrfn(x) for x in rng]\n",
    "plt.figure(figsize=(10, 4))\n",
    "plt.plot(rng, lr_y, '-o')\n",
    "print(\"Learning rate schedule: {:.3g} to {:.3g} to {:.3g}\". \\\n",
    "          format(lr_y[0], max(lr_y), lr_y[-1]))\n",
    "lr_callback = tensorflow.keras.callbacks.LearningRateScheduler(lrfn, verbose = True)\n",
    "plt.xlabel('Epoch',size=14)\n",
    "plt.ylabel('Learning Rate',size=14)\n",
    "plt.show()"
   ]
  },
  {
   "cell_type": "code",
   "execution_count": 56,
   "id": "c288933e",
   "metadata": {},
   "outputs": [],
   "source": [
    "model = build_model()\n",
    "opt = tensorflow.keras.optimizers.Adam(learning_rate=0.001)\n",
    "model.compile(optimizer=opt, loss=\"mse\", sample_weight_mode=\"temporal\",metrics=['RootMeanSquaredError'])"
   ]
  },
  {
   "cell_type": "code",
   "execution_count": 57,
   "id": "730bc281",
   "metadata": {},
   "outputs": [],
   "source": [
    "EPOCH = EPOCHS\n",
    "BATCH_SIZE = 32\n",
    "NUM_FOLDS = 11\n",
    "VERBOSE = 1"
   ]
  },
  {
   "cell_type": "code",
   "execution_count": 58,
   "id": "708757e5",
   "metadata": {},
   "outputs": [
    {
     "data": {
      "text/plain": [
       "(31390, 1000, 1)"
      ]
     },
     "execution_count": 58,
     "metadata": {},
     "output_type": "execute_result"
    }
   ],
   "source": [
    "X_train.shape"
   ]
  },
  {
   "cell_type": "code",
   "execution_count": null,
   "id": "17147443",
   "metadata": {},
   "outputs": [
    {
     "name": "stdout",
     "output_type": "stream",
     "text": [
      "Epoch 1/420\n"
     ]
    }
   ],
   "source": [
    "history = model.fit(X_train, y_train, verbose=VERBOSE, epochs=EPOCH, batch_size=10)"
   ]
  }
 ],
 "metadata": {
  "kernelspec": {
   "display_name": "Python 3 (ipykernel)",
   "language": "python",
   "name": "python3"
  },
  "language_info": {
   "codemirror_mode": {
    "name": "ipython",
    "version": 3
   },
   "file_extension": ".py",
   "mimetype": "text/x-python",
   "name": "python",
   "nbconvert_exporter": "python",
   "pygments_lexer": "ipython3",
   "version": "3.9.12"
  }
 },
 "nbformat": 4,
 "nbformat_minor": 5
}
