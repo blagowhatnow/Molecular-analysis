{
 "cells": [
  {
   "cell_type": "code",
   "execution_count": 1,
   "id": "3dc4d2e2",
   "metadata": {},
   "outputs": [],
   "source": [
    "import pandas as pd\n",
    "import numpy as np\n",
    "import matplotlib.pyplot as plt\n",
    "import sklearn"
   ]
  },
  {
   "cell_type": "code",
   "execution_count": 2,
   "id": "99ba2a96",
   "metadata": {},
   "outputs": [],
   "source": [
    "df1=pd.read_csv(\"lipo.csv\")\n",
    "df2=pd.read_csv(\"logP_dataset.csv\")\n",
    "\n",
    "df1=df1.dropna()\n",
    "df2=df2.dropna()"
   ]
  },
  {
   "cell_type": "code",
   "execution_count": 3,
   "id": "d27c52ec",
   "metadata": {
    "scrolled": true
   },
   "outputs": [
    {
     "data": {
      "text/html": [
       "<div>\n",
       "<style scoped>\n",
       "    .dataframe tbody tr th:only-of-type {\n",
       "        vertical-align: middle;\n",
       "    }\n",
       "\n",
       "    .dataframe tbody tr th {\n",
       "        vertical-align: top;\n",
       "    }\n",
       "\n",
       "    .dataframe thead th {\n",
       "        text-align: right;\n",
       "    }\n",
       "</style>\n",
       "<table border=\"1\" class=\"dataframe\">\n",
       "  <thead>\n",
       "    <tr style=\"text-align: right;\">\n",
       "      <th></th>\n",
       "      <th>CMPD_CHEMBLID</th>\n",
       "      <th>exp</th>\n",
       "      <th>smiles</th>\n",
       "    </tr>\n",
       "  </thead>\n",
       "  <tbody>\n",
       "    <tr>\n",
       "      <th>0</th>\n",
       "      <td>CHEMBL596271</td>\n",
       "      <td>3.54</td>\n",
       "      <td>Cn1c(CN2CCN(CC2)c3ccc(Cl)cc3)nc4ccccc14</td>\n",
       "    </tr>\n",
       "    <tr>\n",
       "      <th>1</th>\n",
       "      <td>CHEMBL1951080</td>\n",
       "      <td>-1.18</td>\n",
       "      <td>COc1cc(OC)c(cc1NC(=O)CSCC(=O)O)S(=O)(=O)N2C(C)...</td>\n",
       "    </tr>\n",
       "    <tr>\n",
       "      <th>2</th>\n",
       "      <td>CHEMBL1771</td>\n",
       "      <td>3.69</td>\n",
       "      <td>COC(=O)[C@@H](N1CCc2sccc2C1)c3ccccc3Cl</td>\n",
       "    </tr>\n",
       "    <tr>\n",
       "      <th>3</th>\n",
       "      <td>CHEMBL234951</td>\n",
       "      <td>3.37</td>\n",
       "      <td>OC[C@H](O)CN1C(=O)C(Cc2ccccc12)NC(=O)c3cc4cc(C...</td>\n",
       "    </tr>\n",
       "    <tr>\n",
       "      <th>5</th>\n",
       "      <td>65079</td>\n",
       "      <td>3.10</td>\n",
       "      <td>Cc1cccc(C[C@H](NC(=O)c2cc(nn2C)C(C)(C)C)C(=O)N...</td>\n",
       "    </tr>\n",
       "  </tbody>\n",
       "</table>\n",
       "</div>"
      ],
      "text/plain": [
       "   CMPD_CHEMBLID   exp                                             smiles\n",
       "0   CHEMBL596271  3.54            Cn1c(CN2CCN(CC2)c3ccc(Cl)cc3)nc4ccccc14\n",
       "1  CHEMBL1951080 -1.18  COc1cc(OC)c(cc1NC(=O)CSCC(=O)O)S(=O)(=O)N2C(C)...\n",
       "2     CHEMBL1771  3.69             COC(=O)[C@@H](N1CCc2sccc2C1)c3ccccc3Cl\n",
       "3   CHEMBL234951  3.37  OC[C@H](O)CN1C(=O)C(Cc2ccccc12)NC(=O)c3cc4cc(C...\n",
       "5          65079  3.10  Cc1cccc(C[C@H](NC(=O)c2cc(nn2C)C(C)(C)C)C(=O)N..."
      ]
     },
     "execution_count": 3,
     "metadata": {},
     "output_type": "execute_result"
    }
   ],
   "source": [
    "df1.head()"
   ]
  },
  {
   "cell_type": "code",
   "execution_count": 4,
   "id": "8395f1ea",
   "metadata": {},
   "outputs": [
    {
     "data": {
      "text/plain": [
       "(4200, 3)"
      ]
     },
     "execution_count": 4,
     "metadata": {},
     "output_type": "execute_result"
    }
   ],
   "source": [
    "df1.shape"
   ]
  },
  {
   "cell_type": "code",
   "execution_count": 5,
   "id": "aebaaa2d",
   "metadata": {},
   "outputs": [
    {
     "data": {
      "text/html": [
       "<div>\n",
       "<style scoped>\n",
       "    .dataframe tbody tr th:only-of-type {\n",
       "        vertical-align: middle;\n",
       "    }\n",
       "\n",
       "    .dataframe tbody tr th {\n",
       "        vertical-align: top;\n",
       "    }\n",
       "\n",
       "    .dataframe thead th {\n",
       "        text-align: right;\n",
       "    }\n",
       "</style>\n",
       "<table border=\"1\" class=\"dataframe\">\n",
       "  <thead>\n",
       "    <tr style=\"text-align: right;\">\n",
       "      <th></th>\n",
       "      <th>smiles</th>\n",
       "      <th>logp</th>\n",
       "    </tr>\n",
       "  </thead>\n",
       "  <tbody>\n",
       "    <tr>\n",
       "      <th>0</th>\n",
       "      <td>C[C@H]([C@@H](C)Cl)Cl</td>\n",
       "      <td>2.3</td>\n",
       "    </tr>\n",
       "    <tr>\n",
       "      <th>1</th>\n",
       "      <td>C(C=CBr)N</td>\n",
       "      <td>0.3</td>\n",
       "    </tr>\n",
       "    <tr>\n",
       "      <th>2</th>\n",
       "      <td>CCC(CO)Br</td>\n",
       "      <td>1.3</td>\n",
       "    </tr>\n",
       "    <tr>\n",
       "      <th>3</th>\n",
       "      <td>[13CH3][13CH2][13CH2][13CH2][13CH2][13CH2]O</td>\n",
       "      <td>2.0</td>\n",
       "    </tr>\n",
       "    <tr>\n",
       "      <th>4</th>\n",
       "      <td>CCCOCCP</td>\n",
       "      <td>0.6</td>\n",
       "    </tr>\n",
       "  </tbody>\n",
       "</table>\n",
       "</div>"
      ],
      "text/plain": [
       "                                        smiles  logp\n",
       "0                        C[C@H]([C@@H](C)Cl)Cl   2.3\n",
       "1                                    C(C=CBr)N   0.3\n",
       "2                                    CCC(CO)Br   1.3\n",
       "3  [13CH3][13CH2][13CH2][13CH2][13CH2][13CH2]O   2.0\n",
       "4                                      CCCOCCP   0.6"
      ]
     },
     "execution_count": 5,
     "metadata": {},
     "output_type": "execute_result"
    }
   ],
   "source": [
    "df2.head()"
   ]
  },
  {
   "cell_type": "code",
   "execution_count": 6,
   "id": "e470bf02",
   "metadata": {},
   "outputs": [],
   "source": [
    "smiles1=df1['smiles']\n",
    "smiles2=df2['smiles']\n",
    "y_logp=df2['logp']\n",
    "y_logd=df1['exp']"
   ]
  },
  {
   "cell_type": "code",
   "execution_count": 7,
   "id": "bec5f6d2",
   "metadata": {},
   "outputs": [],
   "source": [
    "#Model for logd\n",
    "\n",
    "import numpy as np\n",
    "\n",
    "from rdkit import Chem\n",
    "from rdkit.Chem import AllChem\n",
    "from rdkit.Chem import DataStructs\n",
    "\n",
    "\n",
    "mols=[Chem.MolFromSmiles(i) for i in smiles1] \n",
    "\n",
    "\n",
    "\n",
    "for mol in mols:\n",
    "    AllChem.Compute2DCoords(mol)\n",
    "X = []\n",
    "for mol in mols:\n",
    "    arr = np.zeros((0,))\n",
    "    fp = AllChem.GetMorganFingerprintAsBitVect(mol, 2)\n",
    "    DataStructs.ConvertToNumpyArray(fp, arr)\n",
    "    X.append(arr)"
   ]
  },
  {
   "cell_type": "code",
   "execution_count": 8,
   "id": "8c28556a",
   "metadata": {},
   "outputs": [],
   "source": [
    "from sklearn.ensemble import RandomForestRegressor\n",
    "\n",
    "reg=RandomForestRegressor()\n",
    "reg.fit(X,y_logd)\n",
    "pred_logd=reg.predict(X)"
   ]
  },
  {
   "cell_type": "code",
   "execution_count": 9,
   "id": "da367d9c",
   "metadata": {},
   "outputs": [],
   "source": [
    "import seaborn as sns\n",
    "from scipy import stats\n",
    "def r2(x, y):\n",
    "    return stats.pearsonr(x, y)[0] ** 2"
   ]
  },
  {
   "cell_type": "code",
   "execution_count": 10,
   "id": "2e24b7bf",
   "metadata": {},
   "outputs": [
    {
     "data": {
      "text/plain": [
       "0.955814279752531"
      ]
     },
     "execution_count": 10,
     "metadata": {},
     "output_type": "execute_result"
    }
   ],
   "source": [
    "r2(y_logd,pred_logd)"
   ]
  },
  {
   "cell_type": "code",
   "execution_count": 11,
   "id": "c9326b15",
   "metadata": {},
   "outputs": [
    {
     "name": "stderr",
     "output_type": "stream",
     "text": [
      "/opt/miniconda3/lib/python3.9/site-packages/seaborn/_decorators.py:36: FutureWarning: Pass the following variables as keyword args: x, y. From version 0.12, the only valid positional argument will be `data`, and passing other arguments without an explicit keyword will result in an error or misinterpretation.\n",
      "  warnings.warn(\n"
     ]
    },
    {
     "data": {
      "text/plain": [
       "<AxesSubplot:ylabel='exp'>"
      ]
     },
     "execution_count": 11,
     "metadata": {},
     "output_type": "execute_result"
    },
    {
     "data": {
      "image/png": "[encoded data removed]",
      "text/plain": [
       "<Figure size 432x288 with 1 Axes>"
      ]
     },
     "metadata": {
      "needs_background": "light"
     },
     "output_type": "display_data"
    }
   ],
   "source": [
    "sns.regplot(pred_logd, y_logd)"
   ]
  },
  {
   "cell_type": "code",
   "execution_count": 12,
   "id": "b1ad7b24",
   "metadata": {},
   "outputs": [],
   "source": [
    "import numpy as np\n",
    "\n",
    "mols=[Chem.MolFromSmiles(i) for i in smiles2] \n",
    "\n",
    "from rdkit import Chem\n",
    "from rdkit.Chem import AllChem\n",
    "from rdkit.Chem import DataStructs\n",
    "\n",
    "for mol in mols:\n",
    "    AllChem.Compute2DCoords(mol)\n",
    "Z = []\n",
    "for mol in mols:\n",
    "    arr = np.zeros((0,))\n",
    "    fp = AllChem.GetMorganFingerprintAsBitVect(mol, 2)\n",
    "    DataStructs.ConvertToNumpyArray(fp, arr)\n",
    "    Z.append(arr)"
   ]
  },
  {
   "cell_type": "code",
   "execution_count": 13,
   "id": "2c5b813d",
   "metadata": {},
   "outputs": [],
   "source": [
    "from sklearn.ensemble import RandomForestRegressor\n",
    "\n",
    "reg2=RandomForestRegressor()\n",
    "reg2.fit(Z,y_logp)\n",
    "pred_logp=reg2.predict(Z)"
   ]
  },
  {
   "cell_type": "code",
   "execution_count": 14,
   "id": "a44cf60c",
   "metadata": {},
   "outputs": [
    {
     "data": {
      "text/plain": [
       "0.9792799862315241"
      ]
     },
     "execution_count": 14,
     "metadata": {},
     "output_type": "execute_result"
    }
   ],
   "source": [
    "r2(y_logp,pred_logp)"
   ]
  },
  {
   "cell_type": "code",
   "execution_count": 15,
   "id": "b07fb61d",
   "metadata": {},
   "outputs": [
    {
     "name": "stderr",
     "output_type": "stream",
     "text": [
      "/opt/miniconda3/lib/python3.9/site-packages/seaborn/_decorators.py:36: FutureWarning: Pass the following variables as keyword args: x, y. From version 0.12, the only valid positional argument will be `data`, and passing other arguments without an explicit keyword will result in an error or misinterpretation.\n",
      "  warnings.warn(\n"
     ]
    },
    {
     "data": {
      "text/plain": [
       "<AxesSubplot:ylabel='logp'>"
      ]
     },
     "execution_count": 15,
     "metadata": {},
     "output_type": "execute_result"
    },
    {
     "data": {
      "image/png": "[encoded data removed]",
      "text/plain": [
       "<Figure size 432x288 with 1 Axes>"
      ]
     },
     "metadata": {
      "needs_background": "light"
     },
     "output_type": "display_data"
    }
   ],
   "source": [
    "sns.regplot(pred_logp, y_logp)"
   ]
  },
  {
   "cell_type": "code",
   "execution_count": 16,
   "id": "9c19bd7f",
   "metadata": {},
   "outputs": [],
   "source": [
    "full=[]\n",
    "\n",
    "for i in X:\n",
    "    full.append(i)\n",
    "    \n",
    "for i in Z:\n",
    "    full.append(i)\n"
   ]
  },
  {
   "cell_type": "code",
   "execution_count": 17,
   "id": "d6aaff7b",
   "metadata": {},
   "outputs": [],
   "source": [
    "full_logp=reg.predict(full)\n",
    "full_logd=reg2.predict(full)"
   ]
  },
  {
   "attachments": {
    "Screenshot%202022-06-29%20at%2010.10.13%20PM.png": {
     "image/png": "[encoded data removed]"
    }
   },
   "cell_type": "markdown",
   "id": "7bbe6a06",
   "metadata": {},
   "source": [
    "![Screenshot%202022-06-29%20at%2010.10.13%20PM.png](attachment:Screenshot%202022-06-29%20at%2010.10.13%20PM.png)"
   ]
  },
  {
   "attachments": {
    "Screenshot%202022-06-29%20at%2010.11.26%20PM.png": {
     "image/png": "[encoded data removed]"
    }
   },
   "cell_type": "markdown",
   "id": "87a80d66",
   "metadata": {},
   "source": [
    "![Screenshot%202022-06-29%20at%2010.11.26%20PM.png](attachment:Screenshot%202022-06-29%20at%2010.11.26%20PM.png)"
   ]
  },
  {
   "cell_type": "code",
   "execution_count": 83,
   "id": "3949eb6d",
   "metadata": {},
   "outputs": [],
   "source": [
    "def pka_acidic(lp,ld):\n",
    "    res=7.4+0.434294*np.log((-2.71828**(-2.30259*ld))*(2.71828**(2.30259*ld)-2.71828**(2.30259*lp)))\n",
    "    return res\n",
    "\n",
    "def pka_basic(lp,ld):\n",
    "    res=7.4-0.434294*np.log((-2.71828**(-2.30259*ld))*(2.71828**(2.30259*ld)-2.71828**(2.30259*lp)))\n",
    "    return res\n"
   ]
  },
  {
   "cell_type": "code",
   "execution_count": 84,
   "id": "824c5166",
   "metadata": {
    "scrolled": false
   },
   "outputs": [
    {
     "name": "stderr",
     "output_type": "stream",
     "text": [
      "/var/folders/g9/l25fspz53p158gw5zp6t0l640000gn/T/ipykernel_884/867414669.py:2: RuntimeWarning: invalid value encountered in log\n",
      "  res=7.4+0.434294*np.log((-2.71828**(-2.30259*ld))*(2.71828**(2.30259*ld)-2.71828**(2.30259*lp)))\n",
      "/var/folders/g9/l25fspz53p158gw5zp6t0l640000gn/T/ipykernel_884/867414669.py:6: RuntimeWarning: invalid value encountered in log\n",
      "  res=7.4-0.434294*np.log((-2.71828**(-2.30259*ld))*(2.71828**(2.30259*ld)-2.71828**(2.30259*lp)))\n"
     ]
    }
   ],
   "source": [
    "pka_vals_acidic=[]\n",
    "pka_vals_basic=[]\n",
    "\n",
    "for i in np.arange(0,full_logp.shape[0]):\n",
    "    pka_vals_acidic.append(pka_acidic(full_logp[i],full_logd[i]))\n",
    "    \n",
    "for i in np.arange(0,full_logp.shape[0]):\n",
    "    pka_vals_basic.append(pka_basic(full_logp[i],full_logd[i]))    "
   ]
  },
  {
   "cell_type": "code",
   "execution_count": 85,
   "id": "633b4a95",
   "metadata": {},
   "outputs": [],
   "source": [
    "full = np.array(full)\n",
    "pka_vals_acidic=np.array(pka_vals_acidic)\n",
    "pka_vals_basic=np.array(pka_vals_basic)\n"
   ]
  },
  {
   "cell_type": "code",
   "execution_count": 86,
   "id": "24b9ad46",
   "metadata": {},
   "outputs": [],
   "source": [
    "delete_pos_1=[]\n",
    "delete_pos_2=[]\n",
    "\n",
    "for i in np.arange(0,np.argwhere(~np.isnan(pka_vals_acidic)).shape[0]):\n",
    "    delete_pos_1.append(np.argwhere(~np.isnan(pka_vals_acidic))[i][0])\n",
    "    \n",
    "for i in np.arange(0,np.argwhere(~np.isnan(pka_vals_basic)).shape[0]):\n",
    "    delete_pos_2.append(np.argwhere(~np.isnan(pka_vals_basic))[i][0])    "
   ]
  },
  {
   "cell_type": "code",
   "execution_count": 87,
   "id": "14e22c6d",
   "metadata": {},
   "outputs": [],
   "source": [
    "full_new_acidic=[]\n",
    "full_new_basic=[]\n",
    "\n",
    "for i in delete_pos_1:\n",
    "    full_new_acidic.append(full[i])\n",
    "\n",
    "for i in delete_pos_2:\n",
    "    full_new_basic.append(full[i])    \n",
    "\n",
    "full_new_acidic=np.array(full_new_acidic) \n",
    "full_new_basic=np.array(full_new_basic)"
   ]
  },
  {
   "cell_type": "code",
   "execution_count": 88,
   "id": "269129c9",
   "metadata": {},
   "outputs": [
    {
     "data": {
      "text/plain": [
       "(12185, 2048)"
      ]
     },
     "execution_count": 88,
     "metadata": {},
     "output_type": "execute_result"
    }
   ],
   "source": [
    "full_new_acidic.shape"
   ]
  },
  {
   "cell_type": "code",
   "execution_count": 89,
   "id": "319313b5",
   "metadata": {},
   "outputs": [
    {
     "data": {
      "text/plain": [
       "(12185, 2048)"
      ]
     },
     "execution_count": 89,
     "metadata": {},
     "output_type": "execute_result"
    }
   ],
   "source": [
    "full_new_basic.shape"
   ]
  },
  {
   "cell_type": "code",
   "execution_count": 90,
   "id": "6406f7d0",
   "metadata": {},
   "outputs": [],
   "source": [
    "pka_vals_new_acidic=[] \n",
    "pka_vals_new_basic=[] \n",
    "\n",
    "for i in delete_pos_1:\n",
    "    pka_vals_new_acidic.append(pka_vals_acidic[i])\n",
    "\n",
    "for i in delete_pos_2:\n",
    "    pka_vals_new_basic.append(pka_vals_basic[i])    \n",
    "    \n",
    "pka_vals_new_acidic=np.array(pka_vals_new_acidic) \n",
    "pka_vals_new_basic=np.array(pka_vals_new_basic)"
   ]
  },
  {
   "cell_type": "code",
   "execution_count": 91,
   "id": "969a7535",
   "metadata": {},
   "outputs": [
    {
     "data": {
      "text/plain": [
       "(12185,)"
      ]
     },
     "execution_count": 91,
     "metadata": {},
     "output_type": "execute_result"
    }
   ],
   "source": [
    "pka_vals_new_acidic.shape"
   ]
  },
  {
   "cell_type": "code",
   "execution_count": 92,
   "id": "ee91a04b",
   "metadata": {},
   "outputs": [
    {
     "data": {
      "text/plain": [
       "(12185,)"
      ]
     },
     "execution_count": 92,
     "metadata": {},
     "output_type": "execute_result"
    }
   ],
   "source": [
    "pka_vals_new_basic.shape"
   ]
  },
  {
   "cell_type": "code",
   "execution_count": 93,
   "id": "5937f3de",
   "metadata": {},
   "outputs": [],
   "source": [
    "reg3=RandomForestRegressor()\n",
    "reg3.fit(full_new_acidic,pka_vals_new_acidic)\n",
    "pred_pka_acidic=reg3.predict(full_new_acidic)"
   ]
  },
  {
   "cell_type": "code",
   "execution_count": 94,
   "id": "a60cdf37",
   "metadata": {},
   "outputs": [
    {
     "data": {
      "text/plain": [
       "0.9774990177329149"
      ]
     },
     "execution_count": 94,
     "metadata": {},
     "output_type": "execute_result"
    }
   ],
   "source": [
    "r2(pka_vals_new_acidic,pred_pka_acidic)"
   ]
  },
  {
   "cell_type": "code",
   "execution_count": 95,
   "id": "6fb8b29e",
   "metadata": {},
   "outputs": [
    {
     "data": {
      "text/plain": [
       "['pka_acidic_model.sav']"
      ]
     },
     "execution_count": 95,
     "metadata": {},
     "output_type": "execute_result"
    }
   ],
   "source": [
    "import joblib\n",
    "\n",
    "filename = 'pka_acidic_model.sav'\n",
    "joblib.dump(reg3, filename) "
   ]
  },
  {
   "cell_type": "code",
   "execution_count": 96,
   "id": "26ea2360",
   "metadata": {},
   "outputs": [],
   "source": [
    "loaded_acidic_model = joblib.load('pka_acidic_model.sav')"
   ]
  },
  {
   "cell_type": "code",
   "execution_count": 97,
   "id": "d47f9732",
   "metadata": {
    "scrolled": false
   },
   "outputs": [
    {
     "name": "stderr",
     "output_type": "stream",
     "text": [
      "/opt/miniconda3/lib/python3.9/site-packages/seaborn/_decorators.py:36: FutureWarning: Pass the following variables as keyword args: x, y. From version 0.12, the only valid positional argument will be `data`, and passing other arguments without an explicit keyword will result in an error or misinterpretation.\n",
      "  warnings.warn(\n"
     ]
    },
    {
     "data": {
      "text/plain": [
       "<AxesSubplot:>"
      ]
     },
     "execution_count": 97,
     "metadata": {},
     "output_type": "execute_result"
    },
    {
     "data": {
      "image/png": "[encoded data removed]",
      "text/plain": [
       "<Figure size 432x288 with 1 Axes>"
      ]
     },
     "metadata": {
      "needs_background": "light"
     },
     "output_type": "display_data"
    }
   ],
   "source": [
    "sns.regplot(pred_pka_acidic, pka_vals_new_acidic)"
   ]
  },
  {
   "cell_type": "code",
   "execution_count": 101,
   "id": "c44df233",
   "metadata": {
    "scrolled": true
   },
   "outputs": [
    {
     "name": "stderr",
     "output_type": "stream",
     "text": [
      "/opt/miniconda3/lib/python3.9/site-packages/seaborn/_decorators.py:36: FutureWarning: Pass the following variables as keyword args: x, y. From version 0.12, the only valid positional argument will be `data`, and passing other arguments without an explicit keyword will result in an error or misinterpretation.\n",
      "  warnings.warn(\n"
     ]
    },
    {
     "data": {
      "text/plain": [
       "<AxesSubplot:>"
      ]
     },
     "execution_count": 101,
     "metadata": {},
     "output_type": "execute_result"
    },
    {
     "data": {
      "image/png": "[encoded data removed]",
      "text/plain": [
       "<Figure size 432x288 with 1 Axes>"
      ]
     },
     "metadata": {
      "needs_background": "light"
     },
     "output_type": "display_data"
    }
   ],
   "source": [
    "reg4=RandomForestRegressor()\n",
    "reg4.fit(full_new_basic,pka_vals_new_basic)\n",
    "pred_pka_basic=reg3.predict(full_new_basic)\n",
    "    \n",
    "r2(pka_vals_new_basic,pred_pka_basic)\n",
    "sns.regplot(pred_pka_basic, pka_vals_new_basic)"
   ]
  },
  {
   "cell_type": "code",
   "execution_count": 102,
   "id": "a8d79a7d",
   "metadata": {},
   "outputs": [
    {
     "data": {
      "text/plain": [
       "['pka_model_basic.sav']"
      ]
     },
     "execution_count": 102,
     "metadata": {},
     "output_type": "execute_result"
    }
   ],
   "source": [
    "import joblib\n",
    "\n",
    "filename = 'pka_model_basic.sav'\n",
    "joblib.dump(reg, filename) "
   ]
  },
  {
   "cell_type": "code",
   "execution_count": 103,
   "id": "e074a8d7",
   "metadata": {},
   "outputs": [],
   "source": [
    "loaded_basic_model = joblib.load('pka_model_basic.sav')"
   ]
  },
  {
   "cell_type": "code",
   "execution_count": 108,
   "id": "007de1d8",
   "metadata": {},
   "outputs": [],
   "source": [
    "smiles='CC(C)C(=O)OCC1C(C(C(O1)N2C=CC(=NC2=O)NO)O)O'\n",
    "mols=[Chem.MolFromSmiles(smiles)]\n",
    "\n",
    "for mol in mols:\n",
    "    AllChem.Compute2DCoords(mol)\n",
    "Z = []\n",
    "for mol in mols:\n",
    "    arr = np.zeros((0,))\n",
    "    fp = AllChem.GetMorganFingerprintAsBitVect(mol, 2)\n",
    "    DataStructs.ConvertToNumpyArray(fp, arr)\n",
    "    Z.append(arr)"
   ]
  },
  {
   "cell_type": "code",
   "execution_count": 109,
   "id": "28ba68f8",
   "metadata": {},
   "outputs": [
    {
     "data": {
      "text/plain": [
       "array([9.2319429])"
      ]
     },
     "execution_count": 109,
     "metadata": {},
     "output_type": "execute_result"
    }
   ],
   "source": [
    "loaded_acidic_model.predict(Z)"
   ]
  },
  {
   "cell_type": "code",
   "execution_count": 110,
   "id": "d6d77f0d",
   "metadata": {},
   "outputs": [
    {
     "data": {
      "text/plain": [
       "array([1.70628333])"
      ]
     },
     "execution_count": 110,
     "metadata": {},
     "output_type": "execute_result"
    }
   ],
   "source": [
    "loaded_basic_model.predict(Z)"
   ]
  },
  {
   "cell_type": "code",
   "execution_count": 111,
   "id": "efbb3aa6",
   "metadata": {},
   "outputs": [
    {
     "name": "stdout",
     "output_type": "stream",
     "text": [
      "Average:\n"
     ]
    },
    {
     "data": {
      "text/plain": [
       "array([5.46911312])"
      ]
     },
     "execution_count": 111,
     "metadata": {},
     "output_type": "execute_result"
    }
   ],
   "source": [
    "print(\"Average:\")\n",
    "(loaded_acidic_model.predict(Z)+loaded_basic_model.predict(Z))/2"
   ]
  },
  {
   "cell_type": "code",
   "execution_count": 112,
   "id": "b03cbd40",
   "metadata": {},
   "outputs": [
    {
     "name": "stderr",
     "output_type": "stream",
     "text": [
      "RDKit WARNING: [13:28:44] Warning: molecule is tagged as 3D, but all Z coords are zero\n",
      "[13:28:44] Warning: molecule is tagged as 3D, but all Z coords are zero\n",
      "RDKit WARNING: [13:28:44] Warning: molecule is tagged as 3D, but all Z coords are zero\n",
      "RDKit WARNING: [13:28:44] Warning: molecule is tagged as 3D, but all Z coords are zero\n",
      "RDKit WARNING: [13:28:44] Warning: molecule is tagged as 3D, but all Z coords are zero\n",
      "[13:28:44] Warning: molecule is tagged as 3D, but all Z coords are zero\n",
      "RDKit WARNING: [13:28:44] Warning: molecule is tagged as 3D, but all Z coords are zero\n",
      "[13:28:44] Warning: molecule is tagged as 3D, but all Z coords are zero\n",
      "[13:28:44] Warning: molecule is tagged as 3D, but all Z coords are zero\n",
      "[13:28:44] Warning: molecule is tagged as 3D, but all Z coords are zero\n",
      "RDKit WARNING: [13:28:44] Warning: molecule is tagged as 3D, but all Z coords are zero\n",
      "[13:28:44] Warning: molecule is tagged as 3D, but all Z coords are zero\n",
      "RDKit WARNING: [13:28:44] Warning: molecule is tagged as 3D, but all Z coords are zero\n",
      "RDKit WARNING: [13:28:44] Warning: molecule is tagged as 3D, but all Z coords are zero\n",
      "RDKit WARNING: [13:28:44] Warning: molecule is tagged as 3D, but all Z coords are zero\n",
      "[13:28:44] Warning: molecule is tagged as 3D, but all Z coords are zero\n",
      "[13:28:44] Warning: molecule is tagged as 3D, but all Z coords are zero\n",
      "[13:28:44] Warning: molecule is tagged as 3D, but all Z coords are zero\n",
      "RDKit WARNING: [13:28:44] Warning: molecule is tagged as 3D, but all Z coords are zero\n",
      "[13:28:44] Warning: molecule is tagged as 3D, but all Z coords are zero\n",
      "RDKit WARNING: [13:28:44] Warning: molecule is tagged as 3D, but all Z coords are zero\n",
      "RDKit WARNING: [13:28:44] Warning: molecule is tagged as 3D, but all Z coords are zero\n",
      "RDKit WARNING: [13:28:45] Warning: molecule is tagged as 3D, but all Z coords are zero\n",
      "RDKit WARNING: [13:28:45] Warning: molecule is tagged as 3D, but all Z coords are zero\n",
      "[13:28:44] Warning: molecule is tagged as 3D, but all Z coords are zero\n",
      "[13:28:44] Warning: molecule is tagged as 3D, but all Z coords are zero\n",
      "[13:28:45] Warning: molecule is tagged as 3D, but all Z coords are zero\n",
      "[13:28:45] Warning: molecule is tagged as 3D, but all Z coords are zero\n",
      "RDKit WARNING: [13:28:45] Warning: molecule is tagged as 3D, but all Z coords are zero\n",
      "RDKit WARNING: [13:28:45] Warning: molecule is tagged as 3D, but all Z coords are zero\n",
      "[13:28:45] Warning: molecule is tagged as 3D, but all Z coords are zero\n",
      "[13:28:45] Warning: molecule is tagged as 3D, but all Z coords are zero\n",
      "RDKit WARNING: [13:28:45] Warning: molecule is tagged as 3D, but all Z coords are zero\n",
      "[13:28:45] Warning: molecule is tagged as 3D, but all Z coords are zero\n",
      "RDKit WARNING: [13:28:45] Warning: molecule is tagged as 3D, but all Z coords are zero\n",
      "[13:28:45] Warning: molecule is tagged as 3D, but all Z coords are zero\n",
      "RDKit WARNING: [13:28:45] Warning: molecule is tagged as 3D, but all Z coords are zero\n",
      "[13:28:45] Warning: molecule is tagged as 3D, but all Z coords are zero\n",
      "RDKit WARNING: [13:28:45] Warning: molecule is tagged as 3D, but all Z coords are zero\n",
      "[13:28:45] Warning: molecule is tagged as 3D, but all Z coords are zero\n",
      "RDKit WARNING: [13:28:45] Warning: molecule is tagged as 3D, but all Z coords are zero\n",
      "RDKit WARNING: [13:28:45] Warning: molecule is tagged as 3D, but all Z coords are zero\n",
      "[13:28:45] Warning: molecule is tagged as 3D, but all Z coords are zero\n",
      "RDKit WARNING: [13:28:45] Warning: molecule is tagged as 3D, but all Z coords are zero\n",
      "[13:28:45] Warning: molecule is tagged as 3D, but all Z coords are zero\n",
      "[13:28:45] Warning: molecule is tagged as 3D, but all Z coords are zero\n",
      "RDKit WARNING: [13:28:45] Warning: molecule is tagged as 3D, but all Z coords are zero\n",
      "RDKit WARNING: [13:28:45] Warning: molecule is tagged as 3D, but all Z coords are zero\n",
      "RDKit WARNING: [13:28:45] Warning: molecule is tagged as 3D, but all Z coords are zero\n",
      "[13:28:45] Warning: molecule is tagged as 3D, but all Z coords are zero\n",
      "[13:28:45] Warning: molecule is tagged as 3D, but all Z coords are zero\n",
      "[13:28:45] Warning: molecule is tagged as 3D, but all Z coords are zero\n",
      "RDKit WARNING: [13:28:45] Warning: molecule is tagged as 3D, but all Z coords are zero\n",
      "[13:28:45] Warning: molecule is tagged as 3D, but all Z coords are zero\n",
      "RDKit WARNING: [13:28:45] Warning: molecule is tagged as 3D, but all Z coords are zero\n",
      "[13:28:45] Warning: molecule is tagged as 3D, but all Z coords are zero\n",
      "RDKit WARNING: [13:28:45] Warning: molecule is tagged as 3D, but all Z coords are zero\n",
      "[13:28:45] Warning: molecule is tagged as 3D, but all Z coords are zero\n",
      "RDKit WARNING: [13:28:45] Warning: molecule is tagged as 3D, but all Z coords are zero\n",
      "[13:28:45] Warning: molecule is tagged as 3D, but all Z coords are zero\n",
      "RDKit WARNING: [13:28:45] Warning: molecule is tagged as 3D, but all Z coords are zero\n",
      "[13:28:45] Warning: molecule is tagged as 3D, but all Z coords are zero\n",
      "RDKit WARNING: [13:28:45] Warning: molecule is tagged as 3D, but all Z coords are zero\n",
      "[13:28:45] Warning: molecule is tagged as 3D, but all Z coords are zero\n",
      "RDKit WARNING: [13:28:45] Warning: molecule is tagged as 3D, but all Z coords are zero\n",
      "RDKit WARNING: [13:28:45] Warning: molecule is tagged as 3D, but all Z coords are zero\n",
      "RDKit WARNING: [13:28:45] Warning: molecule is tagged as 3D, but all Z coords are zero\n",
      "RDKit WARNING: [13:28:45] Warning: molecule is tagged as 3D, but all Z coords are zero\n",
      "RDKit WARNING: [13:28:45] Warning: molecule is tagged as 3D, but all Z coords are zero\n",
      "[13:28:45] Warning: molecule is tagged as 3D, but all Z coords are zero\n",
      "[13:28:45] Warning: molecule is tagged as 3D, but all Z coords are zero\n",
      "[13:28:45] Warning: molecule is tagged as 3D, but all Z coords are zero\n",
      "[13:28:45] Warning: molecule is tagged as 3D, but all Z coords are zero\n",
      "[13:28:45] Warning: molecule is tagged as 3D, but all Z coords are zero\n",
      "RDKit WARNING: [13:28:45] Warning: molecule is tagged as 3D, but all Z coords are zero\n",
      "RDKit WARNING: [13:28:45] Warning: molecule is tagged as 3D, but all Z coords are zero\n",
      "[13:28:45] Warning: molecule is tagged as 3D, but all Z coords are zero\n",
      "[13:28:45] Warning: molecule is tagged as 3D, but all Z coords are zero\n",
      "RDKit WARNING: [13:28:46] Warning: molecule is tagged as 3D, but all Z coords are zero\n",
      "[13:28:46] Warning: molecule is tagged as 3D, but all Z coords are zero\n",
      "RDKit WARNING: [13:28:46] Warning: molecule is tagged as 3D, but all Z coords are zero\n",
      "RDKit WARNING: [13:28:46] Warning: molecule is tagged as 3D, but all Z coords are zero\n",
      "[13:28:46] Warning: molecule is tagged as 3D, but all Z coords are zero\n",
      "[13:28:46] Warning: molecule is tagged as 3D, but all Z coords are zero\n",
      "RDKit WARNING: [13:28:46] Warning: molecule is tagged as 3D, but all Z coords are zero\n",
      "[13:28:46] Warning: molecule is tagged as 3D, but all Z coords are zero\n",
      "RDKit WARNING: [13:28:46] Warning: molecule is tagged as 3D, but all Z coords are zero\n",
      "RDKit WARNING: [13:28:46] Warning: molecule is tagged as 3D, but all Z coords are zero\n",
      "RDKit WARNING: [13:28:46] Warning: molecule is tagged as 3D, but all Z coords are zero\n",
      "[13:28:46] Warning: molecule is tagged as 3D, but all Z coords are zero\n",
      "[13:28:46] Warning: molecule is tagged as 3D, but all Z coords are zero\n",
      "[13:28:46] Warning: molecule is tagged as 3D, but all Z coords are zero\n",
      "RDKit WARNING: [13:28:46] Warning: molecule is tagged as 3D, but all Z coords are zero\n",
      "[13:28:46] Warning: molecule is tagged as 3D, but all Z coords are zero\n",
      "RDKit WARNING: [13:28:46] Warning: molecule is tagged as 3D, but all Z coords are zero\n",
      "[13:28:46] Warning: molecule is tagged as 3D, but all Z coords are zero\n",
      "RDKit WARNING: [13:28:46] Warning: molecule is tagged as 3D, but all Z coords are zero\n",
      "[13:28:46] Warning: molecule is tagged as 3D, but all Z coords are zero\n",
      "RDKit WARNING: [13:28:46] Warning: molecule is tagged as 3D, but all Z coords are zero\n",
      "RDKit WARNING: [13:28:46] Warning: molecule is tagged as 3D, but all Z coords are zero\n",
      "[13:28:46] Warning: molecule is tagged as 3D, but all Z coords are zero\n",
      "[13:28:46] Warning: molecule is tagged as 3D, but all Z coords are zero\n",
      "RDKit WARNING: [13:28:46] Warning: molecule is tagged as 3D, but all Z coords are zero\n",
      "[13:28:46] Warning: molecule is tagged as 3D, but all Z coords are zero\n",
      "RDKit WARNING: [13:28:46] Warning: molecule is tagged as 3D, but all Z coords are zero\n",
      "[13:28:46] Warning: molecule is tagged as 3D, but all Z coords are zero\n",
      "RDKit WARNING: [13:28:46] Warning: molecule is tagged as 3D, but all Z coords are zero\n",
      "[13:28:46] Warning: molecule is tagged as 3D, but all Z coords are zero\n",
      "RDKit WARNING: [13:28:46] Warning: molecule is tagged as 3D, but all Z coords are zero\n",
      "[13:28:46] Warning: molecule is tagged as 3D, but all Z coords are zero\n",
      "RDKit WARNING: [13:28:46] Warning: molecule is tagged as 3D, but all Z coords are zero\n",
      "[13:28:46] Warning: molecule is tagged as 3D, but all Z coords are zero\n"
     ]
    },
    {
     "name": "stderr",
     "output_type": "stream",
     "text": [
      "RDKit WARNING: [13:28:46] Warning: molecule is tagged as 3D, but all Z coords are zero\n",
      "[13:28:46] Warning: molecule is tagged as 3D, but all Z coords are zero\n",
      "RDKit WARNING: [13:28:46] Warning: molecule is tagged as 3D, but all Z coords are zero\n",
      "[13:28:46] Warning: molecule is tagged as 3D, but all Z coords are zero\n",
      "RDKit WARNING: [13:28:46] Warning: molecule is tagged as 3D, but all Z coords are zero\n",
      "[13:28:46] Warning: molecule is tagged as 3D, but all Z coords are zero\n",
      "RDKit WARNING: [13:28:46] Warning: molecule is tagged as 3D, but all Z coords are zero\n",
      "[13:28:46] Warning: molecule is tagged as 3D, but all Z coords are zero\n",
      "RDKit WARNING: [13:28:46] Warning: molecule is tagged as 3D, but all Z coords are zero\n",
      "RDKit WARNING: [13:28:46] Warning: molecule is tagged as 3D, but all Z coords are zero\n",
      "RDKit WARNING: [13:28:46] Warning: molecule is tagged as 3D, but all Z coords are zero\n",
      "RDKit WARNING: [13:28:46] Warning: molecule is tagged as 3D, but all Z coords are zero\n",
      "RDKit WARNING: [13:28:46] Warning: molecule is tagged as 3D, but all Z coords are zero\n",
      "[13:28:46] Warning: molecule is tagged as 3D, but all Z coords are zero\n",
      "[13:28:46] Warning: molecule is tagged as 3D, but all Z coords are zero\n",
      "[13:28:46] Warning: molecule is tagged as 3D, but all Z coords are zero\n",
      "[13:28:46] Warning: molecule is tagged as 3D, but all Z coords are zero\n",
      "[13:28:46] Warning: molecule is tagged as 3D, but all Z coords are zero\n",
      "RDKit WARNING: [13:28:46] Warning: molecule is tagged as 3D, but all Z coords are zero\n",
      "[13:28:46] Warning: molecule is tagged as 3D, but all Z coords are zero\n",
      "RDKit WARNING: [13:28:46] Warning: molecule is tagged as 3D, but all Z coords are zero\n",
      "[13:28:46] Warning: molecule is tagged as 3D, but all Z coords are zero\n",
      "RDKit WARNING: [13:28:47] Warning: molecule is tagged as 3D, but all Z coords are zero\n",
      "[13:28:47] Warning: molecule is tagged as 3D, but all Z coords are zero\n",
      "RDKit WARNING: [13:28:47] Warning: molecule is tagged as 3D, but all Z coords are zero\n",
      "RDKit WARNING: [13:28:47] Warning: molecule is tagged as 3D, but all Z coords are zero\n",
      "RDKit WARNING: [13:28:47] Warning: molecule is tagged as 3D, but all Z coords are zero\n",
      "[13:28:47] Warning: molecule is tagged as 3D, but all Z coords are zero\n",
      "[13:28:47] Warning: molecule is tagged as 3D, but all Z coords are zero\n",
      "[13:28:47] Warning: molecule is tagged as 3D, but all Z coords are zero\n",
      "RDKit WARNING: [13:28:47] Warning: molecule is tagged as 3D, but all Z coords are zero\n",
      "[13:28:47] Warning: molecule is tagged as 3D, but all Z coords are zero\n",
      "RDKit WARNING: [13:28:47] Warning: molecule is tagged as 3D, but all Z coords are zero\n",
      "[13:28:47] Warning: molecule is tagged as 3D, but all Z coords are zero\n",
      "RDKit WARNING: [13:28:47] Warning: molecule is tagged as 3D, but all Z coords are zero\n",
      "[13:28:47] Warning: molecule is tagged as 3D, but all Z coords are zero\n",
      "RDKit WARNING: [13:28:47] Warning: molecule is tagged as 3D, but all Z coords are zero\n",
      "[13:28:47] Warning: molecule is tagged as 3D, but all Z coords are zero\n",
      "RDKit WARNING: [13:28:47] Warning: molecule is tagged as 3D, but all Z coords are zero\n",
      "[13:28:47] Warning: molecule is tagged as 3D, but all Z coords are zero\n",
      "RDKit WARNING: [13:28:47] Warning: molecule is tagged as 3D, but all Z coords are zero\n",
      "[13:28:47] Warning: molecule is tagged as 3D, but all Z coords are zero\n",
      "RDKit WARNING: [13:28:47] Warning: molecule is tagged as 3D, but all Z coords are zero\n",
      "RDKit WARNING: [13:28:47] Warning: molecule is tagged as 3D, but all Z coords are zero\n",
      "RDKit WARNING: [13:28:47] Warning: molecule is tagged as 3D, but all Z coords are zero\n",
      "[13:28:47] Warning: molecule is tagged as 3D, but all Z coords are zero\n",
      "[13:28:47] Warning: molecule is tagged as 3D, but all Z coords are zero\n",
      "[13:28:47] Warning: molecule is tagged as 3D, but all Z coords are zero\n",
      "RDKit WARNING: [13:28:47] Warning: molecule is tagged as 3D, but all Z coords are zero\n",
      "[13:28:47] Warning: molecule is tagged as 3D, but all Z coords are zero\n",
      "RDKit WARNING: [13:28:47] Warning: molecule is tagged as 3D, but all Z coords are zero\n",
      "[13:28:47] Warning: molecule is tagged as 3D, but all Z coords are zero\n",
      "RDKit WARNING: [13:28:47] Warning: molecule is tagged as 3D, but all Z coords are zero\n",
      "RDKit WARNING: [13:28:47] Warning: molecule is tagged as 3D, but all Z coords are zero\n",
      "[13:28:47] Warning: molecule is tagged as 3D, but all Z coords are zero\n",
      "[13:28:47] Warning: molecule is tagged as 3D, but all Z coords are zero\n",
      "RDKit WARNING: [13:28:47] Warning: molecule is tagged as 3D, but all Z coords are zero\n",
      "RDKit WARNING: [13:28:47] Warning: molecule is tagged as 3D, but all Z coords are zero\n",
      "RDKit WARNING: [13:28:47] Warning: molecule is tagged as 3D, but all Z coords are zero\n",
      "RDKit WARNING: [13:28:48] Warning: molecule is tagged as 3D, but all Z coords are zero\n",
      "RDKit WARNING: [13:28:48] Warning: molecule is tagged as 3D, but all Z coords are zero\n",
      "RDKit WARNING: [13:28:48] Warning: molecule is tagged as 3D, but all Z coords are zero\n",
      "[13:28:47] Warning: molecule is tagged as 3D, but all Z coords are zero\n",
      "[13:28:47] Warning: molecule is tagged as 3D, but all Z coords are zero\n",
      "[13:28:47] Warning: molecule is tagged as 3D, but all Z coords are zero\n",
      "[13:28:48] Warning: molecule is tagged as 3D, but all Z coords are zero\n",
      "[13:28:48] Warning: molecule is tagged as 3D, but all Z coords are zero\n",
      "[13:28:48] Warning: molecule is tagged as 3D, but all Z coords are zero\n",
      "RDKit WARNING: [13:28:48] Warning: molecule is tagged as 3D, but all Z coords are zero\n",
      "RDKit WARNING: [13:28:48] Warning: molecule is tagged as 3D, but all Z coords are zero\n",
      "RDKit WARNING: [13:28:48] Warning: molecule is tagged as 3D, but all Z coords are zero\n",
      "RDKit WARNING: [13:28:48] Warning: molecule is tagged as 3D, but all Z coords are zero\n",
      "RDKit WARNING: [13:28:48] Warning: molecule is tagged as 3D, but all Z coords are zero\n",
      "RDKit WARNING: [13:28:48] Warning: molecule is tagged as 3D, but all Z coords are zero\n",
      "[13:28:48] Warning: molecule is tagged as 3D, but all Z coords are zero\n",
      "RDKit WARNING: [13:28:48] Warning: molecule is tagged as 3D, but all Z coords are zero\n",
      "[13:28:48] Warning: molecule is tagged as 3D, but all Z coords are zero\n",
      "[13:28:48] Warning: molecule is tagged as 3D, but all Z coords are zero\n",
      "[13:28:48] Warning: molecule is tagged as 3D, but all Z coords are zero\n",
      "[13:28:48] Warning: molecule is tagged as 3D, but all Z coords are zero\n",
      "[13:28:48] Warning: molecule is tagged as 3D, but all Z coords are zero\n",
      "[13:28:48] Warning: molecule is tagged as 3D, but all Z coords are zero\n",
      "RDKit WARNING: [13:28:48] Warning: molecule is tagged as 3D, but all Z coords are zero\n",
      "RDKit WARNING: [13:28:48] Warning: molecule is tagged as 3D, but all Z coords are zero\n",
      "RDKit WARNING: [13:28:48] Warning: molecule is tagged as 3D, but all Z coords are zero\n",
      "RDKit WARNING: [13:28:48] Warning: molecule is tagged as 3D, but all Z coords are zero\n",
      "[13:28:48] Warning: molecule is tagged as 3D, but all Z coords are zero\n",
      "[13:28:48] Warning: molecule is tagged as 3D, but all Z coords are zero\n",
      "[13:28:48] Warning: molecule is tagged as 3D, but all Z coords are zero\n",
      "[13:28:48] Warning: molecule is tagged as 3D, but all Z coords are zero\n",
      "RDKit WARNING: [13:28:48] Warning: molecule is tagged as 3D, but all Z coords are zero\n",
      "[13:28:48] Warning: molecule is tagged as 3D, but all Z coords are zero\n",
      "RDKit WARNING: [13:28:48] Warning: molecule is tagged as 3D, but all Z coords are zero\n",
      "[13:28:48] Warning: molecule is tagged as 3D, but all Z coords are zero\n",
      "RDKit WARNING: [13:28:48] Warning: molecule is tagged as 3D, but all Z coords are zero\n",
      "[13:28:48] Warning: molecule is tagged as 3D, but all Z coords are zero\n",
      "RDKit WARNING: [13:28:48] Warning: molecule is tagged as 3D, but all Z coords are zero\n",
      "[13:28:48] Warning: molecule is tagged as 3D, but all Z coords are zero\n",
      "RDKit WARNING: [13:28:48] Warning: molecule is tagged as 3D, but all Z coords are zero\n",
      "[13:28:48] Warning: molecule is tagged as 3D, but all Z coords are zero\n",
      "RDKit WARNING: [13:28:48] Warning: molecule is tagged as 3D, but all Z coords are zero\n",
      "[13:28:48] Warning: molecule is tagged as 3D, but all Z coords are zero\n",
      "RDKit WARNING: [13:28:48] Warning: molecule is tagged as 3D, but all Z coords are zero\n",
      "[13:28:48] Warning: molecule is tagged as 3D, but all Z coords are zero\n",
      "RDKit WARNING: [13:28:48] Warning: molecule is tagged as 3D, but all Z coords are zero\n",
      "RDKit WARNING: [13:28:48] Warning: molecule is tagged as 3D, but all Z coords are zero\n",
      "RDKit WARNING: [13:28:48] Warning: molecule is tagged as 3D, but all Z coords are zero\n",
      "RDKit WARNING: [13:28:48] Warning: molecule is tagged as 3D, but all Z coords are zero\n",
      "[13:28:48] Warning: molecule is tagged as 3D, but all Z coords are zero\n",
      "[13:28:48] Warning: molecule is tagged as 3D, but all Z coords are zero\n",
      "[13:28:48] Warning: molecule is tagged as 3D, but all Z coords are zero\n",
      "[13:28:48] Warning: molecule is tagged as 3D, but all Z coords are zero\n",
      "[12:44:31] ERROR: moving to the beginning of the next molecule\n",
      "[13:28:48] ERROR: Cannot process coordinates on line 606586\n",
      "RDKit ERROR: [12:44:31] ERROR: moving to the beginning of the next molecule\n",
      "RDKit ERROR: [13:28:48] ERROR: Cannot process coordinates on line 606586\n"
     ]
    },
    {
     "name": "stderr",
     "output_type": "stream",
     "text": [
      "RDKit WARNING: [13:28:48] Warning: molecule is tagged as 3D, but all Z coords are zero\n",
      "[13:28:48] Warning: molecule is tagged as 3D, but all Z coords are zero\n",
      "RDKit WARNING: [13:28:48] Warning: molecule is tagged as 3D, but all Z coords are zero\n",
      "[13:28:48] Warning: molecule is tagged as 3D, but all Z coords are zero\n",
      "RDKit WARNING: [13:28:49] Warning: molecule is tagged as 3D, but all Z coords are zero\n",
      "RDKit WARNING: [13:28:49] Warning: molecule is tagged as 3D, but all Z coords are zero\n",
      "[13:28:49] Warning: molecule is tagged as 3D, but all Z coords are zero\n",
      "[13:28:49] Warning: molecule is tagged as 3D, but all Z coords are zero\n",
      "RDKit WARNING: [13:28:49] Warning: molecule is tagged as 3D, but all Z coords are zero\n",
      "[13:28:49] Warning: molecule is tagged as 3D, but all Z coords are zero\n",
      "RDKit WARNING: [13:28:49] Warning: molecule is tagged as 3D, but all Z coords are zero\n",
      "RDKit WARNING: [13:28:49] Warning: molecule is tagged as 3D, but all Z coords are zero\n",
      "RDKit WARNING: [13:28:49] Warning: molecule is tagged as 3D, but all Z coords are zero\n",
      "[13:28:49] Warning: molecule is tagged as 3D, but all Z coords are zero\n",
      "[13:28:49] Warning: molecule is tagged as 3D, but all Z coords are zero\n",
      "[13:28:49] Warning: molecule is tagged as 3D, but all Z coords are zero\n",
      "RDKit WARNING: [13:28:49] Warning: molecule is tagged as 3D, but all Z coords are zero\n",
      "RDKit WARNING: [13:28:49] Warning: molecule is tagged as 3D, but all Z coords are zero\n",
      "[13:28:49] Warning: molecule is tagged as 3D, but all Z coords are zero\n",
      "[13:28:49] Warning: molecule is tagged as 3D, but all Z coords are zero\n",
      "RDKit WARNING: [13:28:49] Warning: molecule is tagged as 3D, but all Z coords are zero\n",
      "[13:28:49] Warning: molecule is tagged as 3D, but all Z coords are zero\n",
      "RDKit WARNING: [13:28:49] Warning: molecule is tagged as 3D, but all Z coords are zero\n",
      "[13:28:49] Warning: molecule is tagged as 3D, but all Z coords are zero\n",
      "RDKit WARNING: [13:28:49] Warning: molecule is tagged as 3D, but all Z coords are zero\n",
      "[13:28:49] Warning: molecule is tagged as 3D, but all Z coords are zero\n",
      "RDKit WARNING: [13:28:49] Warning: molecule is tagged as 3D, but all Z coords are zero\n",
      "[13:28:49] Warning: molecule is tagged as 3D, but all Z coords are zero\n",
      "RDKit WARNING: [13:28:49] Warning: molecule is tagged as 3D, but all Z coords are zero\n",
      "RDKit WARNING: [13:28:49] Warning: molecule is tagged as 3D, but all Z coords are zero\n",
      "[13:28:49] Warning: molecule is tagged as 3D, but all Z coords are zero\n",
      "[13:28:49] Warning: molecule is tagged as 3D, but all Z coords are zero\n",
      "RDKit WARNING: [13:28:49] Warning: molecule is tagged as 3D, but all Z coords are zero\n",
      "RDKit WARNING: [13:28:49] Warning: molecule is tagged as 3D, but all Z coords are zero\n",
      "RDKit WARNING: [13:28:49] Warning: molecule is tagged as 3D, but all Z coords are zero\n",
      "RDKit WARNING: [13:28:49] Warning: molecule is tagged as 3D, but all Z coords are zero\n",
      "[13:28:49] Warning: molecule is tagged as 3D, but all Z coords are zero\n",
      "[13:28:49] Warning: molecule is tagged as 3D, but all Z coords are zero\n",
      "[13:28:49] Warning: molecule is tagged as 3D, but all Z coords are zero\n",
      "[13:28:49] Warning: molecule is tagged as 3D, but all Z coords are zero\n",
      "RDKit WARNING: [13:28:49] Warning: molecule is tagged as 3D, but all Z coords are zero\n",
      "RDKit WARNING: [13:28:49] Warning: molecule is tagged as 3D, but all Z coords are zero\n",
      "[13:28:49] Warning: molecule is tagged as 3D, but all Z coords are zero\n",
      "[13:28:49] Warning: molecule is tagged as 3D, but all Z coords are zero\n",
      "RDKit WARNING: [13:28:49] Warning: molecule is tagged as 3D, but all Z coords are zero\n",
      "[13:28:49] Warning: molecule is tagged as 3D, but all Z coords are zero\n",
      "RDKit WARNING: [13:28:49] Warning: molecule is tagged as 3D, but all Z coords are zero\n",
      "RDKit WARNING: [13:28:49] Warning: molecule is tagged as 3D, but all Z coords are zero\n",
      "RDKit WARNING: [13:28:49] Warning: molecule is tagged as 3D, but all Z coords are zero\n",
      "RDKit WARNING: [13:28:49] Warning: molecule is tagged as 3D, but all Z coords are zero\n",
      "[13:28:49] Warning: molecule is tagged as 3D, but all Z coords are zero\n",
      "[13:28:49] Warning: molecule is tagged as 3D, but all Z coords are zero\n",
      "[13:28:49] Warning: molecule is tagged as 3D, but all Z coords are zero\n",
      "[13:28:49] Warning: molecule is tagged as 3D, but all Z coords are zero\n",
      "RDKit WARNING: [13:28:49] Warning: molecule is tagged as 3D, but all Z coords are zero\n",
      "[13:28:49] Warning: molecule is tagged as 3D, but all Z coords are zero\n",
      "RDKit WARNING: [13:28:49] Warning: molecule is tagged as 3D, but all Z coords are zero\n",
      "RDKit WARNING: [13:28:49] Warning: molecule is tagged as 3D, but all Z coords are zero\n",
      "[13:28:49] Warning: molecule is tagged as 3D, but all Z coords are zero\n",
      "[13:28:49] Warning: molecule is tagged as 3D, but all Z coords are zero\n",
      "RDKit WARNING: [13:28:49] Warning: molecule is tagged as 3D, but all Z coords are zero\n",
      "RDKit WARNING: [13:28:49] Warning: molecule is tagged as 3D, but all Z coords are zero\n",
      "RDKit WARNING: [13:28:49] Warning: molecule is tagged as 3D, but all Z coords are zero\n",
      "RDKit WARNING: [13:28:49] Warning: molecule is tagged as 3D, but all Z coords are zero\n",
      "[13:28:49] Warning: molecule is tagged as 3D, but all Z coords are zero\n",
      "[13:28:49] Warning: molecule is tagged as 3D, but all Z coords are zero\n",
      "[13:28:49] Warning: molecule is tagged as 3D, but all Z coords are zero\n",
      "[13:28:49] Warning: molecule is tagged as 3D, but all Z coords are zero\n",
      "RDKit WARNING: [13:28:49] Warning: molecule is tagged as 3D, but all Z coords are zero\n",
      "[13:28:49] Warning: molecule is tagged as 3D, but all Z coords are zero\n",
      "RDKit WARNING: [13:28:50] Warning: molecule is tagged as 3D, but all Z coords are zero\n",
      "RDKit WARNING: [13:28:50] Warning: molecule is tagged as 3D, but all Z coords are zero\n",
      "[13:28:50] Warning: molecule is tagged as 3D, but all Z coords are zero\n",
      "[13:28:50] Warning: molecule is tagged as 3D, but all Z coords are zero\n",
      "RDKit WARNING: [13:28:50] Warning: molecule is tagged as 3D, but all Z coords are zero\n",
      "[13:28:50] Warning: molecule is tagged as 3D, but all Z coords are zero\n",
      "RDKit WARNING: [13:28:50] Warning: molecule is tagged as 3D, but all Z coords are zero\n",
      "RDKit WARNING: [13:28:50] Warning: molecule is tagged as 3D, but all Z coords are zero\n",
      "[13:28:50] Warning: molecule is tagged as 3D, but all Z coords are zero\n",
      "[13:28:50] Warning: molecule is tagged as 3D, but all Z coords are zero\n",
      "RDKit WARNING: [13:28:50] Warning: molecule is tagged as 3D, but all Z coords are zero\n",
      "RDKit WARNING: [13:28:50] Warning: molecule is tagged as 3D, but all Z coords are zero\n",
      "RDKit WARNING: [13:28:50] Warning: molecule is tagged as 3D, but all Z coords are zero\n",
      "RDKit WARNING: [13:28:50] Warning: molecule is tagged as 3D, but all Z coords are zero\n",
      "[13:28:50] Warning: molecule is tagged as 3D, but all Z coords are zero\n",
      "[13:28:50] Warning: molecule is tagged as 3D, but all Z coords are zero\n",
      "[13:28:50] Warning: molecule is tagged as 3D, but all Z coords are zero\n",
      "[13:28:50] Warning: molecule is tagged as 3D, but all Z coords are zero\n",
      "RDKit WARNING: [13:28:50] Warning: molecule is tagged as 3D, but all Z coords are zero\n",
      "RDKit WARNING: [13:28:50] Warning: molecule is tagged as 3D, but all Z coords are zero\n",
      "[13:28:50] Warning: molecule is tagged as 3D, but all Z coords are zero\n",
      "[13:28:50] Warning: molecule is tagged as 3D, but all Z coords are zero\n",
      "RDKit WARNING: [13:28:50] Warning: molecule is tagged as 3D, but all Z coords are zero\n",
      "[13:28:50] Warning: molecule is tagged as 3D, but all Z coords are zero\n",
      "RDKit WARNING: [13:28:50] Warning: molecule is tagged as 3D, but all Z coords are zero\n",
      "[13:28:50] Warning: molecule is tagged as 3D, but all Z coords are zero\n",
      "RDKit WARNING: [13:28:50] Warning: molecule is tagged as 3D, but all Z coords are zero\n",
      "RDKit WARNING: [13:28:50] Warning: molecule is tagged as 3D, but all Z coords are zero\n",
      "[13:28:50] Warning: molecule is tagged as 3D, but all Z coords are zero\n",
      "[13:28:50] Warning: molecule is tagged as 3D, but all Z coords are zero\n",
      "RDKit WARNING: [13:28:50] Warning: molecule is tagged as 3D, but all Z coords are zero\n",
      "RDKit WARNING: [13:28:50] Warning: molecule is tagged as 3D, but all Z coords are zero\n",
      "[13:28:50] Warning: molecule is tagged as 3D, but all Z coords are zero\n",
      "[13:28:50] Warning: molecule is tagged as 3D, but all Z coords are zero\n",
      "RDKit WARNING: [13:28:50] Warning: molecule is tagged as 3D, but all Z coords are zero\n",
      "RDKit WARNING: [13:28:50] Warning: molecule is tagged as 3D, but all Z coords are zero\n",
      "RDKit WARNING: [13:28:50] Warning: molecule is tagged as 3D, but all Z coords are zero\n",
      "[13:28:50] Warning: molecule is tagged as 3D, but all Z coords are zero\n",
      "RDKit WARNING: [13:28:50] Warning: molecule is tagged as 3D, but all Z coords are zero\n",
      "[13:28:50] Warning: molecule is tagged as 3D, but all Z coords are zero\n",
      "[13:28:50] Warning: molecule is tagged as 3D, but all Z coords are zero\n",
      "[13:28:50] Warning: molecule is tagged as 3D, but all Z coords are zero\n",
      "RDKit WARNING: [13:28:50] Warning: molecule is tagged as 3D, but all Z coords are zero\n",
      "RDKit WARNING: [13:28:50] Warning: molecule is tagged as 3D, but all Z coords are zero\n",
      "[13:28:50] Warning: molecule is tagged as 3D, but all Z coords are zero\n",
      "[13:28:50] Warning: molecule is tagged as 3D, but all Z coords are zero\n"
     ]
    },
    {
     "name": "stderr",
     "output_type": "stream",
     "text": [
      "RDKit WARNING: [13:28:50] Warning: molecule is tagged as 3D, but all Z coords are zero\n",
      "[13:28:50] Warning: molecule is tagged as 3D, but all Z coords are zero\n",
      "RDKit WARNING: [13:28:51] Warning: molecule is tagged as 3D, but all Z coords are zero\n",
      "[13:28:51] Warning: molecule is tagged as 3D, but all Z coords are zero\n",
      "RDKit WARNING: [13:28:51] Warning: molecule is tagged as 3D, but all Z coords are zero\n",
      "RDKit WARNING: [13:28:51] Warning: molecule is tagged as 3D, but all Z coords are zero\n",
      "RDKit WARNING: [13:28:51] Warning: molecule is tagged as 3D, but all Z coords are zero\n",
      "[13:28:51] Warning: molecule is tagged as 3D, but all Z coords are zero\n",
      "[13:28:51] Warning: molecule is tagged as 3D, but all Z coords are zero\n",
      "[13:28:51] Warning: molecule is tagged as 3D, but all Z coords are zero\n",
      "RDKit WARNING: [13:28:51] Warning: molecule is tagged as 3D, but all Z coords are zero\n",
      "[13:28:51] Warning: molecule is tagged as 3D, but all Z coords are zero\n",
      "RDKit WARNING: [13:28:51] Warning: molecule is tagged as 3D, but all Z coords are zero\n",
      "[13:28:51] Warning: molecule is tagged as 3D, but all Z coords are zero\n",
      "RDKit WARNING: [13:28:51] Warning: molecule is tagged as 3D, but all Z coords are zero\n",
      "RDKit WARNING: [13:28:51] Warning: molecule is tagged as 3D, but all Z coords are zero\n",
      "RDKit WARNING: [13:28:51] Warning: molecule is tagged as 3D, but all Z coords are zero\n",
      "[13:28:51] Warning: molecule is tagged as 3D, but all Z coords are zero\n",
      "[13:28:51] Warning: molecule is tagged as 3D, but all Z coords are zero\n",
      "[13:28:51] Warning: molecule is tagged as 3D, but all Z coords are zero\n",
      "RDKit WARNING: [13:28:51] Warning: molecule is tagged as 3D, but all Z coords are zero\n",
      "RDKit WARNING: [13:28:51] Warning: molecule is tagged as 3D, but all Z coords are zero\n",
      "RDKit WARNING: [13:28:51] Warning: molecule is tagged as 3D, but all Z coords are zero\n",
      "RDKit WARNING: [13:28:51] Warning: molecule is tagged as 3D, but all Z coords are zero\n",
      "RDKit WARNING: [13:28:51] Warning: molecule is tagged as 3D, but all Z coords are zero\n",
      "RDKit WARNING: [13:28:51] Warning: molecule is tagged as 3D, but all Z coords are zero\n",
      "RDKit WARNING: [13:28:51] Warning: molecule is tagged as 3D, but all Z coords are zero\n",
      "RDKit WARNING: [13:28:51] Warning: molecule is tagged as 3D, but all Z coords are zero\n",
      "[13:28:51] Warning: molecule is tagged as 3D, but all Z coords are zero\n",
      "[13:28:51] Warning: molecule is tagged as 3D, but all Z coords are zero\n",
      "[13:28:51] Warning: molecule is tagged as 3D, but all Z coords are zero\n",
      "[13:28:51] Warning: molecule is tagged as 3D, but all Z coords are zero\n",
      "[13:28:51] Warning: molecule is tagged as 3D, but all Z coords are zero\n",
      "[13:28:51] Warning: molecule is tagged as 3D, but all Z coords are zero\n",
      "[13:28:51] Warning: molecule is tagged as 3D, but all Z coords are zero\n",
      "[13:28:51] Warning: molecule is tagged as 3D, but all Z coords are zero\n",
      "RDKit WARNING: [13:28:51] Warning: molecule is tagged as 3D, but all Z coords are zero\n",
      "RDKit WARNING: [13:28:51] Warning: molecule is tagged as 3D, but all Z coords are zero\n",
      "[13:28:51] Warning: molecule is tagged as 3D, but all Z coords are zero\n",
      "[13:28:51] Warning: molecule is tagged as 3D, but all Z coords are zero\n",
      "RDKit WARNING: [13:28:51] Warning: molecule is tagged as 3D, but all Z coords are zero\n",
      "[13:28:51] Warning: molecule is tagged as 3D, but all Z coords are zero\n",
      "RDKit WARNING: [13:28:51] Warning: molecule is tagged as 3D, but all Z coords are zero\n",
      "[13:28:51] Warning: molecule is tagged as 3D, but all Z coords are zero\n",
      "RDKit WARNING: [13:28:52] Warning: molecule is tagged as 3D, but all Z coords are zero\n",
      "[13:28:52] Warning: molecule is tagged as 3D, but all Z coords are zero\n",
      "RDKit WARNING: [13:28:52] Warning: molecule is tagged as 3D, but all Z coords are zero\n",
      "[13:28:52] Warning: molecule is tagged as 3D, but all Z coords are zero\n",
      "RDKit WARNING: [13:28:52] Warning: molecule is tagged as 3D, but all Z coords are zero\n",
      "[13:28:52] Warning: molecule is tagged as 3D, but all Z coords are zero\n",
      "RDKit WARNING: [13:28:52] Warning: molecule is tagged as 3D, but all Z coords are zero\n",
      "RDKit WARNING: [13:28:52] Warning: molecule is tagged as 3D, but all Z coords are zero\n",
      "RDKit WARNING: [13:28:52] Warning: molecule is tagged as 3D, but all Z coords are zero\n",
      "RDKit WARNING: [13:28:52] Warning: molecule is tagged as 3D, but all Z coords are zero\n",
      "RDKit WARNING: [13:28:52] Warning: molecule is tagged as 3D, but all Z coords are zero\n",
      "[13:28:52] Warning: molecule is tagged as 3D, but all Z coords are zero\n",
      "[13:28:52] Warning: molecule is tagged as 3D, but all Z coords are zero\n",
      "[13:28:52] Warning: molecule is tagged as 3D, but all Z coords are zero\n",
      "[13:28:52] Warning: molecule is tagged as 3D, but all Z coords are zero\n",
      "[13:28:52] Warning: molecule is tagged as 3D, but all Z coords are zero\n",
      "RDKit WARNING: [13:28:52] Warning: molecule is tagged as 3D, but all Z coords are zero\n",
      "RDKit WARNING: [13:28:52] Warning: molecule is tagged as 3D, but all Z coords are zero\n",
      "RDKit WARNING: [13:28:52] Warning: molecule is tagged as 3D, but all Z coords are zero\n",
      "[13:28:52] Warning: molecule is tagged as 3D, but all Z coords are zero\n",
      "[13:28:52] Warning: molecule is tagged as 3D, but all Z coords are zero\n",
      "[13:28:52] Warning: molecule is tagged as 3D, but all Z coords are zero\n",
      "RDKit WARNING: [13:28:52] Warning: molecule is tagged as 3D, but all Z coords are zero\n",
      "[13:28:52] Warning: molecule is tagged as 3D, but all Z coords are zero\n",
      "RDKit WARNING: [13:28:52] Warning: molecule is tagged as 3D, but all Z coords are zero\n",
      "RDKit WARNING: [13:28:52] Warning: molecule is tagged as 3D, but all Z coords are zero\n",
      "RDKit WARNING: [13:28:52] Warning: molecule is tagged as 3D, but all Z coords are zero\n",
      "RDKit WARNING: [13:28:52] Warning: molecule is tagged as 3D, but all Z coords are zero\n",
      "[13:28:52] Warning: molecule is tagged as 3D, but all Z coords are zero\n",
      "RDKit WARNING: [13:28:52] Warning: molecule is tagged as 3D, but all Z coords are zero\n",
      "[13:28:52] Warning: molecule is tagged as 3D, but all Z coords are zero\n",
      "[13:28:52] Warning: molecule is tagged as 3D, but all Z coords are zero\n",
      "[13:28:52] Warning: molecule is tagged as 3D, but all Z coords are zero\n",
      "[13:28:52] Warning: molecule is tagged as 3D, but all Z coords are zero\n",
      "RDKit WARNING: [13:28:52] Warning: molecule is tagged as 3D, but all Z coords are zero\n",
      "[13:28:52] Warning: molecule is tagged as 3D, but all Z coords are zero\n",
      "RDKit WARNING: [13:28:52] Warning: molecule is tagged as 3D, but all Z coords are zero\n",
      "[13:28:52] Warning: molecule is tagged as 3D, but all Z coords are zero\n",
      "RDKit WARNING: [13:28:52] Warning: molecule is tagged as 3D, but all Z coords are zero\n",
      "[13:28:52] Warning: molecule is tagged as 3D, but all Z coords are zero\n",
      "RDKit WARNING: [13:28:52] Warning: molecule is tagged as 3D, but all Z coords are zero\n",
      "RDKit WARNING: [13:28:52] Warning: molecule is tagged as 3D, but all Z coords are zero\n",
      "RDKit WARNING: [13:28:52] Warning: molecule is tagged as 3D, but all Z coords are zero\n",
      "RDKit WARNING: [13:28:52] Warning: molecule is tagged as 3D, but all Z coords are zero\n",
      "[13:28:52] Warning: molecule is tagged as 3D, but all Z coords are zero\n",
      "[13:28:52] Warning: molecule is tagged as 3D, but all Z coords are zero\n",
      "[13:28:52] Warning: molecule is tagged as 3D, but all Z coords are zero\n",
      "[13:28:52] Warning: molecule is tagged as 3D, but all Z coords are zero\n",
      "RDKit WARNING: [13:28:52] Warning: molecule is tagged as 3D, but all Z coords are zero\n",
      "[13:28:52] Warning: molecule is tagged as 3D, but all Z coords are zero\n",
      "RDKit WARNING: [13:28:52] Warning: molecule is tagged as 3D, but all Z coords are zero\n",
      "[13:28:52] Warning: molecule is tagged as 3D, but all Z coords are zero\n",
      "RDKit WARNING: [13:28:52] Warning: molecule is tagged as 3D, but all Z coords are zero\n",
      "[13:28:52] Warning: molecule is tagged as 3D, but all Z coords are zero\n",
      "RDKit WARNING: [13:28:52] Warning: molecule is tagged as 3D, but all Z coords are zero\n",
      "RDKit WARNING: [13:28:52] Warning: molecule is tagged as 3D, but all Z coords are zero\n",
      "[13:28:52] Warning: molecule is tagged as 3D, but all Z coords are zero\n",
      "RDKit WARNING: [13:28:52] Warning: molecule is tagged as 3D, but all Z coords are zero\n",
      "RDKit WARNING: [13:28:53] Warning: molecule is tagged as 3D, but all Z coords are zero\n",
      "[13:28:52] Warning: molecule is tagged as 3D, but all Z coords are zero\n",
      "RDKit WARNING: [13:28:53] Warning: molecule is tagged as 3D, but all Z coords are zero\n",
      "[13:28:52] Warning: molecule is tagged as 3D, but all Z coords are zero\n",
      "[13:28:53] Warning: molecule is tagged as 3D, but all Z coords are zero\n"
     ]
    },
    {
     "name": "stderr",
     "output_type": "stream",
     "text": [
      "[13:28:53] Warning: molecule is tagged as 3D, but all Z coords are zero\n",
      "RDKit WARNING: [13:28:53] Warning: molecule is tagged as 3D, but all Z coords are zero\n",
      "RDKit WARNING: [13:28:53] Warning: molecule is tagged as 3D, but all Z coords are zero\n",
      "RDKit WARNING: [13:28:53] Warning: molecule is tagged as 3D, but all Z coords are zero\n",
      "[13:28:53] Warning: molecule is tagged as 3D, but all Z coords are zero\n",
      "[13:28:53] Warning: molecule is tagged as 3D, but all Z coords are zero\n",
      "[13:28:53] Warning: molecule is tagged as 3D, but all Z coords are zero\n",
      "RDKit WARNING: [13:28:53] Warning: molecule is tagged as 3D, but all Z coords are zero\n",
      "[13:28:53] Warning: molecule is tagged as 3D, but all Z coords are zero\n",
      "RDKit WARNING: [13:28:53] Warning: molecule is tagged as 3D, but all Z coords are zero\n",
      "[13:28:53] Warning: molecule is tagged as 3D, but all Z coords are zero\n",
      "RDKit WARNING: [13:28:53] Warning: molecule is tagged as 3D, but all Z coords are zero\n",
      "RDKit WARNING: [13:28:53] Warning: molecule is tagged as 3D, but all Z coords are zero\n",
      "RDKit WARNING: [13:28:53] Warning: molecule is tagged as 3D, but all Z coords are zero\n",
      "RDKit WARNING: [13:28:53] Warning: molecule is tagged as 3D, but all Z coords are zero\n",
      "[13:28:53] Warning: molecule is tagged as 3D, but all Z coords are zero\n",
      "[13:28:53] Warning: molecule is tagged as 3D, but all Z coords are zero\n",
      "[13:28:53] Warning: molecule is tagged as 3D, but all Z coords are zero\n",
      "[13:28:53] Warning: molecule is tagged as 3D, but all Z coords are zero\n",
      "RDKit WARNING: [13:28:53] Warning: molecule is tagged as 3D, but all Z coords are zero\n",
      "RDKit WARNING: [13:28:53] Warning: molecule is tagged as 3D, but all Z coords are zero\n",
      "RDKit WARNING: [13:28:53] Warning: molecule is tagged as 3D, but all Z coords are zero\n",
      "[13:28:53] Warning: molecule is tagged as 3D, but all Z coords are zero\n",
      "[13:28:53] Warning: molecule is tagged as 3D, but all Z coords are zero\n",
      "[13:28:53] Warning: molecule is tagged as 3D, but all Z coords are zero\n",
      "RDKit WARNING: [13:28:53] Warning: molecule is tagged as 3D, but all Z coords are zero\n",
      "[13:28:53] Warning: molecule is tagged as 3D, but all Z coords are zero\n",
      "RDKit WARNING: [13:28:53] Warning: molecule is tagged as 3D, but all Z coords are zero\n",
      "[13:28:53] Warning: molecule is tagged as 3D, but all Z coords are zero\n",
      "RDKit WARNING: [13:28:53] Warning: molecule is tagged as 3D, but all Z coords are zero\n",
      "RDKit WARNING: [13:28:53] Warning: molecule is tagged as 3D, but all Z coords are zero\n",
      "RDKit WARNING: [13:28:53] Warning: molecule is tagged as 3D, but all Z coords are zero\n",
      "RDKit WARNING: [13:28:53] Warning: molecule is tagged as 3D, but all Z coords are zero\n",
      "RDKit WARNING: [13:28:53] Warning: molecule is tagged as 3D, but all Z coords are zero\n",
      "RDKit WARNING: [13:28:53] Warning: molecule is tagged as 3D, but all Z coords are zero\n",
      "[13:28:53] Warning: molecule is tagged as 3D, but all Z coords are zero\n",
      "[13:28:53] Warning: molecule is tagged as 3D, but all Z coords are zero\n",
      "[13:28:53] Warning: molecule is tagged as 3D, but all Z coords are zero\n",
      "[13:28:53] Warning: molecule is tagged as 3D, but all Z coords are zero\n",
      "[13:28:53] Warning: molecule is tagged as 3D, but all Z coords are zero\n",
      "[13:28:53] Warning: molecule is tagged as 3D, but all Z coords are zero\n",
      "RDKit WARNING: [13:28:53] Warning: molecule is tagged as 3D, but all Z coords are zero\n",
      "[13:28:53] Warning: molecule is tagged as 3D, but all Z coords are zero\n",
      "RDKit WARNING: [13:28:53] Warning: molecule is tagged as 3D, but all Z coords are zero\n",
      "RDKit WARNING: [13:28:53] Warning: molecule is tagged as 3D, but all Z coords are zero\n",
      "RDKit WARNING: [13:28:53] Warning: molecule is tagged as 3D, but all Z coords are zero\n",
      "RDKit WARNING: [13:28:53] Warning: molecule is tagged as 3D, but all Z coords are zero\n",
      "[13:28:53] Warning: molecule is tagged as 3D, but all Z coords are zero\n",
      "[13:28:53] Warning: molecule is tagged as 3D, but all Z coords are zero\n",
      "[13:28:53] Warning: molecule is tagged as 3D, but all Z coords are zero\n",
      "[13:28:53] Warning: molecule is tagged as 3D, but all Z coords are zero\n",
      "RDKit WARNING: [13:28:54] Warning: molecule is tagged as 3D, but all Z coords are zero\n",
      "[13:28:54] Warning: molecule is tagged as 3D, but all Z coords are zero\n",
      "RDKit WARNING: [13:28:54] Warning: molecule is tagged as 3D, but all Z coords are zero\n",
      "[13:28:54] Warning: molecule is tagged as 3D, but all Z coords are zero\n",
      "RDKit WARNING: [13:28:54] Warning: molecule is tagged as 3D, but all Z coords are zero\n",
      "[13:28:54] Warning: molecule is tagged as 3D, but all Z coords are zero\n",
      "RDKit WARNING: [13:28:54] Warning: molecule is tagged as 3D, but all Z coords are zero\n",
      "RDKit WARNING: [13:28:54] Warning: molecule is tagged as 3D, but all Z coords are zero\n",
      "[13:28:54] Warning: molecule is tagged as 3D, but all Z coords are zero\n",
      "RDKit WARNING: [13:28:54] Warning: molecule is tagged as 3D, but all Z coords are zero\n",
      "[13:28:54] Warning: molecule is tagged as 3D, but all Z coords are zero\n",
      "[13:28:54] Warning: molecule is tagged as 3D, but all Z coords are zero\n",
      "RDKit WARNING: [13:28:54] Warning: molecule is tagged as 3D, but all Z coords are zero\n",
      "[13:28:54] Warning: molecule is tagged as 3D, but all Z coords are zero\n",
      "RDKit WARNING: [13:28:54] Warning: molecule is tagged as 3D, but all Z coords are zero\n",
      "[13:28:54] Warning: molecule is tagged as 3D, but all Z coords are zero\n",
      "RDKit WARNING: [13:28:54] Warning: molecule is tagged as 3D, but all Z coords are zero\n",
      "[13:28:54] Warning: molecule is tagged as 3D, but all Z coords are zero\n",
      "RDKit WARNING: [13:28:54] Warning: molecule is tagged as 3D, but all Z coords are zero\n",
      "[13:28:54] Warning: molecule is tagged as 3D, but all Z coords are zero\n",
      "RDKit WARNING: [13:28:54] Warning: molecule is tagged as 3D, but all Z coords are zero\n",
      "[13:28:54] Warning: molecule is tagged as 3D, but all Z coords are zero\n",
      "RDKit WARNING: [13:28:54] Warning: molecule is tagged as 3D, but all Z coords are zero\n",
      "RDKit WARNING: [13:28:54] Warning: molecule is tagged as 3D, but all Z coords are zero\n",
      "RDKit WARNING: [13:28:54] Warning: molecule is tagged as 3D, but all Z coords are zero\n",
      "[13:28:54] Warning: molecule is tagged as 3D, but all Z coords are zero\n",
      "[13:28:54] Warning: molecule is tagged as 3D, but all Z coords are zero\n",
      "[13:28:54] Warning: molecule is tagged as 3D, but all Z coords are zero\n",
      "RDKit WARNING: [13:28:54] Warning: molecule is tagged as 3D, but all Z coords are zero\n",
      "[13:28:54] Warning: molecule is tagged as 3D, but all Z coords are zero\n",
      "RDKit WARNING: [13:28:54] Warning: molecule is tagged as 3D, but all Z coords are zero\n",
      "[13:28:54] Warning: molecule is tagged as 3D, but all Z coords are zero\n",
      "RDKit WARNING: [13:28:54] Warning: molecule is tagged as 3D, but all Z coords are zero\n",
      "RDKit WARNING: [13:28:54] Warning: molecule is tagged as 3D, but all Z coords are zero\n",
      "[13:28:54] Warning: molecule is tagged as 3D, but all Z coords are zero\n",
      "[13:28:54] Warning: molecule is tagged as 3D, but all Z coords are zero\n",
      "RDKit WARNING: [13:28:54] Warning: molecule is tagged as 3D, but all Z coords are zero\n",
      "[13:28:54] Warning: molecule is tagged as 3D, but all Z coords are zero\n",
      "RDKit WARNING: [13:28:55] Warning: molecule is tagged as 3D, but all Z coords are zero\n",
      "[13:28:55] Warning: molecule is tagged as 3D, but all Z coords are zero\n",
      "RDKit WARNING: [13:28:55] Warning: molecule is tagged as 3D, but all Z coords are zero\n",
      "RDKit WARNING: [13:28:55] Warning: molecule is tagged as 3D, but all Z coords are zero\n",
      "[13:28:55] Warning: molecule is tagged as 3D, but all Z coords are zero\n",
      "[13:28:55] Warning: molecule is tagged as 3D, but all Z coords are zero\n",
      "RDKit WARNING: [13:28:55] Warning: molecule is tagged as 3D, but all Z coords are zero\n",
      "RDKit WARNING: [13:28:55] Warning: molecule is tagged as 3D, but all Z coords are zero\n",
      "RDKit WARNING: [13:28:55] Warning: molecule is tagged as 3D, but all Z coords are zero\n",
      "RDKit WARNING: [13:28:55] Warning: molecule is tagged as 3D, but all Z coords are zero\n",
      "RDKit WARNING: [13:28:55] Warning: molecule is tagged as 3D, but all Z coords are zero\n",
      "RDKit WARNING: [13:28:55] Warning: molecule is tagged as 3D, but all Z coords are zero\n",
      "[13:28:55] Warning: molecule is tagged as 3D, but all Z coords are zero\n",
      "[13:28:55] Warning: molecule is tagged as 3D, but all Z coords are zero\n",
      "[13:28:55] Warning: molecule is tagged as 3D, but all Z coords are zero\n",
      "[13:28:55] Warning: molecule is tagged as 3D, but all Z coords are zero\n",
      "[13:28:55] Warning: molecule is tagged as 3D, but all Z coords are zero\n",
      "[13:28:55] Warning: molecule is tagged as 3D, but all Z coords are zero\n",
      "RDKit WARNING: [13:28:55] Warning: molecule is tagged as 3D, but all Z coords are zero\n",
      "[13:28:55] Warning: molecule is tagged as 3D, but all Z coords are zero\n",
      "RDKit WARNING: [13:28:55] Warning: molecule is tagged as 3D, but all Z coords are zero\n",
      "RDKit WARNING: [13:28:55] Warning: molecule is tagged as 3D, but all Z coords are zero\n",
      "RDKit WARNING: [13:28:55] Warning: molecule is tagged as 3D, but all Z coords are zero\n",
      "[13:28:55] Warning: molecule is tagged as 3D, but all Z coords are zero\n"
     ]
    },
    {
     "name": "stderr",
     "output_type": "stream",
     "text": [
      "[13:28:55] Warning: molecule is tagged as 3D, but all Z coords are zero\n",
      "[13:28:55] Warning: molecule is tagged as 3D, but all Z coords are zero\n",
      "RDKit WARNING: [13:28:55] Warning: molecule is tagged as 3D, but all Z coords are zero\n",
      "[13:28:55] Warning: molecule is tagged as 3D, but all Z coords are zero\n",
      "RDKit WARNING: [13:28:55] Warning: molecule is tagged as 3D, but all Z coords are zero\n",
      "[13:28:55] Warning: molecule is tagged as 3D, but all Z coords are zero\n",
      "RDKit WARNING: [13:28:55] Warning: molecule is tagged as 3D, but all Z coords are zero\n",
      "RDKit WARNING: [13:28:55] Warning: molecule is tagged as 3D, but all Z coords are zero\n",
      "RDKit WARNING: [13:28:55] Warning: molecule is tagged as 3D, but all Z coords are zero\n",
      "RDKit WARNING: [13:28:55] Warning: molecule is tagged as 3D, but all Z coords are zero\n",
      "[13:28:55] Warning: molecule is tagged as 3D, but all Z coords are zero\n",
      "[13:28:55] Warning: molecule is tagged as 3D, but all Z coords are zero\n",
      "[13:28:55] Warning: molecule is tagged as 3D, but all Z coords are zero\n",
      "[13:28:55] Warning: molecule is tagged as 3D, but all Z coords are zero\n",
      "RDKit WARNING: [13:28:55] Warning: molecule is tagged as 3D, but all Z coords are zero\n",
      "[13:28:55] Warning: molecule is tagged as 3D, but all Z coords are zero\n",
      "RDKit WARNING: [13:28:55] Warning: molecule is tagged as 3D, but all Z coords are zero\n",
      "RDKit WARNING: [13:28:55] Warning: molecule is tagged as 3D, but all Z coords are zero\n",
      "RDKit WARNING: [13:28:55] Warning: molecule is tagged as 3D, but all Z coords are zero\n",
      "[13:28:55] Warning: molecule is tagged as 3D, but all Z coords are zero\n",
      "[13:28:55] Warning: molecule is tagged as 3D, but all Z coords are zero\n",
      "[13:28:55] Warning: molecule is tagged as 3D, but all Z coords are zero\n",
      "RDKit WARNING: [13:28:55] Warning: molecule is tagged as 3D, but all Z coords are zero\n",
      "RDKit WARNING: [13:28:55] Warning: molecule is tagged as 3D, but all Z coords are zero\n",
      "[13:28:55] Warning: molecule is tagged as 3D, but all Z coords are zero\n",
      "[13:28:55] Warning: molecule is tagged as 3D, but all Z coords are zero\n",
      "RDKit WARNING: [13:28:55] Warning: molecule is tagged as 3D, but all Z coords are zero\n",
      "[13:28:55] Warning: molecule is tagged as 3D, but all Z coords are zero\n",
      "RDKit WARNING: [13:28:55] Warning: molecule is tagged as 3D, but all Z coords are zero\n",
      "RDKit WARNING: [13:28:55] Warning: molecule is tagged as 3D, but all Z coords are zero\n",
      "RDKit WARNING: [13:28:55] Warning: molecule is tagged as 3D, but all Z coords are zero\n",
      "[13:28:55] Warning: molecule is tagged as 3D, but all Z coords are zero\n",
      "[13:28:55] Warning: molecule is tagged as 3D, but all Z coords are zero\n",
      "[13:28:55] Warning: molecule is tagged as 3D, but all Z coords are zero\n",
      "RDKit WARNING: [13:28:55] Warning: molecule is tagged as 3D, but all Z coords are zero\n",
      "[13:28:55] Warning: molecule is tagged as 3D, but all Z coords are zero\n",
      "RDKit WARNING: [13:28:55] Warning: molecule is tagged as 3D, but all Z coords are zero\n",
      "[13:28:55] Warning: molecule is tagged as 3D, but all Z coords are zero\n",
      "RDKit WARNING: [13:28:55] Warning: molecule is tagged as 3D, but all Z coords are zero\n",
      "RDKit WARNING: [13:28:55] Warning: molecule is tagged as 3D, but all Z coords are zero\n",
      "RDKit WARNING: [13:28:55] Warning: molecule is tagged as 3D, but all Z coords are zero\n",
      "[13:28:55] Warning: molecule is tagged as 3D, but all Z coords are zero\n",
      "[13:28:55] Warning: molecule is tagged as 3D, but all Z coords are zero\n",
      "[13:28:55] Warning: molecule is tagged as 3D, but all Z coords are zero\n",
      "RDKit WARNING: [13:28:55] Warning: molecule is tagged as 3D, but all Z coords are zero\n",
      "RDKit WARNING: [13:28:55] Warning: molecule is tagged as 3D, but all Z coords are zero\n",
      "RDKit WARNING: [13:28:55] Warning: molecule is tagged as 3D, but all Z coords are zero\n",
      "RDKit WARNING: [13:28:55] Warning: molecule is tagged as 3D, but all Z coords are zero\n",
      "RDKit WARNING: [13:28:56] Warning: molecule is tagged as 3D, but all Z coords are zero\n",
      "RDKit WARNING: [13:28:56] Warning: molecule is tagged as 3D, but all Z coords are zero\n",
      "[13:28:55] Warning: molecule is tagged as 3D, but all Z coords are zero\n",
      "[13:28:55] Warning: molecule is tagged as 3D, but all Z coords are zero\n",
      "[13:28:55] Warning: molecule is tagged as 3D, but all Z coords are zero\n",
      "[13:28:55] Warning: molecule is tagged as 3D, but all Z coords are zero\n",
      "[13:28:56] Warning: molecule is tagged as 3D, but all Z coords are zero\n",
      "[13:28:56] Warning: molecule is tagged as 3D, but all Z coords are zero\n",
      "RDKit WARNING: [13:28:56] Warning: molecule is tagged as 3D, but all Z coords are zero\n",
      "[13:28:56] Warning: molecule is tagged as 3D, but all Z coords are zero\n",
      "RDKit WARNING: [13:28:56] Warning: molecule is tagged as 3D, but all Z coords are zero\n",
      "[13:28:56] Warning: molecule is tagged as 3D, but all Z coords are zero\n",
      "RDKit WARNING: [13:28:56] Warning: molecule is tagged as 3D, but all Z coords are zero\n",
      "[13:28:56] Warning: molecule is tagged as 3D, but all Z coords are zero\n",
      "RDKit WARNING: [13:28:56] Warning: molecule is tagged as 3D, but all Z coords are zero\n",
      "RDKit WARNING: [13:28:56] Warning: molecule is tagged as 3D, but all Z coords are zero\n",
      "RDKit WARNING: [13:28:56] Warning: molecule is tagged as 3D, but all Z coords are zero\n",
      "RDKit WARNING: [13:28:56] Warning: molecule is tagged as 3D, but all Z coords are zero\n",
      "[13:28:56] Warning: molecule is tagged as 3D, but all Z coords are zero\n",
      "[13:28:56] Warning: molecule is tagged as 3D, but all Z coords are zero\n",
      "[13:28:56] Warning: molecule is tagged as 3D, but all Z coords are zero\n",
      "[13:28:56] Warning: molecule is tagged as 3D, but all Z coords are zero\n",
      "RDKit WARNING: [13:28:56] Warning: molecule is tagged as 3D, but all Z coords are zero\n",
      "[13:28:56] Warning: molecule is tagged as 3D, but all Z coords are zero\n",
      "RDKit WARNING: [13:28:56] Warning: molecule is tagged as 3D, but all Z coords are zero\n",
      "RDKit WARNING: [13:28:56] Warning: molecule is tagged as 3D, but all Z coords are zero\n",
      "RDKit WARNING: [13:28:56] Warning: molecule is tagged as 3D, but all Z coords are zero\n",
      "[13:28:56] Warning: molecule is tagged as 3D, but all Z coords are zero\n",
      "[13:28:56] Warning: molecule is tagged as 3D, but all Z coords are zero\n",
      "[13:28:56] Warning: molecule is tagged as 3D, but all Z coords are zero\n",
      "RDKit WARNING: [13:28:56] Warning: molecule is tagged as 3D, but all Z coords are zero\n",
      "[13:28:56] Warning: molecule is tagged as 3D, but all Z coords are zero\n",
      "RDKit WARNING: [13:28:56] Warning: molecule is tagged as 3D, but all Z coords are zero\n",
      "[13:28:56] Warning: molecule is tagged as 3D, but all Z coords are zero\n",
      "RDKit WARNING: [13:28:56] Warning: molecule is tagged as 3D, but all Z coords are zero\n",
      "[13:28:56] Warning: molecule is tagged as 3D, but all Z coords are zero\n",
      "RDKit WARNING: [13:28:56] Warning: molecule is tagged as 3D, but all Z coords are zero\n",
      "[13:28:56] Warning: molecule is tagged as 3D, but all Z coords are zero\n",
      "RDKit WARNING: [13:28:56] Warning: molecule is tagged as 3D, but all Z coords are zero\n",
      "[13:28:56] Warning: molecule is tagged as 3D, but all Z coords are zero\n",
      "RDKit WARNING: [13:28:56] Warning: molecule is tagged as 3D, but all Z coords are zero\n",
      "RDKit WARNING: [13:28:56] Warning: molecule is tagged as 3D, but all Z coords are zero\n",
      "[13:28:56] Warning: molecule is tagged as 3D, but all Z coords are zero\n",
      "[13:28:56] Warning: molecule is tagged as 3D, but all Z coords are zero\n",
      "RDKit WARNING: [13:28:56] Warning: molecule is tagged as 3D, but all Z coords are zero\n",
      "[13:28:56] Warning: molecule is tagged as 3D, but all Z coords are zero\n",
      "RDKit WARNING: [13:28:56] Warning: molecule is tagged as 3D, but all Z coords are zero\n",
      "[13:28:56] Warning: molecule is tagged as 3D, but all Z coords are zero\n",
      "RDKit WARNING: [13:28:56] Warning: molecule is tagged as 3D, but all Z coords are zero\n",
      "[13:28:56] Warning: molecule is tagged as 3D, but all Z coords are zero\n",
      "RDKit WARNING: [13:28:57] Warning: molecule is tagged as 3D, but all Z coords are zero\n",
      "[13:28:57] Warning: molecule is tagged as 3D, but all Z coords are zero\n",
      "RDKit WARNING: [13:28:57] Warning: molecule is tagged as 3D, but all Z coords are zero\n",
      "[13:28:57] Warning: molecule is tagged as 3D, but all Z coords are zero\n",
      "RDKit WARNING: [13:28:57] Warning: molecule is tagged as 3D, but all Z coords are zero\n",
      "RDKit WARNING: [13:28:57] Warning: molecule is tagged as 3D, but all Z coords are zero\n",
      "[13:28:57] Warning: molecule is tagged as 3D, but all Z coords are zero\n",
      "RDKit WARNING: [13:28:57] Warning: molecule is tagged as 3D, but all Z coords are zero\n",
      "[13:28:57] Warning: molecule is tagged as 3D, but all Z coords are zero\n",
      "[13:28:57] Warning: molecule is tagged as 3D, but all Z coords are zero\n",
      "RDKit WARNING: [13:28:57] Warning: molecule is tagged as 3D, but all Z coords are zero\n",
      "RDKit WARNING: [13:28:57] Warning: molecule is tagged as 3D, but all Z coords are zero\n",
      "[13:28:57] Warning: molecule is tagged as 3D, but all Z coords are zero\n",
      "[13:28:57] Warning: molecule is tagged as 3D, but all Z coords are zero\n"
     ]
    },
    {
     "name": "stderr",
     "output_type": "stream",
     "text": [
      "RDKit WARNING: [13:28:57] Warning: molecule is tagged as 3D, but all Z coords are zero\n",
      "RDKit WARNING: [13:28:57] Warning: molecule is tagged as 3D, but all Z coords are zero\n",
      "[13:28:57] Warning: molecule is tagged as 3D, but all Z coords are zero\n",
      "[13:28:57] Warning: molecule is tagged as 3D, but all Z coords are zero\n",
      "RDKit WARNING: [13:28:57] Warning: molecule is tagged as 3D, but all Z coords are zero\n",
      "RDKit WARNING: [13:28:57] Warning: molecule is tagged as 3D, but all Z coords are zero\n",
      "[13:28:57] Warning: molecule is tagged as 3D, but all Z coords are zero\n",
      "[13:28:57] Warning: molecule is tagged as 3D, but all Z coords are zero\n",
      "RDKit WARNING: [13:28:57] Warning: molecule is tagged as 3D, but all Z coords are zero\n",
      "[13:28:57] Warning: molecule is tagged as 3D, but all Z coords are zero\n",
      "RDKit WARNING: [13:28:57] Warning: molecule is tagged as 3D, but all Z coords are zero\n",
      "[13:28:57] Warning: molecule is tagged as 3D, but all Z coords are zero\n",
      "RDKit WARNING: [13:28:58] Warning: molecule is tagged as 3D, but all Z coords are zero\n",
      "RDKit WARNING: [13:28:58] Warning: molecule is tagged as 3D, but all Z coords are zero\n",
      "RDKit WARNING: [13:28:58] Warning: molecule is tagged as 3D, but all Z coords are zero\n",
      "[13:28:58] Warning: molecule is tagged as 3D, but all Z coords are zero\n",
      "[13:28:58] Warning: molecule is tagged as 3D, but all Z coords are zero\n",
      "[13:28:58] Warning: molecule is tagged as 3D, but all Z coords are zero\n",
      "RDKit WARNING: [13:28:58] Warning: molecule is tagged as 3D, but all Z coords are zero\n",
      "[13:28:58] Warning: molecule is tagged as 3D, but all Z coords are zero\n",
      "RDKit WARNING: [13:28:58] Warning: molecule is tagged as 3D, but all Z coords are zero\n",
      "RDKit WARNING: [13:28:58] Warning: molecule is tagged as 3D, but all Z coords are zero\n",
      "[13:28:58] Warning: molecule is tagged as 3D, but all Z coords are zero\n",
      "[13:28:58] Warning: molecule is tagged as 3D, but all Z coords are zero\n",
      "RDKit WARNING: [13:28:58] Warning: molecule is tagged as 3D, but all Z coords are zero\n",
      "RDKit WARNING: [13:28:58] Warning: molecule is tagged as 3D, but all Z coords are zero\n",
      "RDKit WARNING: [13:28:58] Warning: molecule is tagged as 3D, but all Z coords are zero\n",
      "[13:28:58] Warning: molecule is tagged as 3D, but all Z coords are zero\n",
      "[13:28:58] Warning: molecule is tagged as 3D, but all Z coords are zero\n",
      "[13:28:58] Warning: molecule is tagged as 3D, but all Z coords are zero\n",
      "RDKit WARNING: [13:28:58] Warning: molecule is tagged as 3D, but all Z coords are zero\n",
      "[13:28:58] Warning: molecule is tagged as 3D, but all Z coords are zero\n",
      "RDKit WARNING: [13:28:58] Warning: molecule is tagged as 3D, but all Z coords are zero\n",
      "RDKit WARNING: [13:28:58] Warning: molecule is tagged as 3D, but all Z coords are zero\n",
      "[13:28:58] Warning: molecule is tagged as 3D, but all Z coords are zero\n",
      "RDKit WARNING: [13:28:58] Warning: molecule is tagged as 3D, but all Z coords are zero\n",
      "[13:28:58] Warning: molecule is tagged as 3D, but all Z coords are zero\n",
      "[13:28:58] Warning: molecule is tagged as 3D, but all Z coords are zero\n",
      "RDKit WARNING: [13:28:58] Warning: molecule is tagged as 3D, but all Z coords are zero\n",
      "[13:28:58] Warning: molecule is tagged as 3D, but all Z coords are zero\n",
      "RDKit WARNING: [13:28:58] Warning: molecule is tagged as 3D, but all Z coords are zero\n",
      "RDKit WARNING: [13:28:58] Warning: molecule is tagged as 3D, but all Z coords are zero\n",
      "RDKit WARNING: [13:28:58] Warning: molecule is tagged as 3D, but all Z coords are zero\n",
      "RDKit WARNING: [13:28:58] Warning: molecule is tagged as 3D, but all Z coords are zero\n",
      "RDKit WARNING: [13:28:58] Warning: molecule is tagged as 3D, but all Z coords are zero\n",
      "[13:28:58] Warning: molecule is tagged as 3D, but all Z coords are zero\n",
      "[13:28:58] Warning: molecule is tagged as 3D, but all Z coords are zero\n",
      "[13:28:58] Warning: molecule is tagged as 3D, but all Z coords are zero\n",
      "[13:28:58] Warning: molecule is tagged as 3D, but all Z coords are zero\n",
      "[13:28:58] Warning: molecule is tagged as 3D, but all Z coords are zero\n",
      "RDKit WARNING: [13:28:58] Warning: molecule is tagged as 3D, but all Z coords are zero\n",
      "RDKit WARNING: [13:28:58] Warning: molecule is tagged as 3D, but all Z coords are zero\n",
      "RDKit WARNING: [13:28:58] Warning: molecule is tagged as 3D, but all Z coords are zero\n",
      "[13:28:58] Warning: molecule is tagged as 3D, but all Z coords are zero\n",
      "[13:28:58] Warning: molecule is tagged as 3D, but all Z coords are zero\n",
      "[13:28:58] Warning: molecule is tagged as 3D, but all Z coords are zero\n",
      "RDKit WARNING: [13:28:58] Warning: molecule is tagged as 3D, but all Z coords are zero\n",
      "RDKit WARNING: [13:28:58] Warning: molecule is tagged as 3D, but all Z coords are zero\n",
      "RDKit WARNING: [13:28:58] Warning: molecule is tagged as 3D, but all Z coords are zero\n",
      "[13:28:58] Warning: molecule is tagged as 3D, but all Z coords are zero\n",
      "RDKit WARNING: [13:28:58] Warning: molecule is tagged as 3D, but all Z coords are zero\n",
      "RDKit WARNING: [13:28:58] Warning: molecule is tagged as 3D, but all Z coords are zero\n",
      "RDKit WARNING: [13:28:58] Warning: molecule is tagged as 3D, but all Z coords are zero\n",
      "RDKit WARNING: [13:28:58] Warning: molecule is tagged as 3D, but all Z coords are zero\n",
      "[13:28:58] Warning: molecule is tagged as 3D, but all Z coords are zero\n",
      "[13:28:58] Warning: molecule is tagged as 3D, but all Z coords are zero\n",
      "[13:28:58] Warning: molecule is tagged as 3D, but all Z coords are zero\n",
      "[13:28:58] Warning: molecule is tagged as 3D, but all Z coords are zero\n",
      "[13:28:58] Warning: molecule is tagged as 3D, but all Z coords are zero\n",
      "RDKit WARNING: [13:28:58] Warning: molecule is tagged as 3D, but all Z coords are zero\n",
      "[13:28:58] Warning: molecule is tagged as 3D, but all Z coords are zero\n",
      "[13:28:58] Warning: molecule is tagged as 3D, but all Z coords are zero\n",
      "RDKit WARNING: [13:28:59] Warning: molecule is tagged as 3D, but all Z coords are zero\n",
      "[13:28:59] Warning: molecule is tagged as 3D, but all Z coords are zero\n",
      "RDKit WARNING: [13:28:59] Warning: molecule is tagged as 3D, but all Z coords are zero\n",
      "RDKit WARNING: [13:28:59] Warning: molecule is tagged as 3D, but all Z coords are zero\n",
      "[13:28:59] Warning: molecule is tagged as 3D, but all Z coords are zero\n",
      "RDKit WARNING: [13:28:59] Warning: molecule is tagged as 3D, but all Z coords are zero\n",
      "RDKit WARNING: [13:28:59] Warning: molecule is tagged as 3D, but all Z coords are zero\n",
      "RDKit WARNING: [13:28:59] Warning: molecule is tagged as 3D, but all Z coords are zero\n",
      "[13:28:59] Warning: molecule is tagged as 3D, but all Z coords are zero\n",
      "[13:28:59] Warning: molecule is tagged as 3D, but all Z coords are zero\n",
      "[13:28:59] Warning: molecule is tagged as 3D, but all Z coords are zero\n",
      "[13:28:59] Warning: molecule is tagged as 3D, but all Z coords are zero\n",
      "RDKit WARNING: [13:28:59] Warning: molecule is tagged as 3D, but all Z coords are zero\n",
      "RDKit WARNING: [13:28:59] Warning: molecule is tagged as 3D, but all Z coords are zero\n",
      "RDKit WARNING: [13:28:59] Warning: molecule is tagged as 3D, but all Z coords are zero\n",
      "RDKit WARNING: [13:28:59] Warning: molecule is tagged as 3D, but all Z coords are zero\n",
      "RDKit WARNING: [13:28:59] Warning: molecule is tagged as 3D, but all Z coords are zero\n",
      "RDKit WARNING: [13:28:59] Warning: molecule is tagged as 3D, but all Z coords are zero\n",
      "[13:28:59] Warning: molecule is tagged as 3D, but all Z coords are zero\n",
      "[13:28:59] Warning: molecule is tagged as 3D, but all Z coords are zero\n",
      "[13:28:59] Warning: molecule is tagged as 3D, but all Z coords are zero\n",
      "[13:28:59] Warning: molecule is tagged as 3D, but all Z coords are zero\n",
      "[13:28:59] Warning: molecule is tagged as 3D, but all Z coords are zero\n",
      "[13:28:59] Warning: molecule is tagged as 3D, but all Z coords are zero\n",
      "RDKit WARNING: [13:28:59] Warning: molecule is tagged as 3D, but all Z coords are zero\n",
      "RDKit WARNING: [13:28:59] Warning: molecule is tagged as 3D, but all Z coords are zero\n",
      "[13:28:59] Warning: molecule is tagged as 3D, but all Z coords are zero\n",
      "[13:28:59] Warning: molecule is tagged as 3D, but all Z coords are zero\n",
      "RDKit WARNING: [13:28:59] Warning: molecule is tagged as 3D, but all Z coords are zero\n",
      "[13:28:59] Warning: molecule is tagged as 3D, but all Z coords are zero\n",
      "RDKit WARNING: [13:28:59] Warning: molecule is tagged as 3D, but all Z coords are zero\n",
      "RDKit WARNING: [13:28:59] Warning: molecule is tagged as 3D, but all Z coords are zero\n",
      "[13:28:59] Warning: molecule is tagged as 3D, but all Z coords are zero\n",
      "[13:28:59] Warning: molecule is tagged as 3D, but all Z coords are zero\n",
      "RDKit WARNING: [13:28:59] Warning: molecule is tagged as 3D, but all Z coords are zero\n",
      "RDKit WARNING: [13:28:59] Warning: molecule is tagged as 3D, but all Z coords are zero\n",
      "RDKit WARNING: [13:28:59] Warning: molecule is tagged as 3D, but all Z coords are zero\n",
      "[13:28:59] Warning: molecule is tagged as 3D, but all Z coords are zero\n",
      "[13:28:59] Warning: molecule is tagged as 3D, but all Z coords are zero\n",
      "[13:28:59] Warning: molecule is tagged as 3D, but all Z coords are zero\n"
     ]
    },
    {
     "name": "stderr",
     "output_type": "stream",
     "text": [
      "RDKit WARNING: [13:28:59] Warning: molecule is tagged as 3D, but all Z coords are zero\n",
      "[13:28:59] Warning: molecule is tagged as 3D, but all Z coords are zero\n",
      "RDKit WARNING: [13:28:59] Warning: molecule is tagged as 3D, but all Z coords are zero\n",
      "[13:28:59] Warning: molecule is tagged as 3D, but all Z coords are zero\n",
      "RDKit WARNING: [13:28:59] Warning: molecule is tagged as 3D, but all Z coords are zero\n",
      "[13:28:59] Warning: molecule is tagged as 3D, but all Z coords are zero\n",
      "RDKit WARNING: [13:28:59] Warning: molecule is tagged as 3D, but all Z coords are zero\n",
      "RDKit WARNING: [13:28:59] Warning: molecule is tagged as 3D, but all Z coords are zero\n",
      "[13:28:59] Warning: molecule is tagged as 3D, but all Z coords are zero\n",
      "[13:28:59] Warning: molecule is tagged as 3D, but all Z coords are zero\n",
      "RDKit WARNING: [13:29:00] Warning: molecule is tagged as 3D, but all Z coords are zero\n",
      "RDKit WARNING: [13:29:00] Warning: molecule is tagged as 3D, but all Z coords are zero\n",
      "[13:29:00] Warning: molecule is tagged as 3D, but all Z coords are zero\n",
      "[13:29:00] Warning: molecule is tagged as 3D, but all Z coords are zero\n",
      "RDKit WARNING: [13:29:00] Warning: molecule is tagged as 3D, but all Z coords are zero\n",
      "RDKit WARNING: [13:29:00] Warning: molecule is tagged as 3D, but all Z coords are zero\n",
      "RDKit WARNING: [13:29:00] Warning: molecule is tagged as 3D, but all Z coords are zero\n",
      "[13:29:00] Warning: molecule is tagged as 3D, but all Z coords are zero\n",
      "[13:29:00] Warning: molecule is tagged as 3D, but all Z coords are zero\n",
      "[13:29:00] Warning: molecule is tagged as 3D, but all Z coords are zero\n",
      "RDKit WARNING: [13:29:00] Warning: molecule is tagged as 3D, but all Z coords are zero\n",
      "[13:29:00] Warning: molecule is tagged as 3D, but all Z coords are zero\n",
      "RDKit WARNING: [13:29:00] Warning: molecule is tagged as 3D, but all Z coords are zero\n",
      "RDKit WARNING: [13:29:00] Warning: molecule is tagged as 3D, but all Z coords are zero\n",
      "RDKit WARNING: [13:29:00] Warning: molecule is tagged as 3D, but all Z coords are zero\n",
      "[13:29:00] Warning: molecule is tagged as 3D, but all Z coords are zero\n",
      "[13:29:00] Warning: molecule is tagged as 3D, but all Z coords are zero\n",
      "[13:29:00] Warning: molecule is tagged as 3D, but all Z coords are zero\n",
      "RDKit WARNING: [13:29:00] Warning: molecule is tagged as 3D, but all Z coords are zero\n",
      "RDKit WARNING: [13:29:00] Warning: molecule is tagged as 3D, but all Z coords are zero\n",
      "[13:29:00] Warning: molecule is tagged as 3D, but all Z coords are zero\n",
      "[13:29:00] Warning: molecule is tagged as 3D, but all Z coords are zero\n",
      "RDKit WARNING: [13:29:00] Warning: molecule is tagged as 3D, but all Z coords are zero\n",
      "[13:29:00] Warning: molecule is tagged as 3D, but all Z coords are zero\n",
      "RDKit WARNING: [13:29:00] Warning: molecule is tagged as 3D, but all Z coords are zero\n",
      "RDKit WARNING: [13:29:00] Warning: molecule is tagged as 3D, but all Z coords are zero\n",
      "[13:29:00] Warning: molecule is tagged as 3D, but all Z coords are zero\n",
      "[13:29:00] Warning: molecule is tagged as 3D, but all Z coords are zero\n"
     ]
    }
   ],
   "source": [
    "from rdkit.Chem import PandasTools\n",
    "\n",
    "SDFFile = \"mols.sdf\"\n",
    "BRDLigs = PandasTools.LoadSDF(SDFFile)\n",
    "\n",
    "pkas=BRDLigs['pka']\n",
    "mols=BRDLigs['ROMol']\n",
    "\n",
    "\n",
    "import numpy as np\n",
    "\n",
    "smi=[]\n",
    "pkas=[]\n",
    "\n",
    "for i in np.arange(0,mols.shape[0]):\n",
    "        try:\n",
    "            sm = Chem.MolToSmiles(mols[i])\n",
    "            smi.append(sm)\n",
    "            pkas.append(BRDLigs['pka'][i])\n",
    "        except:\n",
    "            pass\n",
    "        \n",
    "smi=np.array(smi)\n",
    "\n",
    "pkas=np.array(pkas)\n",
    "\n",
    "m=[Chem.MolFromSmiles(i) for i in smi] \n",
    "\n",
    "from rdkit import Chem\n",
    "from rdkit.Chem import AllChem\n",
    "from rdkit.Chem import DataStructs\n",
    "\n",
    "for mol in m:\n",
    "    AllChem.Compute2DCoords(mol)\n",
    "test = []\n",
    "for mol in m:\n",
    "    arr = np.zeros((0,))\n",
    "    fp = AllChem.GetMorganFingerprintAsBitVect(mol, 2)\n",
    "    DataStructs.ConvertToNumpyArray(fp, arr)\n",
    "    test.append(arr)\n",
    "        \n",
    "        \n",
    "        \n",
    "        "
   ]
  },
  {
   "cell_type": "code",
   "execution_count": 113,
   "id": "9919ee2d",
   "metadata": {},
   "outputs": [],
   "source": [
    "test_pkas_1=loaded_acidic_model.predict(test)\n",
    "test_pkas_2=loaded_basic_model.predict(test)"
   ]
  },
  {
   "cell_type": "code",
   "execution_count": 114,
   "id": "74318110",
   "metadata": {},
   "outputs": [],
   "source": [
    "pkas=[float(i) for i in pkas]"
   ]
  },
  {
   "cell_type": "code",
   "execution_count": 115,
   "id": "0689de85",
   "metadata": {},
   "outputs": [],
   "source": [
    "test_pkas=[]\n",
    "\n",
    "for i in np.arange(0,test_pkas_1.shape[0]):\n",
    "    test_pkas.append((test_pkas_1[i]+test_pkas_2[i])/2)"
   ]
  },
  {
   "cell_type": "code",
   "execution_count": 116,
   "id": "a3e88f61",
   "metadata": {},
   "outputs": [
    {
     "data": {
      "text/plain": [
       "4.949483919261131"
      ]
     },
     "execution_count": 116,
     "metadata": {},
     "output_type": "execute_result"
    }
   ],
   "source": [
    "#import necessary libraries\n",
    "from sklearn.metrics import mean_squared_error\n",
    "from math import sqrt\n",
    "\n",
    "#calculate RMSE\n",
    "sqrt(mean_squared_error(test_pkas, pkas))"
   ]
  },
  {
   "cell_type": "code",
   "execution_count": 117,
   "id": "a3ce568a",
   "metadata": {},
   "outputs": [
    {
     "data": {
      "text/plain": [
       "3.7460482115681164"
      ]
     },
     "execution_count": 117,
     "metadata": {},
     "output_type": "execute_result"
    }
   ],
   "source": [
    "sqrt(mean_squared_error(test_pkas_1, pkas))"
   ]
  },
  {
   "cell_type": "code",
   "execution_count": 118,
   "id": "277c89f3",
   "metadata": {},
   "outputs": [
    {
     "data": {
      "text/plain": [
       "7.8903916829666505"
      ]
     },
     "execution_count": 118,
     "metadata": {},
     "output_type": "execute_result"
    }
   ],
   "source": [
    "sqrt(mean_squared_error(test_pkas_2, pkas))"
   ]
  }
 ],
 "metadata": {
  "kernelspec": {
   "display_name": "Python 3 (ipykernel)",
   "language": "python",
   "name": "python3"
  },
  "language_info": {
   "codemirror_mode": {
    "name": "ipython",
    "version": 3
   },
   "file_extension": ".py",
   "mimetype": "text/x-python",
   "name": "python",
   "nbconvert_exporter": "python",
   "pygments_lexer": "ipython3",
   "version": "3.9.13"
  }
 },
 "nbformat": 4,
 "nbformat_minor": 5
}
