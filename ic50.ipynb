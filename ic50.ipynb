{
 "cells": [
  {
   "cell_type": "code",
   "execution_count": 1,
   "id": "80ebde00",
   "metadata": {},
   "outputs": [],
   "source": [
    "#pIC50 prediction\n",
    "\n",
    "import numpy as np\n",
    "import matplotlib.pyplot as plt\n",
    "import pandas as pd"
   ]
  },
  {
   "cell_type": "code",
   "execution_count": 29,
   "id": "bb2bfe73",
   "metadata": {},
   "outputs": [],
   "source": [
    "df=pd.read_csv(\"bace.csv\")"
   ]
  },
  {
   "cell_type": "code",
   "execution_count": 31,
   "id": "c7a65026",
   "metadata": {},
   "outputs": [
    {
     "data": {
      "text/html": [
       "<div>\n",
       "<style scoped>\n",
       "    .dataframe tbody tr th:only-of-type {\n",
       "        vertical-align: middle;\n",
       "    }\n",
       "\n",
       "    .dataframe tbody tr th {\n",
       "        vertical-align: top;\n",
       "    }\n",
       "\n",
       "    .dataframe thead th {\n",
       "        text-align: right;\n",
       "    }\n",
       "</style>\n",
       "<table border=\"1\" class=\"dataframe\">\n",
       "  <thead>\n",
       "    <tr style=\"text-align: right;\">\n",
       "      <th></th>\n",
       "      <th>:q</th>\n",
       "      <th>smiles</th>\n",
       "      <th>CID</th>\n",
       "      <th>Class</th>\n",
       "      <th>Model</th>\n",
       "      <th>pIC50</th>\n",
       "      <th>MW</th>\n",
       "      <th>AlogP</th>\n",
       "      <th>HBA</th>\n",
       "      <th>HBD</th>\n",
       "      <th>...</th>\n",
       "      <th>PEOE6 (PEOE6)</th>\n",
       "      <th>PEOE7 (PEOE7)</th>\n",
       "      <th>PEOE8 (PEOE8)</th>\n",
       "      <th>PEOE9 (PEOE9)</th>\n",
       "      <th>PEOE10 (PEOE10)</th>\n",
       "      <th>PEOE11 (PEOE11)</th>\n",
       "      <th>PEOE12 (PEOE12)</th>\n",
       "      <th>PEOE13 (PEOE13)</th>\n",
       "      <th>PEOE14 (PEOE14)</th>\n",
       "      <th>canvasUID</th>\n",
       "    </tr>\n",
       "  </thead>\n",
       "  <tbody>\n",
       "    <tr>\n",
       "      <th>0</th>\n",
       "      <td>0</td>\n",
       "      <td>CC1:C:C:C:C:C:1C1:C:C:C2:N:C(N):C(C[C@@H](C)C(...</td>\n",
       "      <td>BACE_1</td>\n",
       "      <td>1</td>\n",
       "      <td>Train</td>\n",
       "      <td>9.154901</td>\n",
       "      <td>431.56979</td>\n",
       "      <td>4.4014</td>\n",
       "      <td>3</td>\n",
       "      <td>2</td>\n",
       "      <td>...</td>\n",
       "      <td>53.205711</td>\n",
       "      <td>78.640335</td>\n",
       "      <td>226.85541</td>\n",
       "      <td>107.43491</td>\n",
       "      <td>37.133846</td>\n",
       "      <td>0.000000</td>\n",
       "      <td>7.980170</td>\n",
       "      <td>0.0</td>\n",
       "      <td>0.000000</td>\n",
       "      <td>1</td>\n",
       "    </tr>\n",
       "    <tr>\n",
       "      <th>1</th>\n",
       "      <td>1</td>\n",
       "      <td>CCCO[C@H]1C[NH2+][C@@H]([C@@H](O)[C@H](CC2:C:C...</td>\n",
       "      <td>BACE_2</td>\n",
       "      <td>1</td>\n",
       "      <td>Train</td>\n",
       "      <td>8.853872</td>\n",
       "      <td>657.81073</td>\n",
       "      <td>2.6412</td>\n",
       "      <td>5</td>\n",
       "      <td>4</td>\n",
       "      <td>...</td>\n",
       "      <td>73.817162</td>\n",
       "      <td>47.171600</td>\n",
       "      <td>365.67694</td>\n",
       "      <td>174.07675</td>\n",
       "      <td>34.923889</td>\n",
       "      <td>7.980170</td>\n",
       "      <td>24.148668</td>\n",
       "      <td>0.0</td>\n",
       "      <td>24.663788</td>\n",
       "      <td>2</td>\n",
       "    </tr>\n",
       "    <tr>\n",
       "      <th>2</th>\n",
       "      <td>2</td>\n",
       "      <td>CCC1:C:N2:C3:C(:C:C(C(=O)N[C@@H](CC4:C:C:C:C:C...</td>\n",
       "      <td>BACE_3</td>\n",
       "      <td>1</td>\n",
       "      <td>Train</td>\n",
       "      <td>8.698970</td>\n",
       "      <td>591.74091</td>\n",
       "      <td>2.5499</td>\n",
       "      <td>4</td>\n",
       "      <td>3</td>\n",
       "      <td>...</td>\n",
       "      <td>70.365707</td>\n",
       "      <td>47.941147</td>\n",
       "      <td>192.40652</td>\n",
       "      <td>255.75255</td>\n",
       "      <td>23.654478</td>\n",
       "      <td>0.230159</td>\n",
       "      <td>15.879790</td>\n",
       "      <td>0.0</td>\n",
       "      <td>24.663788</td>\n",
       "      <td>3</td>\n",
       "    </tr>\n",
       "    <tr>\n",
       "      <th>3</th>\n",
       "      <td>3</td>\n",
       "      <td>CCOC[C@@H](OC1:C:C(C[C@@H]2CS(=O)(=O)C[C@H]([N...</td>\n",
       "      <td>BACE_4</td>\n",
       "      <td>1</td>\n",
       "      <td>Train</td>\n",
       "      <td>8.698970</td>\n",
       "      <td>591.67828</td>\n",
       "      <td>3.1680</td>\n",
       "      <td>4</td>\n",
       "      <td>3</td>\n",
       "      <td>...</td>\n",
       "      <td>56.657166</td>\n",
       "      <td>37.954151</td>\n",
       "      <td>194.35304</td>\n",
       "      <td>202.76335</td>\n",
       "      <td>36.498634</td>\n",
       "      <td>0.980913</td>\n",
       "      <td>8.188327</td>\n",
       "      <td>0.0</td>\n",
       "      <td>26.385181</td>\n",
       "      <td>4</td>\n",
       "    </tr>\n",
       "    <tr>\n",
       "      <th>4</th>\n",
       "      <td>4</td>\n",
       "      <td>CCC1:C:N2:C3:C(:C:C(C(=O)N[C@@H](CC4:C:C:C:C:C...</td>\n",
       "      <td>BACE_5</td>\n",
       "      <td>1</td>\n",
       "      <td>Train</td>\n",
       "      <td>8.698970</td>\n",
       "      <td>629.71283</td>\n",
       "      <td>3.5086</td>\n",
       "      <td>3</td>\n",
       "      <td>3</td>\n",
       "      <td>...</td>\n",
       "      <td>78.945702</td>\n",
       "      <td>39.361153</td>\n",
       "      <td>179.71288</td>\n",
       "      <td>220.46130</td>\n",
       "      <td>23.654478</td>\n",
       "      <td>0.230159</td>\n",
       "      <td>15.879790</td>\n",
       "      <td>0.0</td>\n",
       "      <td>26.100143</td>\n",
       "      <td>5</td>\n",
       "    </tr>\n",
       "  </tbody>\n",
       "</table>\n",
       "<p>5 rows × 596 columns</p>\n",
       "</div>"
      ],
      "text/plain": [
       "   :q                                             smiles     CID  Class  \\\n",
       "0   0  CC1:C:C:C:C:C:1C1:C:C:C2:N:C(N):C(C[C@@H](C)C(...  BACE_1      1   \n",
       "1   1  CCCO[C@H]1C[NH2+][C@@H]([C@@H](O)[C@H](CC2:C:C...  BACE_2      1   \n",
       "2   2  CCC1:C:N2:C3:C(:C:C(C(=O)N[C@@H](CC4:C:C:C:C:C...  BACE_3      1   \n",
       "3   3  CCOC[C@@H](OC1:C:C(C[C@@H]2CS(=O)(=O)C[C@H]([N...  BACE_4      1   \n",
       "4   4  CCC1:C:N2:C3:C(:C:C(C(=O)N[C@@H](CC4:C:C:C:C:C...  BACE_5      1   \n",
       "\n",
       "   Model     pIC50         MW   AlogP  HBA  HBD  ...  PEOE6 (PEOE6)  \\\n",
       "0  Train  9.154901  431.56979  4.4014    3    2  ...      53.205711   \n",
       "1  Train  8.853872  657.81073  2.6412    5    4  ...      73.817162   \n",
       "2  Train  8.698970  591.74091  2.5499    4    3  ...      70.365707   \n",
       "3  Train  8.698970  591.67828  3.1680    4    3  ...      56.657166   \n",
       "4  Train  8.698970  629.71283  3.5086    3    3  ...      78.945702   \n",
       "\n",
       "   PEOE7 (PEOE7)  PEOE8 (PEOE8)  PEOE9 (PEOE9)  PEOE10 (PEOE10)  \\\n",
       "0      78.640335      226.85541      107.43491        37.133846   \n",
       "1      47.171600      365.67694      174.07675        34.923889   \n",
       "2      47.941147      192.40652      255.75255        23.654478   \n",
       "3      37.954151      194.35304      202.76335        36.498634   \n",
       "4      39.361153      179.71288      220.46130        23.654478   \n",
       "\n",
       "   PEOE11 (PEOE11)  PEOE12 (PEOE12)  PEOE13 (PEOE13)  PEOE14 (PEOE14)  \\\n",
       "0         0.000000         7.980170              0.0         0.000000   \n",
       "1         7.980170        24.148668              0.0        24.663788   \n",
       "2         0.230159        15.879790              0.0        24.663788   \n",
       "3         0.980913         8.188327              0.0        26.385181   \n",
       "4         0.230159        15.879790              0.0        26.100143   \n",
       "\n",
       "   canvasUID  \n",
       "0          1  \n",
       "1          2  \n",
       "2          3  \n",
       "3          4  \n",
       "4          5  \n",
       "\n",
       "[5 rows x 596 columns]"
      ]
     },
     "execution_count": 31,
     "metadata": {},
     "output_type": "execute_result"
    }
   ],
   "source": [
    "df.head()"
   ]
  },
  {
   "cell_type": "code",
   "execution_count": 32,
   "id": "c5a84122",
   "metadata": {},
   "outputs": [],
   "source": [
    "smiles = df['smiles']\n",
    "y = df['pIC50']"
   ]
  },
  {
   "cell_type": "code",
   "execution_count": 33,
   "id": "e55ee9bf",
   "metadata": {},
   "outputs": [],
   "source": [
    "from rdkit import Chem\n",
    "from rdkit.Chem import AllChem\n",
    "from rdkit.Chem import DataStructs\n",
    "\n",
    "m=[Chem.MolFromSmiles(i) for i in smiles] \n",
    "\n",
    "\n",
    "for mol in m:\n",
    "    AllChem.Compute2DCoords(mol)\n",
    "X = []\n",
    "for mol in m:\n",
    "    arr = np.zeros((0,))\n",
    "    fp = AllChem.GetMorganFingerprintAsBitVect(mol, 2)\n",
    "    DataStructs.ConvertToNumpyArray(fp, arr)\n",
    "    X.append(arr)"
   ]
  },
  {
   "cell_type": "code",
   "execution_count": 34,
   "id": "9dda0bc7",
   "metadata": {},
   "outputs": [],
   "source": [
    "X=np.array(X)"
   ]
  },
  {
   "cell_type": "code",
   "execution_count": 35,
   "id": "098b8a76",
   "metadata": {},
   "outputs": [
    {
     "data": {
      "text/plain": [
       "(1513, 2048)"
      ]
     },
     "execution_count": 35,
     "metadata": {},
     "output_type": "execute_result"
    }
   ],
   "source": [
    "X.shape"
   ]
  },
  {
   "cell_type": "code",
   "execution_count": 36,
   "id": "aa0811ae",
   "metadata": {},
   "outputs": [],
   "source": [
    "import numpy as np\n",
    "from sklearn.model_selection import train_test_split\n",
    "\n",
    "X_train, X_test, y_train, y_test = train_test_split(X, y, test_size=0.33, random_state=42)"
   ]
  },
  {
   "cell_type": "code",
   "execution_count": 37,
   "id": "93b888b6",
   "metadata": {},
   "outputs": [],
   "source": [
    "from sklearn.ensemble import RandomForestRegressor\n",
    "\n",
    "reg=RandomForestRegressor()\n",
    "reg.fit(X_train,y_train)\n",
    "pred_y=reg.predict(X_test)"
   ]
  },
  {
   "cell_type": "code",
   "execution_count": 38,
   "id": "dfce6a9f",
   "metadata": {},
   "outputs": [
    {
     "data": {
      "text/plain": [
       "0.7013116893830047"
      ]
     },
     "execution_count": 38,
     "metadata": {},
     "output_type": "execute_result"
    }
   ],
   "source": [
    "from sklearn.metrics import mean_squared_error\n",
    "from math import sqrt\n",
    "\n",
    "#calculate RMSE\n",
    "sqrt(mean_squared_error(y_test, pred_y))"
   ]
  }
 ],
 "metadata": {
  "kernelspec": {
   "display_name": "Python 3 (ipykernel)",
   "language": "python",
   "name": "python3"
  },
  "language_info": {
   "codemirror_mode": {
    "name": "ipython",
    "version": 3
   },
   "file_extension": ".py",
   "mimetype": "text/x-python",
   "name": "python",
   "nbconvert_exporter": "python",
   "pygments_lexer": "ipython3",
   "version": "3.9.13"
  }
 },
 "nbformat": 4,
 "nbformat_minor": 5
}
