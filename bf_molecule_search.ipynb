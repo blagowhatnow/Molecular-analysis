{
 "cells": [
  {
   "cell_type": "code",
   "execution_count": 2,
   "id": "eb6f8f56",
   "metadata": {},
   "outputs": [],
   "source": [
    "#Use bloom filters to search for a molecule from a list of molecules\n",
    "\n",
    "import mmh3\n",
    "from bitarray import bitarray\n",
    "\n",
    "class BloomFilter:\n",
    "    \n",
    "    def __init__(self, size, hash_count):\n",
    "        self.size = size\n",
    "        self.hash_count = hash_count\n",
    "        self.bit_array = bitarray(size)\n",
    "        self.bit_array.setall(0)\n",
    "\n",
    "    def add(self, element):\n",
    "        for seed in range(self.hash_count):\n",
    "            result = mmh3.hash(element, seed) % self.size\n",
    "            self.bit_array[result] = 1\n",
    "\n",
    "    def __contains__(self, element):\n",
    "        for seed in range(self.hash_count):\n",
    "            result = mmh3.hash(element, seed) % self.size\n",
    "            if self.bit_array[result] == 0:\n",
    "                return False\n",
    "        return True"
   ]
  },
  {
   "cell_type": "code",
   "execution_count": 5,
   "id": "07d2ed77",
   "metadata": {},
   "outputs": [],
   "source": [
    "import pandas as pd\n",
    "\n",
    "df=pd.read_csv(\"lipo.csv\")\n",
    "smiles=df['smiles']"
   ]
  },
  {
   "cell_type": "code",
   "execution_count": 9,
   "id": "e8bba4c9",
   "metadata": {},
   "outputs": [],
   "source": [
    "import numpy as np\n",
    "from rdkit import Chem\n",
    "from rdkit.Chem import AllChem\n",
    "from rdkit.Chem import DataStructs\n",
    "\n",
    "m=[Chem.MolFromSmiles(i) for i in smiles] \n",
    "\n",
    "\n",
    "for mol in m:\n",
    "    AllChem.Compute2DCoords(mol)\n",
    "X = []\n",
    "for mol in m:\n",
    "    arr = np.zeros((0,))\n",
    "    fp = AllChem.GetMorganFingerprintAsBitVect(mol, 2)\n",
    "    DataStructs.ConvertToNumpyArray(fp, arr)\n",
    "    X.append(arr)"
   ]
  },
  {
   "cell_type": "code",
   "execution_count": 28,
   "id": "de9bc2a7",
   "metadata": {},
   "outputs": [],
   "source": [
    "X=[list(i) for i in X]"
   ]
  },
  {
   "cell_type": "code",
   "execution_count": 36,
   "id": "8ee66606",
   "metadata": {},
   "outputs": [],
   "source": [
    "# Create a bloom filter with size 2048 and 100 hash functions\n",
    "bf = BloomFilter(2048, 100)\n",
    "\n",
    "# Add some elements to the bloom filter\n",
    "array_list = X[3:]   #Let's start the array from the third element\n",
    "for array in array_list:\n",
    "    bf.add(str(array))"
   ]
  },
  {
   "cell_type": "code",
   "execution_count": 37,
   "id": "fe949368",
   "metadata": {},
   "outputs": [
    {
     "name": "stdout",
     "output_type": "stream",
     "text": [
      "The array is in the list of arrays.\n"
     ]
    }
   ],
   "source": [
    "# Check if an array exists in the bloom filter\n",
    "array_to_check = X[60]\n",
    "if str(array_to_check) in bf:\n",
    "    # Perform a full search to confirm if the array is in the list\n",
    "    if array_to_check in array_list:\n",
    "        print(\"The array is in the list of arrays.\")\n",
    "    else:\n",
    "        print(\"The array is not in the list of arrays.\")\n",
    "else:\n",
    "    print(\"The array is definitely not in the list of arrays.\")"
   ]
  },
  {
   "cell_type": "code",
   "execution_count": 38,
   "id": "70b9c4ca",
   "metadata": {},
   "outputs": [
    {
     "name": "stdout",
     "output_type": "stream",
     "text": [
      "The array is not in the list of arrays.\n"
     ]
    }
   ],
   "source": [
    "# Check if an array exists in the bloom filter\n",
    "array_to_check = X[1]\n",
    "if str(array_to_check) in bf:\n",
    "    # Perform a full search to confirm if the array is in the list\n",
    "    if array_to_check in array_list:\n",
    "        print(\"The array is in the list of arrays.\")\n",
    "    else:\n",
    "        print(\"The array is not in the list of arrays.\")\n",
    "else:\n",
    "    print(\"The array is definitely not in the list of arrays.\")"
   ]
  }
 ],
 "metadata": {
  "kernelspec": {
   "display_name": "Python 3 (ipykernel)",
   "language": "python",
   "name": "python3"
  },
  "language_info": {
   "codemirror_mode": {
    "name": "ipython",
    "version": 3
   },
   "file_extension": ".py",
   "mimetype": "text/x-python",
   "name": "python",
   "nbconvert_exporter": "python",
   "pygments_lexer": "ipython3",
   "version": "3.9.16"
  }
 },
 "nbformat": 4,
 "nbformat_minor": 5
}
