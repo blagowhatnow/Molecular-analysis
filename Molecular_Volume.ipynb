{
 "cells": [
  {
   "cell_type": "code",
   "execution_count": 22,
   "id": "a94db6fa",
   "metadata": {},
   "outputs": [],
   "source": [
    "#Estimate nanoparticle volume and calculate radius of nanoparticle assuming it's enclosed in a sphere\n",
    "\n",
    "import deepchem\n",
    "import numpy as np"
   ]
  },
  {
   "cell_type": "code",
   "execution_count": 23,
   "id": "28cc97a0",
   "metadata": {},
   "outputs": [],
   "source": [
    "#from https://github.com/deepchem/deepchem/blob/master/deepchem/utils/rdkit_utils.py\n",
    "\n",
    "import os\n",
    "import logging\n",
    "import itertools\n",
    "import numpy as np\n",
    "from io import StringIO\n",
    "from deepchem.utils.pdbqt_utils import pdbqt_to_pdb\n",
    "from deepchem.utils.pdbqt_utils import convert_mol_to_pdbqt\n",
    "from deepchem.utils.pdbqt_utils import convert_protein_to_pdbqt\n",
    "from deepchem.utils.geometry_utils import compute_pairwise_distances\n",
    "from deepchem.utils.geometry_utils import compute_centroid\n",
    "from deepchem.utils.fragment_utils import MolecularFragment\n",
    "from deepchem.utils.fragment_utils import MoleculeLoadException\n",
    "from typing import Any, List, Tuple, Set, Optional, Dict\n",
    "from deepchem.utils.typing import OneOrMany, RDKitMol\n",
    "\n",
    "logger = logging.getLogger(__name__)\n",
    "\n",
    "\n",
    "def get_xyz_from_mol(mol):\n",
    "  \"\"\"Extracts a numpy array of coordinates from a molecules.\n",
    "  Returns a `(N, 3)` numpy array of 3d coords of given rdkit molecule\n",
    "  Parameters\n",
    "  ----------\n",
    "  mol: rdkit Molecule\n",
    "    Molecule to extract coordinates for\n",
    "  Returns\n",
    "  -------\n",
    "  Numpy ndarray of shape `(N, 3)` where `N = mol.GetNumAtoms()`.\n",
    "  \"\"\"\n",
    "  xyz = np.zeros((mol.GetNumAtoms(), 3))\n",
    "  conf = mol.GetConformer()\n",
    "  for i in range(conf.GetNumAtoms()):\n",
    "    position = conf.GetAtomPosition(i)\n",
    "    xyz[i, 0] = position.x\n",
    "    xyz[i, 1] = position.y\n",
    "    xyz[i, 2] = position.z\n",
    "  return (xyz)\n"
   ]
  },
  {
   "cell_type": "code",
   "execution_count": 24,
   "id": "5c6c75b3",
   "metadata": {},
   "outputs": [],
   "source": [
    "import rdkit\n",
    "from rdkit import Chem"
   ]
  },
  {
   "cell_type": "code",
   "execution_count": 28,
   "id": "6ff3d863",
   "metadata": {},
   "outputs": [],
   "source": [
    "#Crystal imported from Avogadro software and converted to mol file with OpenBabel\n",
    "\n",
    "m= Chem.MolFromMolFile('nano2.mol')"
   ]
  },
  {
   "cell_type": "code",
   "execution_count": 29,
   "id": "6853bf57",
   "metadata": {},
   "outputs": [],
   "source": [
    "coords= get_xyz_from_mol(m)"
   ]
  },
  {
   "cell_type": "code",
   "execution_count": 30,
   "id": "778aa037",
   "metadata": {},
   "outputs": [],
   "source": [
    "from scipy.spatial import ConvexHull\n",
    "\n",
    "hull = ConvexHull(coords)"
   ]
  },
  {
   "cell_type": "code",
   "execution_count": 31,
   "id": "05ab48a5",
   "metadata": {},
   "outputs": [
    {
     "data": {
      "text/plain": [
       "521948.83601851267"
      ]
     },
     "execution_count": 31,
     "metadata": {},
     "output_type": "execute_result"
    }
   ],
   "source": [
    "hull.volume #This is in cubic Angstroms"
   ]
  },
  {
   "cell_type": "code",
   "execution_count": 32,
   "id": "deac0353",
   "metadata": {},
   "outputs": [],
   "source": [
    "#assuming this is encased in a sphere, let's calculate the radius of the sphere\n",
    "\n",
    "radius=(3/4*(hull.volume/np.pi))**(1/3)"
   ]
  },
  {
   "cell_type": "code",
   "execution_count": 33,
   "id": "aa27e669",
   "metadata": {},
   "outputs": [
    {
     "data": {
      "text/plain": [
       "4.994742552989264"
      ]
     },
     "execution_count": 33,
     "metadata": {},
     "output_type": "execute_result"
    }
   ],
   "source": [
    "radius*0.1 #Result in nanometer"
   ]
  }
 ],
 "metadata": {
  "kernelspec": {
   "display_name": "Python 3",
   "language": "python",
   "name": "python3"
  },
  "language_info": {
   "codemirror_mode": {
    "name": "ipython",
    "version": 3
   },
   "file_extension": ".py",
   "mimetype": "text/x-python",
   "name": "python",
   "nbconvert_exporter": "python",
   "pygments_lexer": "ipython3",
   "version": "3.9.12"
  }
 },
 "nbformat": 4,
 "nbformat_minor": 5
}
