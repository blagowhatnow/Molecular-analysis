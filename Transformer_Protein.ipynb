{
  "nbformat": 4,
  "nbformat_minor": 0,
  "metadata": {
    "colab": {
      "provenance": [],
      "collapsed_sections": []
    },
    "kernelspec": {
      "name": "python3",
      "display_name": "Python 3"
    },
    "language_info": {
      "name": "python"
    },
    "accelerator": "GPU"
  },
  "cells": [
    {
      "cell_type": "code",
      "execution_count": 1,
      "metadata": {
        "colab": {
          "base_uri": "https://localhost:8080/"
        },
        "id": "H5dlsP07d4JV",
        "outputId": "d91aa45a-e173-449a-9018-c1933859dfdc"
      },
      "outputs": [
        {
          "output_type": "stream",
          "name": "stdout",
          "text": [
            "Mounted at /content/drive\n"
          ]
        }
      ],
      "source": [
        "#From https://www.kaggle.com/competitions/novozymes-enzyme-stability-prediction\n",
        "\n",
        "from google.colab import drive\n",
        "drive.mount('/content/drive')"
      ]
    },
    {
      "cell_type": "code",
      "source": [
        "import pandas as pd\n",
        "import numpy as np"
      ],
      "metadata": {
        "id": "cvE2Fha1d-gv"
      },
      "execution_count": 2,
      "outputs": []
    },
    {
      "cell_type": "code",
      "source": [
        "df=pd.read_csv(\"/content/drive/MyDrive/train.csv\")"
      ],
      "metadata": {
        "id": "gcOf7bTReS9Z"
      },
      "execution_count": 3,
      "outputs": []
    },
    {
      "cell_type": "code",
      "source": [
        "df.head()"
      ],
      "metadata": {
        "colab": {
          "base_uri": "https://localhost:8080/",
          "height": 337
        },
        "id": "e0FKzcz_0mAF",
        "outputId": "02e9853b-df67-40ae-fa58-fc6b1f65c34d"
      },
      "execution_count": 83,
      "outputs": [
        {
          "output_type": "execute_result",
          "data": {
            "text/plain": [
              "   seq_id                                   protein_sequence   pH  \\\n",
              "0       0  AAAAKAAALALLGEAPEVVDIWLPAGWRQPFRVFRLERKGDGVLVG...  7.0   \n",
              "1       1  AAADGEPLHNEEERAGAGQVGRSLPQESEEQRTGSRPRRRRDLGSR...  7.0   \n",
              "2       2  AAAFSTPRATSYRILSSAGSGSTRADAPQVRRLHTTRDLLAKDYYA...  7.0   \n",
              "3       3  AAASGLRTAIPAQPLRHLLQPAPRPCLRPFGLLSVRAGSARRSGLL...  7.0   \n",
              "4       4  AAATKSGPRRQSQGASVRTFTPFYFLVEPVDTLSVRGSSVILNCSA...  7.0   \n",
              "\n",
              "                         data_source    tm  \\\n",
              "0  doi.org/10.1038/s41592-020-0801-4  75.7   \n",
              "1  doi.org/10.1038/s41592-020-0801-4  50.5   \n",
              "2  doi.org/10.1038/s41592-020-0801-4  40.5   \n",
              "3  doi.org/10.1038/s41592-020-0801-4  47.2   \n",
              "4  doi.org/10.1038/s41592-020-0801-4  49.5   \n",
              "\n",
              "                                                 seq  \\\n",
              "0  [0, 0, 0, 0, 2, 0, 0, 0, 3, 0, 2, 2, 4, 5, 0, ...   \n",
              "1  [0, 0, 0, 7, 3, 4, 5, 2, 15, 17, 4, 4, 4, 10, ...   \n",
              "2  [0, 0, 0, 12, 16, 14, 5, 10, 0, 14, 16, 18, 10...   \n",
              "3  [0, 0, 0, 16, 3, 2, 10, 14, 0, 8, 5, 0, 11, 5,...   \n",
              "4  [0, 0, 0, 14, 1, 16, 3, 5, 10, 10, 11, 16, 11,...   \n",
              "\n",
              "                                              counts  \n",
              "0  [0.13196480938416422, 0.0469208211143695, 0.10...  \n",
              "1  [0.0979020979020979, 0.06643356643356643, 0.08...  \n",
              "2  [0.1006036217303823, 0.07847082494969819, 0.03...  \n",
              "3  [0.07547169811320754, 0.06415094339622641, 0.1...  \n",
              "4  [0.059269469331495524, 0.04686423156443832, 0....  "
            ],
            "text/html": [
              "\n",
              "  <div id=\"df-01447fe4-e446-43d8-8455-531af6f07376\">\n",
              "    <div class=\"colab-df-container\">\n",
              "      <div>\n",
              "<style scoped>\n",
              "    .dataframe tbody tr th:only-of-type {\n",
              "        vertical-align: middle;\n",
              "    }\n",
              "\n",
              "    .dataframe tbody tr th {\n",
              "        vertical-align: top;\n",
              "    }\n",
              "\n",
              "    .dataframe thead th {\n",
              "        text-align: right;\n",
              "    }\n",
              "</style>\n",
              "<table border=\"1\" class=\"dataframe\">\n",
              "  <thead>\n",
              "    <tr style=\"text-align: right;\">\n",
              "      <th></th>\n",
              "      <th>seq_id</th>\n",
              "      <th>protein_sequence</th>\n",
              "      <th>pH</th>\n",
              "      <th>data_source</th>\n",
              "      <th>tm</th>\n",
              "      <th>seq</th>\n",
              "      <th>counts</th>\n",
              "    </tr>\n",
              "  </thead>\n",
              "  <tbody>\n",
              "    <tr>\n",
              "      <th>0</th>\n",
              "      <td>0</td>\n",
              "      <td>AAAAKAAALALLGEAPEVVDIWLPAGWRQPFRVFRLERKGDGVLVG...</td>\n",
              "      <td>7.0</td>\n",
              "      <td>doi.org/10.1038/s41592-020-0801-4</td>\n",
              "      <td>75.7</td>\n",
              "      <td>[0, 0, 0, 0, 2, 0, 0, 0, 3, 0, 2, 2, 4, 5, 0, ...</td>\n",
              "      <td>[0.13196480938416422, 0.0469208211143695, 0.10...</td>\n",
              "    </tr>\n",
              "    <tr>\n",
              "      <th>1</th>\n",
              "      <td>1</td>\n",
              "      <td>AAADGEPLHNEEERAGAGQVGRSLPQESEEQRTGSRPRRRRDLGSR...</td>\n",
              "      <td>7.0</td>\n",
              "      <td>doi.org/10.1038/s41592-020-0801-4</td>\n",
              "      <td>50.5</td>\n",
              "      <td>[0, 0, 0, 7, 3, 4, 5, 2, 15, 17, 4, 4, 4, 10, ...</td>\n",
              "      <td>[0.0979020979020979, 0.06643356643356643, 0.08...</td>\n",
              "    </tr>\n",
              "    <tr>\n",
              "      <th>2</th>\n",
              "      <td>2</td>\n",
              "      <td>AAAFSTPRATSYRILSSAGSGSTRADAPQVRRLHTTRDLLAKDYYA...</td>\n",
              "      <td>7.0</td>\n",
              "      <td>doi.org/10.1038/s41592-020-0801-4</td>\n",
              "      <td>40.5</td>\n",
              "      <td>[0, 0, 0, 12, 16, 14, 5, 10, 0, 14, 16, 18, 10...</td>\n",
              "      <td>[0.1006036217303823, 0.07847082494969819, 0.03...</td>\n",
              "    </tr>\n",
              "    <tr>\n",
              "      <th>3</th>\n",
              "      <td>3</td>\n",
              "      <td>AAASGLRTAIPAQPLRHLLQPAPRPCLRPFGLLSVRAGSARRSGLL...</td>\n",
              "      <td>7.0</td>\n",
              "      <td>doi.org/10.1038/s41592-020-0801-4</td>\n",
              "      <td>47.2</td>\n",
              "      <td>[0, 0, 0, 16, 3, 2, 10, 14, 0, 8, 5, 0, 11, 5,...</td>\n",
              "      <td>[0.07547169811320754, 0.06415094339622641, 0.1...</td>\n",
              "    </tr>\n",
              "    <tr>\n",
              "      <th>4</th>\n",
              "      <td>4</td>\n",
              "      <td>AAATKSGPRRQSQGASVRTFTPFYFLVEPVDTLSVRGSSVILNCSA...</td>\n",
              "      <td>7.0</td>\n",
              "      <td>doi.org/10.1038/s41592-020-0801-4</td>\n",
              "      <td>49.5</td>\n",
              "      <td>[0, 0, 0, 14, 1, 16, 3, 5, 10, 10, 11, 16, 11,...</td>\n",
              "      <td>[0.059269469331495524, 0.04686423156443832, 0....</td>\n",
              "    </tr>\n",
              "  </tbody>\n",
              "</table>\n",
              "</div>\n",
              "      <button class=\"colab-df-convert\" onclick=\"convertToInteractive('df-01447fe4-e446-43d8-8455-531af6f07376')\"\n",
              "              title=\"Convert this dataframe to an interactive table.\"\n",
              "              style=\"display:none;\">\n",
              "        \n",
              "  <svg xmlns=\"http://www.w3.org/2000/svg\" height=\"24px\"viewBox=\"0 0 24 24\"\n",
              "       width=\"24px\">\n",
              "    <path d=\"M0 0h24v24H0V0z\" fill=\"none\"/>\n",
              "    <path d=\"M18.56 5.44l.94 2.06.94-2.06 2.06-.94-2.06-.94-.94-2.06-.94 2.06-2.06.94zm-11 1L8.5 8.5l.94-2.06 2.06-.94-2.06-.94L8.5 2.5l-.94 2.06-2.06.94zm10 10l.94 2.06.94-2.06 2.06-.94-2.06-.94-.94-2.06-.94 2.06-2.06.94z\"/><path d=\"M17.41 7.96l-1.37-1.37c-.4-.4-.92-.59-1.43-.59-.52 0-1.04.2-1.43.59L10.3 9.45l-7.72 7.72c-.78.78-.78 2.05 0 2.83L4 21.41c.39.39.9.59 1.41.59.51 0 1.02-.2 1.41-.59l7.78-7.78 2.81-2.81c.8-.78.8-2.07 0-2.86zM5.41 20L4 18.59l7.72-7.72 1.47 1.35L5.41 20z\"/>\n",
              "  </svg>\n",
              "      </button>\n",
              "      \n",
              "  <style>\n",
              "    .colab-df-container {\n",
              "      display:flex;\n",
              "      flex-wrap:wrap;\n",
              "      gap: 12px;\n",
              "    }\n",
              "\n",
              "    .colab-df-convert {\n",
              "      background-color: #E8F0FE;\n",
              "      border: none;\n",
              "      border-radius: 50%;\n",
              "      cursor: pointer;\n",
              "      display: none;\n",
              "      fill: #1967D2;\n",
              "      height: 32px;\n",
              "      padding: 0 0 0 0;\n",
              "      width: 32px;\n",
              "    }\n",
              "\n",
              "    .colab-df-convert:hover {\n",
              "      background-color: #E2EBFA;\n",
              "      box-shadow: 0px 1px 2px rgba(60, 64, 67, 0.3), 0px 1px 3px 1px rgba(60, 64, 67, 0.15);\n",
              "      fill: #174EA6;\n",
              "    }\n",
              "\n",
              "    [theme=dark] .colab-df-convert {\n",
              "      background-color: #3B4455;\n",
              "      fill: #D2E3FC;\n",
              "    }\n",
              "\n",
              "    [theme=dark] .colab-df-convert:hover {\n",
              "      background-color: #434B5C;\n",
              "      box-shadow: 0px 1px 3px 1px rgba(0, 0, 0, 0.15);\n",
              "      filter: drop-shadow(0px 1px 2px rgba(0, 0, 0, 0.3));\n",
              "      fill: #FFFFFF;\n",
              "    }\n",
              "  </style>\n",
              "\n",
              "      <script>\n",
              "        const buttonEl =\n",
              "          document.querySelector('#df-01447fe4-e446-43d8-8455-531af6f07376 button.colab-df-convert');\n",
              "        buttonEl.style.display =\n",
              "          google.colab.kernel.accessAllowed ? 'block' : 'none';\n",
              "\n",
              "        async function convertToInteractive(key) {\n",
              "          const element = document.querySelector('#df-01447fe4-e446-43d8-8455-531af6f07376');\n",
              "          const dataTable =\n",
              "            await google.colab.kernel.invokeFunction('convertToInteractive',\n",
              "                                                     [key], {});\n",
              "          if (!dataTable) return;\n",
              "\n",
              "          const docLinkHtml = 'Like what you see? Visit the ' +\n",
              "            '<a target=\"_blank\" href=https://colab.research.google.com/notebooks/data_table.ipynb>data table notebook</a>'\n",
              "            + ' to learn more about interactive tables.';\n",
              "          element.innerHTML = '';\n",
              "          dataTable['output_type'] = 'display_data';\n",
              "          await google.colab.output.renderOutput(dataTable, element);\n",
              "          const docLink = document.createElement('div');\n",
              "          docLink.innerHTML = docLinkHtml;\n",
              "          element.appendChild(docLink);\n",
              "        }\n",
              "      </script>\n",
              "    </div>\n",
              "  </div>\n",
              "  "
            ]
          },
          "metadata": {},
          "execution_count": 83
        }
      ]
    },
    {
      "cell_type": "code",
      "source": [
        "char_seq = {'A': 0}\n",
        "\n",
        "max_seq = 0\n",
        "\n",
        "def get_char_index(c):\n",
        "    \n",
        "    if c in char_seq.keys():\n",
        "        return char_seq[c]\n",
        "    else:\n",
        "        char_seq[c] = len(char_seq)\n",
        "    \n",
        "    return len(char_seq)\n",
        "        \n",
        "    \n",
        "def to_seq(string):\n",
        "    \n",
        "    new_seq = [get_char_index(c) for c in string]\n",
        "    \n",
        "    return new_seq\n",
        "\n",
        "def get_counts(seq):\n",
        "    \n",
        "    counts = np.zeros(len(char_seq) + 1)\n",
        "    \n",
        "    for i, c in enumerate(char_seq.keys()):\n",
        "        counts[i] = sum([x == c for x in seq]) / len(seq)\n",
        "        \n",
        "    counts[len(char_seq)] = len(seq) / 1_000\n",
        "        \n",
        "    return counts\n",
        "\n",
        "def create_features(df):\n",
        "    \n",
        "    df['seq'] = df['protein_sequence'].apply(to_seq)\n",
        "    \n",
        "    df['counts'] = df['protein_sequence'].apply(get_counts)\n",
        "        \n",
        "    print(len(char_seq))\n",
        "\n",
        "    return df"
      ],
      "metadata": {
        "id": "vp1_XQTMeYXp"
      },
      "execution_count": 4,
      "outputs": []
    },
    {
      "cell_type": "code",
      "source": [
        "df = create_features(df)"
      ],
      "metadata": {
        "colab": {
          "base_uri": "https://localhost:8080/"
        },
        "id": "_x53kyz5eaIE",
        "outputId": "c4f8eb54-6f78-4e9a-efe3-5b823a1b9673"
      },
      "execution_count": 5,
      "outputs": [
        {
          "output_type": "stream",
          "name": "stdout",
          "text": [
            "20\n"
          ]
        }
      ]
    },
    {
      "cell_type": "markdown",
      "source": [],
      "metadata": {
        "id": "8G1EI_LQndQP"
      }
    },
    {
      "cell_type": "code",
      "source": [
        "import tensorflow\n",
        "from keras.preprocessing import sequence\n",
        "max_words = 1_000\n",
        "\n",
        "X = tensorflow.keras.preprocessing.sequence.pad_sequences(df['seq'].values, maxlen=max_words)\n",
        "\n",
        "\n",
        "y = df['tm'].values"
      ],
      "metadata": {
        "id": "Q7AAM4JifJU9"
      },
      "execution_count": 6,
      "outputs": []
    },
    {
      "cell_type": "code",
      "source": [
        "X=X.reshape(X.shape[0],X.shape[1],1)"
      ],
      "metadata": {
        "id": "bLNhqwZT0UZ6"
      },
      "execution_count": null,
      "outputs": []
    },
    {
      "cell_type": "code",
      "source": [
        "from sklearn.model_selection import train_test_split\n",
        "X_train, X_test, y_train, y_test = train_test_split(X, y, test_size=0.30, random_state=42)"
      ],
      "metadata": {
        "id": "LpwOeNNcfM_K"
      },
      "execution_count": 35,
      "outputs": []
    },
    {
      "cell_type": "code",
      "source": [
        "class TransformerBlock(tensorflow.keras.layers.Layer):\n",
        "    def __init__(self, embed_dim, feat_dim, num_heads, ff_dim, rate=0.1):\n",
        "        super(TransformerBlock, self).__init__()\n",
        "        self.att = tensorflow.keras.layers.MultiHeadAttention(num_heads=num_heads, key_dim=embed_dim)\n",
        "        self.ffn = tensorflow.keras.Sequential(\n",
        "            [tensorflow.keras.layers.Dense(ff_dim, activation=\"gelu\"), tensorflow.keras.layers.Dense(feat_dim),]\n",
        "        )\n",
        "        self.layernorm1 = tensorflow.keras.layers.LayerNormalization(epsilon=1e-6)\n",
        "        self.layernorm2 = tensorflow.keras.layers.LayerNormalization(epsilon=1e-6)\n",
        "        self.dropout1 = tensorflow.keras.layers.Dropout(rate)\n",
        "        self.dropout2 = tensorflow.keras.layers.Dropout(rate)\n",
        "\n",
        "    def call(self, inputs, training):\n",
        "        attn_output = self.att(inputs, inputs)\n",
        "        attn_output = self.dropout1(attn_output, training=training)\n",
        "        out1 = self.layernorm1(inputs + attn_output)\n",
        "        ffn_output = self.ffn(out1)\n",
        "        ffn_output = self.dropout2(ffn_output, training=training)\n",
        "        return self.layernorm2(out1 + ffn_output)"
      ],
      "metadata": {
        "id": "BIouV7ORaUum"
      },
      "execution_count": 14,
      "outputs": []
    },
    {
      "cell_type": "code",
      "source": [
        "feat_dim = X_train.shape[-1] + 32\n",
        "embed_dim = 64  # Embedding size for attention\n",
        "num_heads = 8  # Number of attention heads\n",
        "ff_dim = 128  # Hidden layer size in feed forward network inside transformer\n",
        "dropout_rate = 0.0\n",
        "num_blocks = 12"
      ],
      "metadata": {
        "id": "yiP4xWLPa1ve"
      },
      "execution_count": 11,
      "outputs": []
    },
    {
      "cell_type": "code",
      "source": [
        "def build_model():\n",
        "    inputs = tensorflow.keras.layers.Input(shape=X_train.shape[-2:])\n",
        "        \n",
        "    # \"EMBEDDING LAYER\"\n",
        "    x = tensorflow.keras.layers.Dense(feat_dim)(inputs)\n",
        "    x = tensorflow.keras.layers.LayerNormalization(epsilon=1e-6)(x)\n",
        "    \n",
        "    # TRANSFORMER BLOCKS\n",
        "    for k in range(num_blocks):\n",
        "        x_old = x\n",
        "        transformer_block = TransformerBlock(embed_dim, feat_dim, num_heads, ff_dim, dropout_rate)\n",
        "        x = transformer_block(x)\n",
        "        x = 0.7*x + 0.3*x_old # SKIP CONNECTION\n",
        "    \n",
        "    # REGRESSION HEAD\n",
        "    x = tensorflow.keras.layers.Dense(128, activation=\"selu\")(x)\n",
        "    x = tensorflow.keras.layers.Dropout(dropout_rate)(x)\n",
        "    outputs = tensorflow.keras.layers.Dense(1, activation=\"linear\")(x)\n",
        "    model = tensorflow.keras.Model(inputs=inputs, outputs=outputs)\n",
        "        \n",
        "    return model"
      ],
      "metadata": {
        "id": "9z8ZpZJbnBrc"
      },
      "execution_count": 71,
      "outputs": []
    },
    {
      "cell_type": "code",
      "source": [
        "X_train=X_train.reshape(X_train.shape[0],X_train.shape[1],1)"
      ],
      "metadata": {
        "id": "fvKHkHJ1g6hU"
      },
      "execution_count": 70,
      "outputs": []
    },
    {
      "cell_type": "code",
      "source": [
        "import math \n",
        "import matplotlib.pyplot as plt\n",
        "\n",
        "LR_START = 1e-6\n",
        "LR_MAX = 6e-4\n",
        "LR_MIN = 1e-6\n",
        "LR_RAMPUP_EPOCHS = 0\n",
        "LR_SUSTAIN_EPOCHS = 0\n",
        "EPOCHS = 420\n",
        "STEPS = [60,120,240]\n",
        "\n",
        "\n",
        "def lrfn(epoch):\n",
        "    if epoch<STEPS[0]:\n",
        "        epoch2 = epoch\n",
        "        EPOCHS2 = STEPS[0]\n",
        "    elif epoch<STEPS[0]+STEPS[1]:\n",
        "        epoch2 = epoch-STEPS[0]\n",
        "        EPOCHS2 = STEPS[1]\n",
        "    elif epoch<STEPS[0]+STEPS[1]+STEPS[2]:\n",
        "        epoch2 = epoch-STEPS[0]-STEPS[1]\n",
        "        EPOCHS2 = STEPS[2]\n",
        "    \n",
        "    if epoch2 < LR_RAMPUP_EPOCHS:\n",
        "        lr = (LR_MAX - LR_START) / LR_RAMPUP_EPOCHS * epoch2 + LR_START\n",
        "    elif epoch2 < LR_RAMPUP_EPOCHS + LR_SUSTAIN_EPOCHS:\n",
        "        lr = LR_MAX\n",
        "    else:\n",
        "        decay_total_epochs = EPOCHS2 - LR_RAMPUP_EPOCHS - LR_SUSTAIN_EPOCHS - 1\n",
        "        decay_epoch_index = epoch2 - LR_RAMPUP_EPOCHS - LR_SUSTAIN_EPOCHS\n",
        "        phase = math.pi * decay_epoch_index / decay_total_epochs\n",
        "        cosine_decay = 0.5 * (1 + math.cos(phase))\n",
        "        lr = (LR_MAX - LR_MIN) * cosine_decay + LR_MIN\n",
        "    return lr\n",
        "\n",
        "rng = [i for i in range(EPOCHS)]\n",
        "lr_y = [lrfn(x) for x in rng]\n",
        "plt.figure(figsize=(10, 4))\n",
        "plt.plot(rng, lr_y, '-o')\n",
        "print(\"Learning rate schedule: {:.3g} to {:.3g} to {:.3g}\". \\\n",
        "          format(lr_y[0], max(lr_y), lr_y[-1]))\n",
        "lr_callback = tensorflow.keras.callbacks.LearningRateScheduler(lrfn, verbose = True)\n",
        "plt.xlabel('Epoch',size=14)\n",
        "plt.ylabel('Learning Rate',size=14)\n",
        "plt.show()"
      ],
      "metadata": {
        "id": "7-lRttcGk5_9",
        "colab": {
          "base_uri": "https://localhost:8080/",
          "height": 300
        },
        "outputId": "f6852ac1-e225-4cfb-8658-a43a6b45c860"
      },
      "execution_count": 43,
      "outputs": [
        {
          "output_type": "stream",
          "name": "stdout",
          "text": [
            "Learning rate schedule: 0.0006 to 0.0006 to 1e-06\n"
          ]
        },
        {
          "output_type": "display_data",
          "data": {
            "text/plain": [
              "<Figure size 720x288 with 1 Axes>"
            ],
            "image/png": "[encoded data removed]"
          },
          "metadata": {
            "needs_background": "light"
          }
        }
      ]
    },
    {
      "cell_type": "code",
      "source": [
        "model = build_model()\n",
        "opt = tensorflow.keras.optimizers.Adam(learning_rate=0.001)\n",
        "model.compile(optimizer=opt, loss=\"mse\", sample_weight_mode=\"temporal\",metrics=['RootMeanSquaredError'])"
      ],
      "metadata": {
        "id": "z4PkDAUgf67a"
      },
      "execution_count": 80,
      "outputs": []
    },
    {
      "cell_type": "code",
      "source": [
        "model.summary()"
      ],
      "metadata": {
        "id": "sN8BFT3og8vX",
        "colab": {
          "base_uri": "https://localhost:8080/"
        },
        "outputId": "6c9468d7-2df2-43d7-f4ea-958912809f56"
      },
      "execution_count": 73,
      "outputs": [
        {
          "output_type": "stream",
          "name": "stdout",
          "text": [
            "Model: \"model_5\"\n",
            "__________________________________________________________________________________________________\n",
            " Layer (type)                   Output Shape         Param #     Connected to                     \n",
            "==================================================================================================\n",
            " input_15 (InputLayer)          [(None, 1000, 1)]    0           []                               \n",
            "                                                                                                  \n",
            " dense_186 (Dense)              (None, 1000, 1032)   2064        ['input_15[0][0]']               \n",
            "                                                                                                  \n",
            " layer_normalization_169 (Layer  (None, 1000, 1032)  2064        ['dense_186[0][0]']              \n",
            " Normalization)                                                                                   \n",
            "                                                                                                  \n",
            " transformer_block_79 (Transfor  (None, 1000, 1032)  2385584     ['layer_normalization_169[0][0]']\n",
            " merBlock)                                                                                        \n",
            "                                                                                                  \n",
            " tf.math.multiply_144 (TFOpLamb  (None, 1000, 1032)  0           ['transformer_block_79[0][0]']   \n",
            " da)                                                                                              \n",
            "                                                                                                  \n",
            " tf.math.multiply_145 (TFOpLamb  (None, 1000, 1032)  0           ['layer_normalization_169[0][0]']\n",
            " da)                                                                                              \n",
            "                                                                                                  \n",
            " tf.__operators__.add_72 (TFOpL  (None, 1000, 1032)  0           ['tf.math.multiply_144[0][0]',   \n",
            " ambda)                                                           'tf.math.multiply_145[0][0]']   \n",
            "                                                                                                  \n",
            " transformer_block_80 (Transfor  (None, 1000, 1032)  2385584     ['tf.__operators__.add_72[0][0]']\n",
            " merBlock)                                                                                        \n",
            "                                                                                                  \n",
            " tf.math.multiply_146 (TFOpLamb  (None, 1000, 1032)  0           ['transformer_block_80[0][0]']   \n",
            " da)                                                                                              \n",
            "                                                                                                  \n",
            " tf.math.multiply_147 (TFOpLamb  (None, 1000, 1032)  0           ['tf.__operators__.add_72[0][0]']\n",
            " da)                                                                                              \n",
            "                                                                                                  \n",
            " tf.__operators__.add_73 (TFOpL  (None, 1000, 1032)  0           ['tf.math.multiply_146[0][0]',   \n",
            " ambda)                                                           'tf.math.multiply_147[0][0]']   \n",
            "                                                                                                  \n",
            " transformer_block_81 (Transfor  (None, 1000, 1032)  2385584     ['tf.__operators__.add_73[0][0]']\n",
            " merBlock)                                                                                        \n",
            "                                                                                                  \n",
            " tf.math.multiply_148 (TFOpLamb  (None, 1000, 1032)  0           ['transformer_block_81[0][0]']   \n",
            " da)                                                                                              \n",
            "                                                                                                  \n",
            " tf.math.multiply_149 (TFOpLamb  (None, 1000, 1032)  0           ['tf.__operators__.add_73[0][0]']\n",
            " da)                                                                                              \n",
            "                                                                                                  \n",
            " tf.__operators__.add_74 (TFOpL  (None, 1000, 1032)  0           ['tf.math.multiply_148[0][0]',   \n",
            " ambda)                                                           'tf.math.multiply_149[0][0]']   \n",
            "                                                                                                  \n",
            " transformer_block_82 (Transfor  (None, 1000, 1032)  2385584     ['tf.__operators__.add_74[0][0]']\n",
            " merBlock)                                                                                        \n",
            "                                                                                                  \n",
            " tf.math.multiply_150 (TFOpLamb  (None, 1000, 1032)  0           ['transformer_block_82[0][0]']   \n",
            " da)                                                                                              \n",
            "                                                                                                  \n",
            " tf.math.multiply_151 (TFOpLamb  (None, 1000, 1032)  0           ['tf.__operators__.add_74[0][0]']\n",
            " da)                                                                                              \n",
            "                                                                                                  \n",
            " tf.__operators__.add_75 (TFOpL  (None, 1000, 1032)  0           ['tf.math.multiply_150[0][0]',   \n",
            " ambda)                                                           'tf.math.multiply_151[0][0]']   \n",
            "                                                                                                  \n",
            " transformer_block_83 (Transfor  (None, 1000, 1032)  2385584     ['tf.__operators__.add_75[0][0]']\n",
            " merBlock)                                                                                        \n",
            "                                                                                                  \n",
            " tf.math.multiply_152 (TFOpLamb  (None, 1000, 1032)  0           ['transformer_block_83[0][0]']   \n",
            " da)                                                                                              \n",
            "                                                                                                  \n",
            " tf.math.multiply_153 (TFOpLamb  (None, 1000, 1032)  0           ['tf.__operators__.add_75[0][0]']\n",
            " da)                                                                                              \n",
            "                                                                                                  \n",
            " tf.__operators__.add_76 (TFOpL  (None, 1000, 1032)  0           ['tf.math.multiply_152[0][0]',   \n",
            " ambda)                                                           'tf.math.multiply_153[0][0]']   \n",
            "                                                                                                  \n",
            " transformer_block_84 (Transfor  (None, 1000, 1032)  2385584     ['tf.__operators__.add_76[0][0]']\n",
            " merBlock)                                                                                        \n",
            "                                                                                                  \n",
            " tf.math.multiply_154 (TFOpLamb  (None, 1000, 1032)  0           ['transformer_block_84[0][0]']   \n",
            " da)                                                                                              \n",
            "                                                                                                  \n",
            " tf.math.multiply_155 (TFOpLamb  (None, 1000, 1032)  0           ['tf.__operators__.add_76[0][0]']\n",
            " da)                                                                                              \n",
            "                                                                                                  \n",
            " tf.__operators__.add_77 (TFOpL  (None, 1000, 1032)  0           ['tf.math.multiply_154[0][0]',   \n",
            " ambda)                                                           'tf.math.multiply_155[0][0]']   \n",
            "                                                                                                  \n",
            " transformer_block_85 (Transfor  (None, 1000, 1032)  2385584     ['tf.__operators__.add_77[0][0]']\n",
            " merBlock)                                                                                        \n",
            "                                                                                                  \n",
            " tf.math.multiply_156 (TFOpLamb  (None, 1000, 1032)  0           ['transformer_block_85[0][0]']   \n",
            " da)                                                                                              \n",
            "                                                                                                  \n",
            " tf.math.multiply_157 (TFOpLamb  (None, 1000, 1032)  0           ['tf.__operators__.add_77[0][0]']\n",
            " da)                                                                                              \n",
            "                                                                                                  \n",
            " tf.__operators__.add_78 (TFOpL  (None, 1000, 1032)  0           ['tf.math.multiply_156[0][0]',   \n",
            " ambda)                                                           'tf.math.multiply_157[0][0]']   \n",
            "                                                                                                  \n",
            " transformer_block_86 (Transfor  (None, 1000, 1032)  2385584     ['tf.__operators__.add_78[0][0]']\n",
            " merBlock)                                                                                        \n",
            "                                                                                                  \n",
            " tf.math.multiply_158 (TFOpLamb  (None, 1000, 1032)  0           ['transformer_block_86[0][0]']   \n",
            " da)                                                                                              \n",
            "                                                                                                  \n",
            " tf.math.multiply_159 (TFOpLamb  (None, 1000, 1032)  0           ['tf.__operators__.add_78[0][0]']\n",
            " da)                                                                                              \n",
            "                                                                                                  \n",
            " tf.__operators__.add_79 (TFOpL  (None, 1000, 1032)  0           ['tf.math.multiply_158[0][0]',   \n",
            " ambda)                                                           'tf.math.multiply_159[0][0]']   \n",
            "                                                                                                  \n",
            " transformer_block_87 (Transfor  (None, 1000, 1032)  2385584     ['tf.__operators__.add_79[0][0]']\n",
            " merBlock)                                                                                        \n",
            "                                                                                                  \n",
            " tf.math.multiply_160 (TFOpLamb  (None, 1000, 1032)  0           ['transformer_block_87[0][0]']   \n",
            " da)                                                                                              \n",
            "                                                                                                  \n",
            " tf.math.multiply_161 (TFOpLamb  (None, 1000, 1032)  0           ['tf.__operators__.add_79[0][0]']\n",
            " da)                                                                                              \n",
            "                                                                                                  \n",
            " tf.__operators__.add_80 (TFOpL  (None, 1000, 1032)  0           ['tf.math.multiply_160[0][0]',   \n",
            " ambda)                                                           'tf.math.multiply_161[0][0]']   \n",
            "                                                                                                  \n",
            " transformer_block_88 (Transfor  (None, 1000, 1032)  2385584     ['tf.__operators__.add_80[0][0]']\n",
            " merBlock)                                                                                        \n",
            "                                                                                                  \n",
            " tf.math.multiply_162 (TFOpLamb  (None, 1000, 1032)  0           ['transformer_block_88[0][0]']   \n",
            " da)                                                                                              \n",
            "                                                                                                  \n",
            " tf.math.multiply_163 (TFOpLamb  (None, 1000, 1032)  0           ['tf.__operators__.add_80[0][0]']\n",
            " da)                                                                                              \n",
            "                                                                                                  \n",
            " tf.__operators__.add_81 (TFOpL  (None, 1000, 1032)  0           ['tf.math.multiply_162[0][0]',   \n",
            " ambda)                                                           'tf.math.multiply_163[0][0]']   \n",
            "                                                                                                  \n",
            " transformer_block_89 (Transfor  (None, 1000, 1032)  2385584     ['tf.__operators__.add_81[0][0]']\n",
            " merBlock)                                                                                        \n",
            "                                                                                                  \n",
            " tf.math.multiply_164 (TFOpLamb  (None, 1000, 1032)  0           ['transformer_block_89[0][0]']   \n",
            " da)                                                                                              \n",
            "                                                                                                  \n",
            " tf.math.multiply_165 (TFOpLamb  (None, 1000, 1032)  0           ['tf.__operators__.add_81[0][0]']\n",
            " da)                                                                                              \n",
            "                                                                                                  \n",
            " tf.__operators__.add_82 (TFOpL  (None, 1000, 1032)  0           ['tf.math.multiply_164[0][0]',   \n",
            " ambda)                                                           'tf.math.multiply_165[0][0]']   \n",
            "                                                                                                  \n",
            " transformer_block_90 (Transfor  (None, 1000, 1032)  2385584     ['tf.__operators__.add_82[0][0]']\n",
            " merBlock)                                                                                        \n",
            "                                                                                                  \n",
            " tf.math.multiply_166 (TFOpLamb  (None, 1000, 1032)  0           ['transformer_block_90[0][0]']   \n",
            " da)                                                                                              \n",
            "                                                                                                  \n",
            " tf.math.multiply_167 (TFOpLamb  (None, 1000, 1032)  0           ['tf.__operators__.add_82[0][0]']\n",
            " da)                                                                                              \n",
            "                                                                                                  \n",
            " tf.__operators__.add_83 (TFOpL  (None, 1000, 1032)  0           ['tf.math.multiply_166[0][0]',   \n",
            " ambda)                                                           'tf.math.multiply_167[0][0]']   \n",
            "                                                                                                  \n",
            " dense_211 (Dense)              (None, 1000, 128)    132224      ['tf.__operators__.add_83[0][0]']\n",
            "                                                                                                  \n",
            " dropout_186 (Dropout)          (None, 1000, 128)    0           ['dense_211[0][0]']              \n",
            "                                                                                                  \n",
            " dense_212 (Dense)              (None, 1000, 1)      129         ['dropout_186[0][0]']            \n",
            "                                                                                                  \n",
            "==================================================================================================\n",
            "Total params: 28,763,489\n",
            "Trainable params: 28,763,489\n",
            "Non-trainable params: 0\n",
            "__________________________________________________________________________________________________\n"
          ]
        }
      ]
    },
    {
      "cell_type": "code",
      "source": [
        "EPOCH = EPOCHS\n",
        "BATCH_SIZE = 32\n",
        "NUM_FOLDS = 11\n",
        "VERBOSE = 1"
      ],
      "metadata": {
        "id": "59PYCvBumEfM"
      },
      "execution_count": 75,
      "outputs": []
    },
    {
      "cell_type": "code",
      "source": [
        "history = model.fit(X_train, y_train, verbose=VERBOSE, epochs=EPOCH, batch_size=10)      "
      ],
      "metadata": {
        "colab": {
          "base_uri": "https://localhost:8080/",
          "height": 381
        },
        "id": "i0nATUzre6Sw",
        "outputId": "09d9aa24-0282-44f3-e6e8-623acc1f9fc1"
      },
      "execution_count": 81,
      "outputs": [
        {
          "output_type": "stream",
          "name": "stdout",
          "text": [
            "Epoch 1/420\n",
            "2198/2198 [==============================] - 2884s 1s/step - loss: 204.3183 - root_mean_squared_error: 14.2923\n",
            "Epoch 2/420\n",
            " 402/2198 [====>.........................] - ETA: 39:06 - loss: 201.2674 - root_mean_squared_error: 14.1869"
          ]
        },
        {
          "output_type": "error",
          "ename": "KeyboardInterrupt",
          "evalue": "ignored",
          "traceback": [
            "\u001b[0;31m---------------------------------------------------------------------------\u001b[0m",
            "\u001b[0;31mKeyboardInterrupt\u001b[0m                         Traceback (most recent call last)",
            "\u001b[0;32m<ipython-input-81-0fcf89df2309>\u001b[0m in \u001b[0;36m<module>\u001b[0;34m\u001b[0m\n\u001b[0;32m----> 1\u001b[0;31m \u001b[0mhistory\u001b[0m \u001b[0;34m=\u001b[0m \u001b[0mmodel\u001b[0m\u001b[0;34m.\u001b[0m\u001b[0mfit\u001b[0m\u001b[0;34m(\u001b[0m\u001b[0mX_train\u001b[0m\u001b[0;34m,\u001b[0m \u001b[0my_train\u001b[0m\u001b[0;34m,\u001b[0m \u001b[0mverbose\u001b[0m\u001b[0;34m=\u001b[0m\u001b[0mVERBOSE\u001b[0m\u001b[0;34m,\u001b[0m \u001b[0mepochs\u001b[0m\u001b[0;34m=\u001b[0m\u001b[0mEPOCH\u001b[0m\u001b[0;34m,\u001b[0m \u001b[0mbatch_size\u001b[0m\u001b[0;34m=\u001b[0m\u001b[0;36m10\u001b[0m\u001b[0;34m)\u001b[0m\u001b[0;34m\u001b[0m\u001b[0;34m\u001b[0m\u001b[0m\n\u001b[0m",
            "\u001b[0;32m/usr/local/lib/python3.7/dist-packages/keras/utils/traceback_utils.py\u001b[0m in \u001b[0;36merror_handler\u001b[0;34m(*args, **kwargs)\u001b[0m\n\u001b[1;32m     62\u001b[0m     \u001b[0mfiltered_tb\u001b[0m \u001b[0;34m=\u001b[0m \u001b[0;32mNone\u001b[0m\u001b[0;34m\u001b[0m\u001b[0;34m\u001b[0m\u001b[0m\n\u001b[1;32m     63\u001b[0m     \u001b[0;32mtry\u001b[0m\u001b[0;34m:\u001b[0m\u001b[0;34m\u001b[0m\u001b[0;34m\u001b[0m\u001b[0m\n\u001b[0;32m---> 64\u001b[0;31m       \u001b[0;32mreturn\u001b[0m \u001b[0mfn\u001b[0m\u001b[0;34m(\u001b[0m\u001b[0;34m*\u001b[0m\u001b[0margs\u001b[0m\u001b[0;34m,\u001b[0m \u001b[0;34m**\u001b[0m\u001b[0mkwargs\u001b[0m\u001b[0;34m)\u001b[0m\u001b[0;34m\u001b[0m\u001b[0;34m\u001b[0m\u001b[0m\n\u001b[0m\u001b[1;32m     65\u001b[0m     \u001b[0;32mexcept\u001b[0m \u001b[0mException\u001b[0m \u001b[0;32mas\u001b[0m \u001b[0me\u001b[0m\u001b[0;34m:\u001b[0m  \u001b[0;31m# pylint: disable=broad-except\u001b[0m\u001b[0;34m\u001b[0m\u001b[0;34m\u001b[0m\u001b[0m\n\u001b[1;32m     66\u001b[0m       \u001b[0mfiltered_tb\u001b[0m \u001b[0;34m=\u001b[0m \u001b[0m_process_traceback_frames\u001b[0m\u001b[0;34m(\u001b[0m\u001b[0me\u001b[0m\u001b[0;34m.\u001b[0m\u001b[0m__traceback__\u001b[0m\u001b[0;34m)\u001b[0m\u001b[0;34m\u001b[0m\u001b[0;34m\u001b[0m\u001b[0m\n",
            "\u001b[0;32m/usr/local/lib/python3.7/dist-packages/keras/engine/training.py\u001b[0m in \u001b[0;36mfit\u001b[0;34m(self, x, y, batch_size, epochs, verbose, callbacks, validation_split, validation_data, shuffle, class_weight, sample_weight, initial_epoch, steps_per_epoch, validation_steps, validation_batch_size, validation_freq, max_queue_size, workers, use_multiprocessing)\u001b[0m\n\u001b[1;32m   1412\u001b[0m               \u001b[0mlogs\u001b[0m \u001b[0;34m=\u001b[0m \u001b[0mtmp_logs\u001b[0m  \u001b[0;31m# No error, now safe to assign to logs.\u001b[0m\u001b[0;34m\u001b[0m\u001b[0;34m\u001b[0m\u001b[0m\n\u001b[1;32m   1413\u001b[0m               \u001b[0mend_step\u001b[0m \u001b[0;34m=\u001b[0m \u001b[0mstep\u001b[0m \u001b[0;34m+\u001b[0m \u001b[0mdata_handler\u001b[0m\u001b[0;34m.\u001b[0m\u001b[0mstep_increment\u001b[0m\u001b[0;34m\u001b[0m\u001b[0;34m\u001b[0m\u001b[0m\n\u001b[0;32m-> 1414\u001b[0;31m               \u001b[0mcallbacks\u001b[0m\u001b[0;34m.\u001b[0m\u001b[0mon_train_batch_end\u001b[0m\u001b[0;34m(\u001b[0m\u001b[0mend_step\u001b[0m\u001b[0;34m,\u001b[0m \u001b[0mlogs\u001b[0m\u001b[0;34m)\u001b[0m\u001b[0;34m\u001b[0m\u001b[0;34m\u001b[0m\u001b[0m\n\u001b[0m\u001b[1;32m   1415\u001b[0m               \u001b[0;32mif\u001b[0m \u001b[0mself\u001b[0m\u001b[0;34m.\u001b[0m\u001b[0mstop_training\u001b[0m\u001b[0;34m:\u001b[0m\u001b[0;34m\u001b[0m\u001b[0;34m\u001b[0m\u001b[0m\n\u001b[1;32m   1416\u001b[0m                 \u001b[0;32mbreak\u001b[0m\u001b[0;34m\u001b[0m\u001b[0;34m\u001b[0m\u001b[0m\n",
            "\u001b[0;32m/usr/local/lib/python3.7/dist-packages/keras/callbacks.py\u001b[0m in \u001b[0;36mon_train_batch_end\u001b[0;34m(self, batch, logs)\u001b[0m\n\u001b[1;32m    436\u001b[0m     \"\"\"\n\u001b[1;32m    437\u001b[0m     \u001b[0;32mif\u001b[0m \u001b[0mself\u001b[0m\u001b[0;34m.\u001b[0m\u001b[0m_should_call_train_batch_hooks\u001b[0m\u001b[0;34m:\u001b[0m\u001b[0;34m\u001b[0m\u001b[0;34m\u001b[0m\u001b[0m\n\u001b[0;32m--> 438\u001b[0;31m       \u001b[0mself\u001b[0m\u001b[0;34m.\u001b[0m\u001b[0m_call_batch_hook\u001b[0m\u001b[0;34m(\u001b[0m\u001b[0mModeKeys\u001b[0m\u001b[0;34m.\u001b[0m\u001b[0mTRAIN\u001b[0m\u001b[0;34m,\u001b[0m \u001b[0;34m'end'\u001b[0m\u001b[0;34m,\u001b[0m \u001b[0mbatch\u001b[0m\u001b[0;34m,\u001b[0m \u001b[0mlogs\u001b[0m\u001b[0;34m=\u001b[0m\u001b[0mlogs\u001b[0m\u001b[0;34m)\u001b[0m\u001b[0;34m\u001b[0m\u001b[0;34m\u001b[0m\u001b[0m\n\u001b[0m\u001b[1;32m    439\u001b[0m \u001b[0;34m\u001b[0m\u001b[0m\n\u001b[1;32m    440\u001b[0m   \u001b[0;32mdef\u001b[0m \u001b[0mon_test_batch_begin\u001b[0m\u001b[0;34m(\u001b[0m\u001b[0mself\u001b[0m\u001b[0;34m,\u001b[0m \u001b[0mbatch\u001b[0m\u001b[0;34m,\u001b[0m \u001b[0mlogs\u001b[0m\u001b[0;34m=\u001b[0m\u001b[0;32mNone\u001b[0m\u001b[0;34m)\u001b[0m\u001b[0;34m:\u001b[0m\u001b[0;34m\u001b[0m\u001b[0;34m\u001b[0m\u001b[0m\n",
            "\u001b[0;32m/usr/local/lib/python3.7/dist-packages/keras/callbacks.py\u001b[0m in \u001b[0;36m_call_batch_hook\u001b[0;34m(self, mode, hook, batch, logs)\u001b[0m\n\u001b[1;32m    295\u001b[0m       \u001b[0mself\u001b[0m\u001b[0;34m.\u001b[0m\u001b[0m_call_batch_begin_hook\u001b[0m\u001b[0;34m(\u001b[0m\u001b[0mmode\u001b[0m\u001b[0;34m,\u001b[0m \u001b[0mbatch\u001b[0m\u001b[0;34m,\u001b[0m \u001b[0mlogs\u001b[0m\u001b[0;34m)\u001b[0m\u001b[0;34m\u001b[0m\u001b[0;34m\u001b[0m\u001b[0m\n\u001b[1;32m    296\u001b[0m     \u001b[0;32melif\u001b[0m \u001b[0mhook\u001b[0m \u001b[0;34m==\u001b[0m \u001b[0;34m'end'\u001b[0m\u001b[0;34m:\u001b[0m\u001b[0;34m\u001b[0m\u001b[0;34m\u001b[0m\u001b[0m\n\u001b[0;32m--> 297\u001b[0;31m       \u001b[0mself\u001b[0m\u001b[0;34m.\u001b[0m\u001b[0m_call_batch_end_hook\u001b[0m\u001b[0;34m(\u001b[0m\u001b[0mmode\u001b[0m\u001b[0;34m,\u001b[0m \u001b[0mbatch\u001b[0m\u001b[0;34m,\u001b[0m \u001b[0mlogs\u001b[0m\u001b[0;34m)\u001b[0m\u001b[0;34m\u001b[0m\u001b[0;34m\u001b[0m\u001b[0m\n\u001b[0m\u001b[1;32m    298\u001b[0m     \u001b[0;32melse\u001b[0m\u001b[0;34m:\u001b[0m\u001b[0;34m\u001b[0m\u001b[0;34m\u001b[0m\u001b[0m\n\u001b[1;32m    299\u001b[0m       raise ValueError(\n",
            "\u001b[0;32m/usr/local/lib/python3.7/dist-packages/keras/callbacks.py\u001b[0m in \u001b[0;36m_call_batch_end_hook\u001b[0;34m(self, mode, batch, logs)\u001b[0m\n\u001b[1;32m    316\u001b[0m       \u001b[0mself\u001b[0m\u001b[0;34m.\u001b[0m\u001b[0m_batch_times\u001b[0m\u001b[0;34m.\u001b[0m\u001b[0mappend\u001b[0m\u001b[0;34m(\u001b[0m\u001b[0mbatch_time\u001b[0m\u001b[0;34m)\u001b[0m\u001b[0;34m\u001b[0m\u001b[0;34m\u001b[0m\u001b[0m\n\u001b[1;32m    317\u001b[0m \u001b[0;34m\u001b[0m\u001b[0m\n\u001b[0;32m--> 318\u001b[0;31m     \u001b[0mself\u001b[0m\u001b[0;34m.\u001b[0m\u001b[0m_call_batch_hook_helper\u001b[0m\u001b[0;34m(\u001b[0m\u001b[0mhook_name\u001b[0m\u001b[0;34m,\u001b[0m \u001b[0mbatch\u001b[0m\u001b[0;34m,\u001b[0m \u001b[0mlogs\u001b[0m\u001b[0;34m)\u001b[0m\u001b[0;34m\u001b[0m\u001b[0;34m\u001b[0m\u001b[0m\n\u001b[0m\u001b[1;32m    319\u001b[0m \u001b[0;34m\u001b[0m\u001b[0m\n\u001b[1;32m    320\u001b[0m     \u001b[0;32mif\u001b[0m \u001b[0mlen\u001b[0m\u001b[0;34m(\u001b[0m\u001b[0mself\u001b[0m\u001b[0;34m.\u001b[0m\u001b[0m_batch_times\u001b[0m\u001b[0;34m)\u001b[0m \u001b[0;34m>=\u001b[0m \u001b[0mself\u001b[0m\u001b[0;34m.\u001b[0m\u001b[0m_num_batches_for_timing_check\u001b[0m\u001b[0;34m:\u001b[0m\u001b[0;34m\u001b[0m\u001b[0;34m\u001b[0m\u001b[0m\n",
            "\u001b[0;32m/usr/local/lib/python3.7/dist-packages/keras/callbacks.py\u001b[0m in \u001b[0;36m_call_batch_hook_helper\u001b[0;34m(self, hook_name, batch, logs)\u001b[0m\n\u001b[1;32m    354\u001b[0m     \u001b[0;32mfor\u001b[0m \u001b[0mcallback\u001b[0m \u001b[0;32min\u001b[0m \u001b[0mself\u001b[0m\u001b[0;34m.\u001b[0m\u001b[0mcallbacks\u001b[0m\u001b[0;34m:\u001b[0m\u001b[0;34m\u001b[0m\u001b[0;34m\u001b[0m\u001b[0m\n\u001b[1;32m    355\u001b[0m       \u001b[0mhook\u001b[0m \u001b[0;34m=\u001b[0m \u001b[0mgetattr\u001b[0m\u001b[0;34m(\u001b[0m\u001b[0mcallback\u001b[0m\u001b[0;34m,\u001b[0m \u001b[0mhook_name\u001b[0m\u001b[0;34m)\u001b[0m\u001b[0;34m\u001b[0m\u001b[0;34m\u001b[0m\u001b[0m\n\u001b[0;32m--> 356\u001b[0;31m       \u001b[0mhook\u001b[0m\u001b[0;34m(\u001b[0m\u001b[0mbatch\u001b[0m\u001b[0;34m,\u001b[0m \u001b[0mlogs\u001b[0m\u001b[0;34m)\u001b[0m\u001b[0;34m\u001b[0m\u001b[0;34m\u001b[0m\u001b[0m\n\u001b[0m\u001b[1;32m    357\u001b[0m \u001b[0;34m\u001b[0m\u001b[0m\n\u001b[1;32m    358\u001b[0m     \u001b[0;32mif\u001b[0m \u001b[0mself\u001b[0m\u001b[0;34m.\u001b[0m\u001b[0m_check_timing\u001b[0m\u001b[0;34m:\u001b[0m\u001b[0;34m\u001b[0m\u001b[0;34m\u001b[0m\u001b[0m\n",
            "\u001b[0;32m/usr/local/lib/python3.7/dist-packages/keras/callbacks.py\u001b[0m in \u001b[0;36mon_train_batch_end\u001b[0;34m(self, batch, logs)\u001b[0m\n\u001b[1;32m   1032\u001b[0m \u001b[0;34m\u001b[0m\u001b[0m\n\u001b[1;32m   1033\u001b[0m   \u001b[0;32mdef\u001b[0m \u001b[0mon_train_batch_end\u001b[0m\u001b[0;34m(\u001b[0m\u001b[0mself\u001b[0m\u001b[0;34m,\u001b[0m \u001b[0mbatch\u001b[0m\u001b[0;34m,\u001b[0m \u001b[0mlogs\u001b[0m\u001b[0;34m=\u001b[0m\u001b[0;32mNone\u001b[0m\u001b[0;34m)\u001b[0m\u001b[0;34m:\u001b[0m\u001b[0;34m\u001b[0m\u001b[0;34m\u001b[0m\u001b[0m\n\u001b[0;32m-> 1034\u001b[0;31m     \u001b[0mself\u001b[0m\u001b[0;34m.\u001b[0m\u001b[0m_batch_update_progbar\u001b[0m\u001b[0;34m(\u001b[0m\u001b[0mbatch\u001b[0m\u001b[0;34m,\u001b[0m \u001b[0mlogs\u001b[0m\u001b[0;34m)\u001b[0m\u001b[0;34m\u001b[0m\u001b[0;34m\u001b[0m\u001b[0m\n\u001b[0m\u001b[1;32m   1035\u001b[0m \u001b[0;34m\u001b[0m\u001b[0m\n\u001b[1;32m   1036\u001b[0m   \u001b[0;32mdef\u001b[0m \u001b[0mon_test_batch_end\u001b[0m\u001b[0;34m(\u001b[0m\u001b[0mself\u001b[0m\u001b[0;34m,\u001b[0m \u001b[0mbatch\u001b[0m\u001b[0;34m,\u001b[0m \u001b[0mlogs\u001b[0m\u001b[0;34m=\u001b[0m\u001b[0;32mNone\u001b[0m\u001b[0;34m)\u001b[0m\u001b[0;34m:\u001b[0m\u001b[0;34m\u001b[0m\u001b[0;34m\u001b[0m\u001b[0m\n",
            "\u001b[0;32m/usr/local/lib/python3.7/dist-packages/keras/callbacks.py\u001b[0m in \u001b[0;36m_batch_update_progbar\u001b[0;34m(self, batch, logs)\u001b[0m\n\u001b[1;32m   1104\u001b[0m     \u001b[0;32mif\u001b[0m \u001b[0mself\u001b[0m\u001b[0;34m.\u001b[0m\u001b[0mverbose\u001b[0m \u001b[0;34m==\u001b[0m \u001b[0;36m1\u001b[0m\u001b[0;34m:\u001b[0m\u001b[0;34m\u001b[0m\u001b[0;34m\u001b[0m\u001b[0m\n\u001b[1;32m   1105\u001b[0m       \u001b[0;31m# Only block async when verbose = 1.\u001b[0m\u001b[0;34m\u001b[0m\u001b[0;34m\u001b[0m\u001b[0;34m\u001b[0m\u001b[0m\n\u001b[0;32m-> 1106\u001b[0;31m       \u001b[0mlogs\u001b[0m \u001b[0;34m=\u001b[0m \u001b[0mtf_utils\u001b[0m\u001b[0;34m.\u001b[0m\u001b[0msync_to_numpy_or_python_type\u001b[0m\u001b[0;34m(\u001b[0m\u001b[0mlogs\u001b[0m\u001b[0;34m)\u001b[0m\u001b[0;34m\u001b[0m\u001b[0;34m\u001b[0m\u001b[0m\n\u001b[0m\u001b[1;32m   1107\u001b[0m       \u001b[0mself\u001b[0m\u001b[0;34m.\u001b[0m\u001b[0mprogbar\u001b[0m\u001b[0;34m.\u001b[0m\u001b[0mupdate\u001b[0m\u001b[0;34m(\u001b[0m\u001b[0mself\u001b[0m\u001b[0;34m.\u001b[0m\u001b[0mseen\u001b[0m\u001b[0;34m,\u001b[0m \u001b[0mlist\u001b[0m\u001b[0;34m(\u001b[0m\u001b[0mlogs\u001b[0m\u001b[0;34m.\u001b[0m\u001b[0mitems\u001b[0m\u001b[0;34m(\u001b[0m\u001b[0;34m)\u001b[0m\u001b[0;34m)\u001b[0m\u001b[0;34m,\u001b[0m \u001b[0mfinalize\u001b[0m\u001b[0;34m=\u001b[0m\u001b[0;32mFalse\u001b[0m\u001b[0;34m)\u001b[0m\u001b[0;34m\u001b[0m\u001b[0;34m\u001b[0m\u001b[0m\n\u001b[1;32m   1108\u001b[0m \u001b[0;34m\u001b[0m\u001b[0m\n",
            "\u001b[0;32m/usr/local/lib/python3.7/dist-packages/keras/utils/tf_utils.py\u001b[0m in \u001b[0;36msync_to_numpy_or_python_type\u001b[0;34m(tensors)\u001b[0m\n\u001b[1;32m    605\u001b[0m     \u001b[0;32mreturn\u001b[0m \u001b[0mt\u001b[0m\u001b[0;34m.\u001b[0m\u001b[0mitem\u001b[0m\u001b[0;34m(\u001b[0m\u001b[0;34m)\u001b[0m \u001b[0;32mif\u001b[0m \u001b[0mnp\u001b[0m\u001b[0;34m.\u001b[0m\u001b[0mndim\u001b[0m\u001b[0;34m(\u001b[0m\u001b[0mt\u001b[0m\u001b[0;34m)\u001b[0m \u001b[0;34m==\u001b[0m \u001b[0;36m0\u001b[0m \u001b[0;32melse\u001b[0m \u001b[0mt\u001b[0m\u001b[0;34m\u001b[0m\u001b[0;34m\u001b[0m\u001b[0m\n\u001b[1;32m    606\u001b[0m \u001b[0;34m\u001b[0m\u001b[0m\n\u001b[0;32m--> 607\u001b[0;31m   \u001b[0;32mreturn\u001b[0m \u001b[0mtf\u001b[0m\u001b[0;34m.\u001b[0m\u001b[0mnest\u001b[0m\u001b[0;34m.\u001b[0m\u001b[0mmap_structure\u001b[0m\u001b[0;34m(\u001b[0m\u001b[0m_to_single_numpy_or_python_type\u001b[0m\u001b[0;34m,\u001b[0m \u001b[0mtensors\u001b[0m\u001b[0;34m)\u001b[0m\u001b[0;34m\u001b[0m\u001b[0;34m\u001b[0m\u001b[0m\n\u001b[0m\u001b[1;32m    608\u001b[0m \u001b[0;34m\u001b[0m\u001b[0m\n\u001b[1;32m    609\u001b[0m \u001b[0;34m\u001b[0m\u001b[0m\n",
            "\u001b[0;32m/usr/local/lib/python3.7/dist-packages/tensorflow/python/util/nest.py\u001b[0m in \u001b[0;36mmap_structure\u001b[0;34m(func, *structure, **kwargs)\u001b[0m\n\u001b[1;32m    914\u001b[0m \u001b[0;34m\u001b[0m\u001b[0m\n\u001b[1;32m    915\u001b[0m   return pack_sequence_as(\n\u001b[0;32m--> 916\u001b[0;31m       \u001b[0mstructure\u001b[0m\u001b[0;34m[\u001b[0m\u001b[0;36m0\u001b[0m\u001b[0;34m]\u001b[0m\u001b[0;34m,\u001b[0m \u001b[0;34m[\u001b[0m\u001b[0mfunc\u001b[0m\u001b[0;34m(\u001b[0m\u001b[0;34m*\u001b[0m\u001b[0mx\u001b[0m\u001b[0;34m)\u001b[0m \u001b[0;32mfor\u001b[0m \u001b[0mx\u001b[0m \u001b[0;32min\u001b[0m \u001b[0mentries\u001b[0m\u001b[0;34m]\u001b[0m\u001b[0;34m,\u001b[0m\u001b[0;34m\u001b[0m\u001b[0;34m\u001b[0m\u001b[0m\n\u001b[0m\u001b[1;32m    917\u001b[0m       expand_composites=expand_composites)\n\u001b[1;32m    918\u001b[0m \u001b[0;34m\u001b[0m\u001b[0m\n",
            "\u001b[0;32m/usr/local/lib/python3.7/dist-packages/tensorflow/python/util/nest.py\u001b[0m in \u001b[0;36m<listcomp>\u001b[0;34m(.0)\u001b[0m\n\u001b[1;32m    914\u001b[0m \u001b[0;34m\u001b[0m\u001b[0m\n\u001b[1;32m    915\u001b[0m   return pack_sequence_as(\n\u001b[0;32m--> 916\u001b[0;31m       \u001b[0mstructure\u001b[0m\u001b[0;34m[\u001b[0m\u001b[0;36m0\u001b[0m\u001b[0;34m]\u001b[0m\u001b[0;34m,\u001b[0m \u001b[0;34m[\u001b[0m\u001b[0mfunc\u001b[0m\u001b[0;34m(\u001b[0m\u001b[0;34m*\u001b[0m\u001b[0mx\u001b[0m\u001b[0;34m)\u001b[0m \u001b[0;32mfor\u001b[0m \u001b[0mx\u001b[0m \u001b[0;32min\u001b[0m \u001b[0mentries\u001b[0m\u001b[0;34m]\u001b[0m\u001b[0;34m,\u001b[0m\u001b[0;34m\u001b[0m\u001b[0;34m\u001b[0m\u001b[0m\n\u001b[0m\u001b[1;32m    917\u001b[0m       expand_composites=expand_composites)\n\u001b[1;32m    918\u001b[0m \u001b[0;34m\u001b[0m\u001b[0m\n",
            "\u001b[0;32m/usr/local/lib/python3.7/dist-packages/keras/utils/tf_utils.py\u001b[0m in \u001b[0;36m_to_single_numpy_or_python_type\u001b[0;34m(t)\u001b[0m\n\u001b[1;32m    599\u001b[0m     \u001b[0;31m# Don't turn ragged or sparse tensors to NumPy.\u001b[0m\u001b[0;34m\u001b[0m\u001b[0;34m\u001b[0m\u001b[0;34m\u001b[0m\u001b[0m\n\u001b[1;32m    600\u001b[0m     \u001b[0;32mif\u001b[0m \u001b[0misinstance\u001b[0m\u001b[0;34m(\u001b[0m\u001b[0mt\u001b[0m\u001b[0;34m,\u001b[0m \u001b[0mtf\u001b[0m\u001b[0;34m.\u001b[0m\u001b[0mTensor\u001b[0m\u001b[0;34m)\u001b[0m\u001b[0;34m:\u001b[0m\u001b[0;34m\u001b[0m\u001b[0;34m\u001b[0m\u001b[0m\n\u001b[0;32m--> 601\u001b[0;31m       \u001b[0mt\u001b[0m \u001b[0;34m=\u001b[0m \u001b[0mt\u001b[0m\u001b[0;34m.\u001b[0m\u001b[0mnumpy\u001b[0m\u001b[0;34m(\u001b[0m\u001b[0;34m)\u001b[0m\u001b[0;34m\u001b[0m\u001b[0;34m\u001b[0m\u001b[0m\n\u001b[0m\u001b[1;32m    602\u001b[0m     \u001b[0;31m# Strings, ragged and sparse tensors don't have .item(). Return them as-is.\u001b[0m\u001b[0;34m\u001b[0m\u001b[0;34m\u001b[0m\u001b[0;34m\u001b[0m\u001b[0m\n\u001b[1;32m    603\u001b[0m     \u001b[0;32mif\u001b[0m \u001b[0;32mnot\u001b[0m \u001b[0misinstance\u001b[0m\u001b[0;34m(\u001b[0m\u001b[0mt\u001b[0m\u001b[0;34m,\u001b[0m \u001b[0;34m(\u001b[0m\u001b[0mnp\u001b[0m\u001b[0;34m.\u001b[0m\u001b[0mndarray\u001b[0m\u001b[0;34m,\u001b[0m \u001b[0mnp\u001b[0m\u001b[0;34m.\u001b[0m\u001b[0mgeneric\u001b[0m\u001b[0;34m)\u001b[0m\u001b[0;34m)\u001b[0m\u001b[0;34m:\u001b[0m\u001b[0;34m\u001b[0m\u001b[0;34m\u001b[0m\u001b[0m\n",
            "\u001b[0;32m/usr/local/lib/python3.7/dist-packages/tensorflow/python/framework/ops.py\u001b[0m in \u001b[0;36mnumpy\u001b[0;34m(self)\u001b[0m\n\u001b[1;32m   1157\u001b[0m     \"\"\"\n\u001b[1;32m   1158\u001b[0m     \u001b[0;31m# TODO(slebedev): Consider avoiding a copy for non-CPU or remote tensors.\u001b[0m\u001b[0;34m\u001b[0m\u001b[0;34m\u001b[0m\u001b[0;34m\u001b[0m\u001b[0m\n\u001b[0;32m-> 1159\u001b[0;31m     \u001b[0mmaybe_arr\u001b[0m \u001b[0;34m=\u001b[0m \u001b[0mself\u001b[0m\u001b[0;34m.\u001b[0m\u001b[0m_numpy\u001b[0m\u001b[0;34m(\u001b[0m\u001b[0;34m)\u001b[0m  \u001b[0;31m# pylint: disable=protected-access\u001b[0m\u001b[0;34m\u001b[0m\u001b[0;34m\u001b[0m\u001b[0m\n\u001b[0m\u001b[1;32m   1160\u001b[0m     \u001b[0;32mreturn\u001b[0m \u001b[0mmaybe_arr\u001b[0m\u001b[0;34m.\u001b[0m\u001b[0mcopy\u001b[0m\u001b[0;34m(\u001b[0m\u001b[0;34m)\u001b[0m \u001b[0;32mif\u001b[0m \u001b[0misinstance\u001b[0m\u001b[0;34m(\u001b[0m\u001b[0mmaybe_arr\u001b[0m\u001b[0;34m,\u001b[0m \u001b[0mnp\u001b[0m\u001b[0;34m.\u001b[0m\u001b[0mndarray\u001b[0m\u001b[0;34m)\u001b[0m \u001b[0;32melse\u001b[0m \u001b[0mmaybe_arr\u001b[0m\u001b[0;34m\u001b[0m\u001b[0;34m\u001b[0m\u001b[0m\n\u001b[1;32m   1161\u001b[0m \u001b[0;34m\u001b[0m\u001b[0m\n",
            "\u001b[0;32m/usr/local/lib/python3.7/dist-packages/tensorflow/python/framework/ops.py\u001b[0m in \u001b[0;36m_numpy\u001b[0;34m(self)\u001b[0m\n\u001b[1;32m   1123\u001b[0m   \u001b[0;32mdef\u001b[0m \u001b[0m_numpy\u001b[0m\u001b[0;34m(\u001b[0m\u001b[0mself\u001b[0m\u001b[0;34m)\u001b[0m\u001b[0;34m:\u001b[0m\u001b[0;34m\u001b[0m\u001b[0;34m\u001b[0m\u001b[0m\n\u001b[1;32m   1124\u001b[0m     \u001b[0;32mtry\u001b[0m\u001b[0;34m:\u001b[0m\u001b[0;34m\u001b[0m\u001b[0;34m\u001b[0m\u001b[0m\n\u001b[0;32m-> 1125\u001b[0;31m       \u001b[0;32mreturn\u001b[0m \u001b[0mself\u001b[0m\u001b[0;34m.\u001b[0m\u001b[0m_numpy_internal\u001b[0m\u001b[0;34m(\u001b[0m\u001b[0;34m)\u001b[0m\u001b[0;34m\u001b[0m\u001b[0;34m\u001b[0m\u001b[0m\n\u001b[0m\u001b[1;32m   1126\u001b[0m     \u001b[0;32mexcept\u001b[0m \u001b[0mcore\u001b[0m\u001b[0;34m.\u001b[0m\u001b[0m_NotOkStatusException\u001b[0m \u001b[0;32mas\u001b[0m \u001b[0me\u001b[0m\u001b[0;34m:\u001b[0m  \u001b[0;31m# pylint: disable=protected-access\u001b[0m\u001b[0;34m\u001b[0m\u001b[0;34m\u001b[0m\u001b[0m\n\u001b[1;32m   1127\u001b[0m       \u001b[0;32mraise\u001b[0m \u001b[0mcore\u001b[0m\u001b[0;34m.\u001b[0m\u001b[0m_status_to_exception\u001b[0m\u001b[0;34m(\u001b[0m\u001b[0me\u001b[0m\u001b[0;34m)\u001b[0m \u001b[0;32mfrom\u001b[0m \u001b[0;32mNone\u001b[0m  \u001b[0;31m# pylint: disable=protected-access\u001b[0m\u001b[0;34m\u001b[0m\u001b[0;34m\u001b[0m\u001b[0m\n",
            "\u001b[0;31mKeyboardInterrupt\u001b[0m: "
          ]
        }
      ]
    }
  ]
}